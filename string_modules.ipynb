{
  "nbformat": 4,
  "nbformat_minor": 0,
  "metadata": {
    "colab": {
      "provenance": []
    },
    "kernelspec": {
      "name": "python3",
      "display_name": "Python 3"
    },
    "language_info": {
      "name": "python"
    }
  },
  "cells": [
    {
      "cell_type": "markdown",
      "source": [
        "#string modulü\n",
        "\n",
        "\n",
        "```\n",
        "# import string\n",
        "```\n",
        "\n"
      ],
      "metadata": {
        "id": "jE5Z2MV7hQXW"
      }
    },
    {
      "cell_type": "markdown",
      "source": [
        "**string.ascii_letters**:\n",
        "ascii_lowercase + ascii_uppercase\n",
        "\n",
        "**string.ascii_lowercase** :\n",
        "'abcdefghijklmnopqrstuvwxyz'.\n",
        "\n",
        "**string.ascii_uppercase**:\n",
        "'ABCDEFGHIJKLMNOPQRSTUVWXYZ'.\n",
        "\n",
        "**string.digits**:\n",
        "'0123456789'.\n",
        "\n",
        "**string.hexdigits** :\n",
        "'0123456789abcdefABCDEF'.\n",
        "\n",
        "**string.octdigits**\n",
        "'01234567'.\n",
        "\n",
        "**string.punctuation**\n",
        "Özel karakterler, noktalama işaretleri:  `!\"#$%&'()*+,-./:;<=>?@[\\]^_`{|}~.`\n",
        "\n",
        "**string.printable**\n",
        "printable (print edilebilen) tüm karakterleri döndürür:\n",
        "digits + ascii_letters + punctuation + whitespace.\n",
        "\n",
        "**string.whitespace**\n",
        "Boşluk(space) karakterlerini döndürür:  \n",
        "space, tab, linefeed, return, formfeed, and vertical tab."
      ],
      "metadata": {
        "id": "iXgWzU87hTjP"
      }
    },
    {
      "cell_type": "code",
      "source": [
        "import string\n",
        "dir(string)[-10:]  # string metotları listesini alalım"
      ],
      "metadata": {
        "colab": {
          "base_uri": "https://localhost:8080/"
        },
        "id": "u7APAizDhB_I",
        "outputId": "3d84eaca-e223-4972-dce4-7942ff75bf0f"
      },
      "execution_count": 15,
      "outputs": [
        {
          "output_type": "execute_result",
          "data": {
            "text/plain": [
              "['ascii_letters',\n",
              " 'ascii_lowercase',\n",
              " 'ascii_uppercase',\n",
              " 'capwords',\n",
              " 'digits',\n",
              " 'hexdigits',\n",
              " 'octdigits',\n",
              " 'printable',\n",
              " 'punctuation',\n",
              " 'whitespace']"
            ]
          },
          "metadata": {},
          "execution_count": 15
        }
      ]
    },
    {
      "cell_type": "code",
      "source": [
        "import string\n",
        "string.ascii_letters"
      ],
      "metadata": {
        "colab": {
          "base_uri": "https://localhost:8080/",
          "height": 35
        },
        "id": "ul3jIRABjX2o",
        "outputId": "13cf6849-d683-49e8-d1ab-14bd765db43c"
      },
      "execution_count": 16,
      "outputs": [
        {
          "output_type": "execute_result",
          "data": {
            "text/plain": [
              "'abcdefghijklmnopqrstuvwxyzABCDEFGHIJKLMNOPQRSTUVWXYZ'"
            ],
            "application/vnd.google.colaboratory.intrinsic+json": {
              "type": "string"
            }
          },
          "metadata": {},
          "execution_count": 16
        }
      ]
    },
    {
      "cell_type": "code",
      "source": [
        "string.ascii_uppercase"
      ],
      "metadata": {
        "colab": {
          "base_uri": "https://localhost:8080/",
          "height": 35
        },
        "id": "HQDUdrC-jct1",
        "outputId": "a24d069b-12f2-428e-9b25-3088ef3f2d1c"
      },
      "execution_count": 17,
      "outputs": [
        {
          "output_type": "execute_result",
          "data": {
            "text/plain": [
              "'ABCDEFGHIJKLMNOPQRSTUVWXYZ'"
            ],
            "application/vnd.google.colaboratory.intrinsic+json": {
              "type": "string"
            }
          },
          "metadata": {},
          "execution_count": 17
        }
      ]
    },
    {
      "cell_type": "code",
      "source": [
        "#password üreteci\n",
        "# en az 1 adet küçük harf, büyük harf, noktalama işareti, rakam\n",
        "import string as st\n",
        "import random\n",
        "sifre = random.sample(st.ascii_lowercase,1) \\\n",
        "+ random.sample(st.ascii_uppercase,1) \\\n",
        "+ random.sample(st.punctuation,1) \\\n",
        "+ random.sample(st.digits,1) \\\n",
        "+ random.sample(st.ascii_letters,4)\n",
        "#print(sifre)\n",
        "#stringe dönüştürelim\n",
        "print(\"\".join(sifre))"
      ],
      "metadata": {
        "colab": {
          "base_uri": "https://localhost:8080/"
        },
        "id": "d4oq06LIjge6",
        "outputId": "3051e263-f558-4c89-a8de-9c868216d3f8"
      },
      "execution_count": 33,
      "outputs": [
        {
          "output_type": "stream",
          "name": "stdout",
          "text": [
            "vD#2ABKF\n"
          ]
        }
      ]
    },
    {
      "cell_type": "code",
      "execution_count": 35,
      "metadata": {
        "colab": {
          "base_uri": "https://localhost:8080/"
        },
        "id": "iAsv66clfFPn",
        "outputId": "53c3d674-fdd0-4163-9f6c-6d044f97488e"
      },
      "outputs": [
        {
          "output_type": "stream",
          "name": "stdout",
          "text": [
            "W:=7AAx/\n"
          ]
        }
      ],
      "source": [
        "import string\n",
        "import random\n",
        "\n",
        "def generate_password(length=16):\n",
        "  \"\"\"istenilen uzunlukta password oluşturur.\n",
        "  \"\"\"\n",
        "\n",
        "  # Tüm harfleri, sayıları ve sembolleri içeren bir karakter kümesi oluştur.\n",
        "  characters = string.ascii_letters + string.digits + string.punctuation\n",
        "\n",
        "  # Belirtilen uzunlukta rastgele bir şifre oluştur.\n",
        "  password = ''.join(random.choice(characters) for _ in range(length))\n",
        "\n",
        "  # Şifreyi döndür.\n",
        "  return password\n",
        "\n",
        "password = generate_password(8)\n",
        "print(password)"
      ]
    }
  ]
}