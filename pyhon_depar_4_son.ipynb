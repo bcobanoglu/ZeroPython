{
  "nbformat": 4,
  "nbformat_minor": 0,
  "metadata": {
    "colab": {
      "provenance": []
    },
    "kernelspec": {
      "name": "python3",
      "display_name": "Python 3"
    },
    "language_info": {
      "name": "python"
    }
  },
  "cells": [
    {
      "cell_type": "markdown",
      "source": [
        "# Nested looops"
      ],
      "metadata": {
        "id": "eXir9-3CBeZc"
      }
    },
    {
      "cell_type": "code",
      "execution_count": 6,
      "metadata": {
        "colab": {
          "base_uri": "https://localhost:8080/"
        },
        "id": "B3POZPm3BGoL",
        "outputId": "0607157f-6359-4b42-c378-ec5537852eca"
      },
      "outputs": [
        {
          "output_type": "stream",
          "name": "stdout",
          "text": [
            "1\t2\t3\t4\t5\t6\t7\t8\t9\t\n",
            "2\t4\t6\t8\t10\t12\t14\t16\t18\t\n",
            "3\t6\t9\t12\t15\t18\t21\t24\t27\t\n",
            "4\t8\t12\t16\t20\t24\t28\t32\t36\t\n",
            "5\t10\t15\t20\t25\t30\t35\t40\t45\t\n"
          ]
        }
      ],
      "source": [
        "# çarpım tablosu örneği\n",
        "for i in range(1,6):         # satır\n",
        "    for j in range(1,10):    # sütun\n",
        "        print(f\"{i*j}\\t\", end=\"\")\n",
        "    print()  # içteki işin bitince (sütundaki ilerlemen bitince) bir alt satıra geç\n"
      ]
    },
    {
      "cell_type": "code",
      "source": [
        "# çarpım tablosu örneği\n",
        "for i in range(1,11):         # satır\n",
        "    for j in range(1,11):    # sütun\n",
        "        print(f\"{i}*{j}={i*j}\\t\", end=\"\")\n",
        "    print()  # içteki işin bitince (sütundaki ilerlemen bitince) bir alt satıra geç"
      ],
      "metadata": {
        "colab": {
          "base_uri": "https://localhost:8080/"
        },
        "id": "Wk9OeDXRC_i4",
        "outputId": "d591a626-5ac1-47fb-c6af-faab771a1f34"
      },
      "execution_count": 9,
      "outputs": [
        {
          "output_type": "stream",
          "name": "stdout",
          "text": [
            "1*1=1\t1*2=2\t1*3=3\t1*4=4\t1*5=5\t1*6=6\t1*7=7\t1*8=8\t1*9=9\t1*10=10\t\n",
            "2*1=2\t2*2=4\t2*3=6\t2*4=8\t2*5=10\t2*6=12\t2*7=14\t2*8=16\t2*9=18\t2*10=20\t\n",
            "3*1=3\t3*2=6\t3*3=9\t3*4=12\t3*5=15\t3*6=18\t3*7=21\t3*8=24\t3*9=27\t3*10=30\t\n",
            "4*1=4\t4*2=8\t4*3=12\t4*4=16\t4*5=20\t4*6=24\t4*7=28\t4*8=32\t4*9=36\t4*10=40\t\n",
            "5*1=5\t5*2=10\t5*3=15\t5*4=20\t5*5=25\t5*6=30\t5*7=35\t5*8=40\t5*9=45\t5*10=50\t\n",
            "6*1=6\t6*2=12\t6*3=18\t6*4=24\t6*5=30\t6*6=36\t6*7=42\t6*8=48\t6*9=54\t6*10=60\t\n",
            "7*1=7\t7*2=14\t7*3=21\t7*4=28\t7*5=35\t7*6=42\t7*7=49\t7*8=56\t7*9=63\t7*10=70\t\n",
            "8*1=8\t8*2=16\t8*3=24\t8*4=32\t8*5=40\t8*6=48\t8*7=56\t8*8=64\t8*9=72\t8*10=80\t\n",
            "9*1=9\t9*2=18\t9*3=27\t9*4=36\t9*5=45\t9*6=54\t9*7=63\t9*8=72\t9*9=81\t9*10=90\t\n",
            "10*1=10\t10*2=20\t10*3=30\t10*4=40\t10*5=50\t10*6=60\t10*7=70\t10*8=80\t10*9=90\t10*10=100\t\n"
          ]
        }
      ]
    },
    {
      "cell_type": "code",
      "source": [
        "calisan = [\"Doğu\", \"Özge\", \"Ceren\",\"Emre\",\"Fatma\"]\n",
        "mod = [\"mutlu\", \"mutsuz\", \"nötr\"]\n",
        "for c in calisan:\n",
        "    for m in mod:\n",
        "        print(c, m)\n",
        "    print()"
      ],
      "metadata": {
        "id": "lgBlfHiHDVbQ"
      },
      "execution_count": null,
      "outputs": []
    },
    {
      "cell_type": "code",
      "source": [
        "calisan = [\"Doğu\", \"Özge\", \"Ceren\",\"Emre\",\"Fatma\"]\n",
        "zaman = [\"bugün\", \"her zaman\"]\n",
        "mod = [\"mutlu\", \"mutsuz\", \"nötr\"]\n",
        "\n",
        "for c in calisan:\n",
        "    for z in zaman:\n",
        "        for m in mod:\n",
        "            print(c, z, m)\n",
        "    print()"
      ],
      "metadata": {
        "id": "UQkk2vCqDzYP"
      },
      "execution_count": null,
      "outputs": []
    },
    {
      "cell_type": "code",
      "source": [
        "#01234\n",
        "\"ATATÜRK\"[4]  #4.indisli karakteri"
      ],
      "metadata": {
        "colab": {
          "base_uri": "https://localhost:8080/",
          "height": 35
        },
        "id": "S9ozanApGnbE",
        "outputId": "d1773271-5d07-4e12-b19a-8d72ba9f2e5e"
      },
      "execution_count": 17,
      "outputs": [
        {
          "output_type": "execute_result",
          "data": {
            "text/plain": [
              "'Ü'"
            ],
            "application/vnd.google.colaboratory.intrinsic+json": {
              "type": "string"
            }
          },
          "metadata": {},
          "execution_count": 17
        }
      ]
    },
    {
      "cell_type": "code",
      "source": [
        "text = \"ATATÜRK\"\n",
        "for i in range(1,len(text)+1):        #for i in range(7):\n",
        "    for j in range(i):\n",
        "        print(text[j], end=\"\") \n",
        "    print()                    # "
      ],
      "metadata": {
        "colab": {
          "base_uri": "https://localhost:8080/"
        },
        "id": "hakuMgxIF8Ve",
        "outputId": "1e3cdc8b-9f08-4074-856f-0ed5d7491424"
      },
      "execution_count": 15,
      "outputs": [
        {
          "output_type": "stream",
          "name": "stdout",
          "text": [
            "A\n",
            "AT\n",
            "ATA\n",
            "ATAT\n",
            "ATATÜ\n",
            "ATATÜR\n",
            "ATATÜRK\n"
          ]
        }
      ]
    },
    {
      "cell_type": "code",
      "source": [
        "j = 1\n",
        "for i in range(1,11):\n",
        "    print(f\"{i*j}\\t\", end=\"\")\n",
        "    j+=1\n",
        "      "
      ],
      "metadata": {
        "colab": {
          "base_uri": "https://localhost:8080/"
        },
        "id": "JiP5tdayG2Om",
        "outputId": "66af9310-c559-4a7b-8d29-277ef1b343a2"
      },
      "execution_count": 23,
      "outputs": [
        {
          "output_type": "stream",
          "name": "stdout",
          "text": [
            "1\t4\t9\t16\t25\t36\t49\t64\t81\t100\t"
          ]
        }
      ]
    },
    {
      "cell_type": "code",
      "source": [
        "import random\n",
        "katilanlar = [ \"Doğu\", \"Özge\", \"Ceren\",\"Emre\",\"Fatma\"]\n",
        "print(\"Günün Talihlisi...: \")\n",
        "talihli = random.choice(katilanlar) #listeden rastgele birini al\n",
        "print(talihli)"
      ],
      "metadata": {
        "colab": {
          "base_uri": "https://localhost:8080/"
        },
        "id": "hZJFpiw1II9n",
        "outputId": "a1228925-49c9-4450-8182-707eb40bf3f0"
      },
      "execution_count": 26,
      "outputs": [
        {
          "output_type": "stream",
          "name": "stdout",
          "text": [
            "Günün Talihlisi...: \n",
            "Emre\n"
          ]
        }
      ]
    },
    {
      "cell_type": "code",
      "source": [
        "from random import sample\n",
        "#sample: listeden k adet örnek seçer\n",
        "sample(['red', 'red', 'red', 'yellow', 'blue', 'blue'], k=3)"
      ],
      "metadata": {
        "colab": {
          "base_uri": "https://localhost:8080/"
        },
        "id": "W5tODD9dJX4a",
        "outputId": "5377c94c-cde0-48e3-cd50-e674ef7dc7fa"
      },
      "execution_count": 41,
      "outputs": [
        {
          "output_type": "execute_result",
          "data": {
            "text/plain": [
              "['yellow', 'blue', 'red']"
            ]
          },
          "metadata": {},
          "execution_count": 41
        }
      ]
    },
    {
      "cell_type": "code",
      "source": [
        "# Sayısal Loto\n",
        "import random\n",
        "nums = range(1,50)\n",
        "loto_nums = random.sample(nums, k=6)\n",
        "print(\"Loto.:\", loto_nums)"
      ],
      "metadata": {
        "colab": {
          "base_uri": "https://localhost:8080/"
        },
        "id": "14nvyr-YI1C7",
        "outputId": "54e63746-96a7-4a54-b28a-149988879acc"
      },
      "execution_count": 48,
      "outputs": [
        {
          "output_type": "stream",
          "name": "stdout",
          "text": [
            "Loto.: [48, 30, 17, 4, 43, 42]\n"
          ]
        }
      ]
    },
    {
      "cell_type": "code",
      "source": [
        "# Sayısal Loto\n",
        "import random\n",
        "random.seed(101)  # rastgele üretilen sonucu sabitlemek için kullanılır\n",
        "nums = range(1,50)\n",
        "loto_nums = random.sample(nums, k=6)\n",
        "print(\"Loto.:\", loto_nums)"
      ],
      "metadata": {
        "colab": {
          "base_uri": "https://localhost:8080/"
        },
        "id": "yMuW8vapJzLG",
        "outputId": "b2d6b041-5e3e-4742-8203-f7c983680a0e"
      },
      "execution_count": 56,
      "outputs": [
        {
          "output_type": "stream",
          "name": "stdout",
          "text": [
            "Loto.: [38, 13, 35, 23, 30, 4]\n"
          ]
        }
      ]
    },
    {
      "cell_type": "code",
      "source": [
        "import random\n",
        "random.randint(1,5)  #5 dahil"
      ],
      "metadata": {
        "colab": {
          "base_uri": "https://localhost:8080/"
        },
        "id": "FJAlVn7_KY6Z",
        "outputId": "46a45f84-2165-4f84-9a38-8151a61689bd"
      },
      "execution_count": 52,
      "outputs": [
        {
          "output_type": "execute_result",
          "data": {
            "text/plain": [
              "5"
            ]
          },
          "metadata": {},
          "execution_count": 52
        }
      ]
    },
    {
      "cell_type": "code",
      "source": [
        "#sayısal loto: randint\n",
        "import random\n",
        "random.seed(100)  # rastgele üretilen sonucu sabitlemek için kullanılır\n",
        "loto_nums = []\n",
        "print(\"Loto.:\")\n",
        "for i in range(6):\n",
        "    loto_nums.append(random.randint(1,49))  # listeye üretileni ekler\n",
        "\n",
        "#listeyi yazdır\n",
        "print(loto_nums)"
      ],
      "metadata": {
        "colab": {
          "base_uri": "https://localhost:8080/"
        },
        "id": "uY70or6VKCeV",
        "outputId": "23c8fdc1-c146-4e43-b006-e520280c3bfc"
      },
      "execution_count": 54,
      "outputs": [
        {
          "output_type": "stream",
          "name": "stdout",
          "text": [
            "Loto.:\n",
            "[10, 30, 30, 12, 46, 26]\n"
          ]
        }
      ]
    },
    {
      "cell_type": "code",
      "source": [
        "#Soru: Yukarıdaki listede tekrarlı sayıları nasıl kaldırıp, yeni sayılar üretebiliriz."
      ],
      "metadata": {
        "id": "At4iXG4bLJ8Y"
      },
      "execution_count": null,
      "outputs": []
    },
    {
      "cell_type": "code",
      "source": [
        "#Sayı tahmin oyunu\n",
        "import random\n",
        "tutulan = random.randint(1,100)  # bilg. tuttuğu sayı\n",
        "puan = 100\n",
        "while True:\n",
        "    tahmin = int(input(\"Tahmininiz.:\"))\n",
        "    if tahmin==tutulan:\n",
        "        print(\"Bravo bildiniz\")\n",
        "        break  # döngüden çık\n",
        "    elif tahmin<tutulan:\n",
        "        print(\"Daha büyük giriniz\")\n",
        "        puan = puan - 10\n",
        "    else:\n",
        "        print(\"Daha küçük sayı giriniz\")\n",
        "        puan = puan - 10\n",
        "\n",
        "print(\"Puanınız.:\", puan)"
      ],
      "metadata": {
        "colab": {
          "base_uri": "https://localhost:8080/"
        },
        "id": "pn5LiyT8N5bO",
        "outputId": "750a54a8-c80d-4327-c1a0-319c3e330e37"
      },
      "execution_count": 62,
      "outputs": [
        {
          "output_type": "stream",
          "name": "stdout",
          "text": [
            "Tahmininiz.:45\n",
            "Daha küçük sayı giriniz\n",
            "Tahmininiz.:35\n",
            "Daha büyük giriniz\n",
            "Tahmininiz.:39\n",
            "Daha küçük sayı giriniz\n",
            "Tahmininiz.:37\n",
            "Bravo bildiniz\n",
            "Puanınız.: 70\n"
          ]
        }
      ]
    },
    {
      "cell_type": "code",
      "source": [
        "# Password generator: \n",
        "import random\n",
        "import string\n",
        "kucuk_harf = random.sample(string.ascii_lowercase,2) # 2 adet karakteri liste halinde verir\n",
        "buyuk_harf = random.sample(string.ascii_uppercase,2) # 2 adet karakteri liste halinde verir\n",
        "rakam = random.sample(string.digits,2) # 2 adet karakteri liste halinde verir\n",
        "ozel_karakter = random.sample(string.punctuation,2)\n",
        "sifre = kucuk_harf + buyuk_harf + rakam + ozel_karakter\n",
        "random.shuffle(sifre)\n",
        "print(sifre)  # liste halinde\n",
        "# listeyi stringe dönüştür\n",
        "print(\"\".join(sifre))"
      ],
      "metadata": {
        "colab": {
          "base_uri": "https://localhost:8080/"
        },
        "id": "2Zo25b1IPoD-",
        "outputId": "bd4b8505-8ca9-4975-e78c-f7b7203a5cb9"
      },
      "execution_count": 109,
      "outputs": [
        {
          "output_type": "stream",
          "name": "stdout",
          "text": [
            "['|', 'J', 'a', '9', 'U', 'q', '&', '6']\n",
            "|Ja9Uq&6\n"
          ]
        }
      ]
    },
    {
      "cell_type": "code",
      "source": [
        "if sifre[0].isalnum():\n",
        "    print(sifre)\n",
        "else:\n",
        "    random.shuffle(sifre) #kariştir\n",
        "    print(sifre)  # yeniden yaz"
      ],
      "metadata": {
        "colab": {
          "base_uri": "https://localhost:8080/"
        },
        "id": "tHKGcARPRRZT",
        "outputId": "a468bbea-7039-4589-e873-a6e85936a1ef"
      },
      "execution_count": 113,
      "outputs": [
        {
          "output_type": "stream",
          "name": "stdout",
          "text": [
            "['q', '9', 'J', 'a', '6', 'U', '|', '&']\n"
          ]
        }
      ]
    },
    {
      "cell_type": "markdown",
      "source": [
        "# indis kavramı"
      ],
      "metadata": {
        "id": "ygOY7MyZSI4V"
      }
    },
    {
      "cell_type": "code",
      "source": [
        "#indis: 0123456\n",
        "#neg.  -7 .. -1\n",
        "text = \"ATATÜRK\"\n",
        "# ilk harfi al\n",
        "text[0]"
      ],
      "metadata": {
        "colab": {
          "base_uri": "https://localhost:8080/",
          "height": 35
        },
        "id": "u4KkpGHHSK20",
        "outputId": "305c10c4-83cd-4994-cbe6-2b22e415009d"
      },
      "execution_count": 114,
      "outputs": [
        {
          "output_type": "execute_result",
          "data": {
            "text/plain": [
              "'A'"
            ],
            "application/vnd.google.colaboratory.intrinsic+json": {
              "type": "string"
            }
          },
          "metadata": {},
          "execution_count": 114
        }
      ]
    },
    {
      "cell_type": "code",
      "source": [
        "#son karakteri al\n",
        "text[6]"
      ],
      "metadata": {
        "colab": {
          "base_uri": "https://localhost:8080/",
          "height": 35
        },
        "id": "o8FTBXWqSTEx",
        "outputId": "76d5203d-2d3c-4141-c3a5-d043152ac10d"
      },
      "execution_count": 115,
      "outputs": [
        {
          "output_type": "execute_result",
          "data": {
            "text/plain": [
              "'K'"
            ],
            "application/vnd.google.colaboratory.intrinsic+json": {
              "type": "string"
            }
          },
          "metadata": {},
          "execution_count": 115
        }
      ]
    },
    {
      "cell_type": "code",
      "source": [
        "text[len(text)-1]"
      ],
      "metadata": {
        "colab": {
          "base_uri": "https://localhost:8080/",
          "height": 35
        },
        "id": "ladnENJwSwR0",
        "outputId": "623544d4-6f77-4516-e117-69baf6401678"
      },
      "execution_count": 117,
      "outputs": [
        {
          "output_type": "execute_result",
          "data": {
            "text/plain": [
              "'K'"
            ],
            "application/vnd.google.colaboratory.intrinsic+json": {
              "type": "string"
            }
          },
          "metadata": {},
          "execution_count": 117
        }
      ]
    },
    {
      "cell_type": "code",
      "source": [
        "text[-1]  #son karateri al"
      ],
      "metadata": {
        "colab": {
          "base_uri": "https://localhost:8080/",
          "height": 35
        },
        "id": "8KfPfBXMSo7D",
        "outputId": "a68c1309-dbd2-4d41-ec64-a1aee9f903ed"
      },
      "execution_count": 116,
      "outputs": [
        {
          "output_type": "execute_result",
          "data": {
            "text/plain": [
              "'K'"
            ],
            "application/vnd.google.colaboratory.intrinsic+json": {
              "type": "string"
            }
          },
          "metadata": {},
          "execution_count": 116
        }
      ]
    },
    {
      "cell_type": "code",
      "source": [
        "# Bir sayı listesindeki en büyük 2. sayıyı nasıl buluruz?\n",
        "nums = [4,5,6,2,9,12,34,9,63,5]\n",
        "#küçükten büyüğe sıralyıp, en sondaki 2.eleman(-2. indisli elemanı) alabiliriz\n",
        "nums.sort()\n",
        "print(nums)\n",
        "print(nums[-2])"
      ],
      "metadata": {
        "colab": {
          "base_uri": "https://localhost:8080/"
        },
        "id": "PRLKv3g1S39i",
        "outputId": "454f8189-43c6-44a7-cc40-4591a270bace"
      },
      "execution_count": 118,
      "outputs": [
        {
          "output_type": "stream",
          "name": "stdout",
          "text": [
            "[2, 4, 5, 5, 6, 9, 9, 12, 34, 63]\n",
            "34\n"
          ]
        }
      ]
    },
    {
      "cell_type": "code",
      "source": [
        "nums = [4,5,6,2,9,12,34,9,63,5]\n",
        "#küçükten büyüğe sıralyıp, en sondaki 2.eleman(-2. indisli elemanı) alabiliriz\n",
        "nums.sort()[-2]"
      ],
      "metadata": {
        "colab": {
          "base_uri": "https://localhost:8080/",
          "height": 200
        },
        "id": "8VEOeJkuTg8t",
        "outputId": "2a3aea48-5789-43ce-fad6-e6ec1fcea5d0"
      },
      "execution_count": 120,
      "outputs": [
        {
          "output_type": "error",
          "ename": "TypeError",
          "evalue": "ignored",
          "traceback": [
            "\u001b[0;31m---------------------------------------------------------------------------\u001b[0m",
            "\u001b[0;31mTypeError\u001b[0m                                 Traceback (most recent call last)",
            "\u001b[0;32m<ipython-input-120-fe0619f30527>\u001b[0m in \u001b[0;36m<cell line: 3>\u001b[0;34m()\u001b[0m\n\u001b[1;32m      1\u001b[0m \u001b[0mnums\u001b[0m \u001b[0;34m=\u001b[0m \u001b[0;34m[\u001b[0m\u001b[0;36m4\u001b[0m\u001b[0;34m,\u001b[0m\u001b[0;36m5\u001b[0m\u001b[0;34m,\u001b[0m\u001b[0;36m6\u001b[0m\u001b[0;34m,\u001b[0m\u001b[0;36m2\u001b[0m\u001b[0;34m,\u001b[0m\u001b[0;36m9\u001b[0m\u001b[0;34m,\u001b[0m\u001b[0;36m12\u001b[0m\u001b[0;34m,\u001b[0m\u001b[0;36m34\u001b[0m\u001b[0;34m,\u001b[0m\u001b[0;36m9\u001b[0m\u001b[0;34m,\u001b[0m\u001b[0;36m63\u001b[0m\u001b[0;34m,\u001b[0m\u001b[0;36m5\u001b[0m\u001b[0;34m]\u001b[0m\u001b[0;34m\u001b[0m\u001b[0;34m\u001b[0m\u001b[0m\n\u001b[1;32m      2\u001b[0m \u001b[0;31m#küçükten büyüğe sıralyıp, en sondaki 2.eleman(-2. indisli elemanı) alabiliriz\u001b[0m\u001b[0;34m\u001b[0m\u001b[0;34m\u001b[0m\u001b[0m\n\u001b[0;32m----> 3\u001b[0;31m \u001b[0mnums\u001b[0m\u001b[0;34m.\u001b[0m\u001b[0msort\u001b[0m\u001b[0;34m(\u001b[0m\u001b[0;34m)\u001b[0m\u001b[0;34m[\u001b[0m\u001b[0;34m-\u001b[0m\u001b[0;36m2\u001b[0m\u001b[0;34m]\u001b[0m\u001b[0;34m\u001b[0m\u001b[0;34m\u001b[0m\u001b[0m\n\u001b[0m",
            "\u001b[0;31mTypeError\u001b[0m: 'NoneType' object is not subscriptable"
          ]
        }
      ]
    },
    {
      "cell_type": "code",
      "source": [
        "# slicing(dilimleme) [start:stop-1:step]\n",
        "#indis  0123456\n",
        "text = \"ATATÜRK\"\n",
        "text[:3]"
      ],
      "metadata": {
        "colab": {
          "base_uri": "https://localhost:8080/",
          "height": 35
        },
        "id": "6EYRhh2dVQns",
        "outputId": "de5a4698-212d-4b4a-cee5-a7a24a8a2fb4"
      },
      "execution_count": 122,
      "outputs": [
        {
          "output_type": "execute_result",
          "data": {
            "text/plain": [
              "'ATA'"
            ],
            "application/vnd.google.colaboratory.intrinsic+json": {
              "type": "string"
            }
          },
          "metadata": {},
          "execution_count": 122
        }
      ]
    },
    {
      "cell_type": "code",
      "source": [
        "#indis  0123456\n",
        "text = \"ATATÜRK\"\n",
        "text[3:]"
      ],
      "metadata": {
        "colab": {
          "base_uri": "https://localhost:8080/",
          "height": 35
        },
        "id": "gijTiOxPVpbn",
        "outputId": "2762eda1-2388-4955-9634-28fbcb0f76d5"
      },
      "execution_count": 123,
      "outputs": [
        {
          "output_type": "execute_result",
          "data": {
            "text/plain": [
              "'TÜRK'"
            ],
            "application/vnd.google.colaboratory.intrinsic+json": {
              "type": "string"
            }
          },
          "metadata": {},
          "execution_count": 123
        }
      ]
    },
    {
      "cell_type": "code",
      "source": [
        "#indis  0123456\n",
        "text = \"ATATÜRK\"\n",
        "text[2:5]"
      ],
      "metadata": {
        "colab": {
          "base_uri": "https://localhost:8080/",
          "height": 35
        },
        "id": "IRD8FLCBV0ov",
        "outputId": "c8981732-8d3c-46c2-f080-9bff756f78a1"
      },
      "execution_count": 125,
      "outputs": [
        {
          "output_type": "execute_result",
          "data": {
            "text/plain": [
              "'ATÜ'"
            ],
            "application/vnd.google.colaboratory.intrinsic+json": {
              "type": "string"
            }
          },
          "metadata": {},
          "execution_count": 125
        }
      ]
    },
    {
      "cell_type": "code",
      "source": [
        "#ters çevir\n",
        "text = \"ATATÜRK\"\n",
        "text[::-1]"
      ],
      "metadata": {
        "colab": {
          "base_uri": "https://localhost:8080/",
          "height": 35
        },
        "id": "5SI0DAVuVuOv",
        "outputId": "d8c04367-a7a4-43a7-9524-11f4bed6ed48"
      },
      "execution_count": 124,
      "outputs": [
        {
          "output_type": "execute_result",
          "data": {
            "text/plain": [
              "'KRÜTATA'"
            ],
            "application/vnd.google.colaboratory.intrinsic+json": {
              "type": "string"
            }
          },
          "metadata": {},
          "execution_count": 124
        }
      ]
    },
    {
      "cell_type": "code",
      "source": [
        "text = \"ATATÜRK\"\n",
        "#      -7-6-5-4-3-2-1\n",
        "print(text)\n",
        "for a in range(1,len(text)):\n",
        "    print(text[:-a])"
      ],
      "metadata": {
        "colab": {
          "base_uri": "https://localhost:8080/"
        },
        "id": "hbPgmJmPWK3U",
        "outputId": "86d2945d-27ed-464f-cc3b-576fb056a93f"
      },
      "execution_count": 129,
      "outputs": [
        {
          "output_type": "stream",
          "name": "stdout",
          "text": [
            "ATATÜRK\n",
            "ATATÜR\n",
            "ATATÜ\n",
            "ATAT\n",
            "ATA\n",
            "AT\n",
            "A\n"
          ]
        }
      ]
    },
    {
      "cell_type": "code",
      "source": [
        "#Soru: bir textin 3.indisli karakterini nasıl silebiliriz\n",
        "#       012345\n",
        "text = \"python\"  #çözüm-1\n",
        "text = text[:3] + text[4:]\n",
        "print(text)"
      ],
      "metadata": {
        "colab": {
          "base_uri": "https://localhost:8080/"
        },
        "id": "UHSSzs97XeaX",
        "outputId": "cf967b82-4c86-42d0-f37b-d368611d50e8"
      },
      "execution_count": 131,
      "outputs": [
        {
          "output_type": "stream",
          "name": "stdout",
          "text": [
            "pyton\n"
          ]
        }
      ]
    },
    {
      "cell_type": "code",
      "source": [
        "text=\"PYTHON\"  #çözüm-2\n",
        "sonuc = text.replace(\"H\",\"\")\n",
        "print(sonuc)"
      ],
      "metadata": {
        "colab": {
          "base_uri": "https://localhost:8080/"
        },
        "id": "jHw1cj3JXz1a",
        "outputId": "bc13f9f8-2fe2-45ee-8dde-b206c925ece4"
      },
      "execution_count": 132,
      "outputs": [
        {
          "output_type": "stream",
          "name": "stdout",
          "text": [
            "PYTON\n"
          ]
        }
      ]
    },
    {
      "cell_type": "code",
      "source": [
        "#       012345\n",
        "text = \"python\"\n",
        "text[3] = \"\"  #str veri immutable özellikli\n",
        "print(text)"
      ],
      "metadata": {
        "colab": {
          "base_uri": "https://localhost:8080/",
          "height": 218
        },
        "id": "i7cap4l_YIjU",
        "outputId": "b13cbbb1-7a1c-4f54-c143-42757488a5d7"
      },
      "execution_count": 133,
      "outputs": [
        {
          "output_type": "error",
          "ename": "TypeError",
          "evalue": "ignored",
          "traceback": [
            "\u001b[0;31m---------------------------------------------------------------------------\u001b[0m",
            "\u001b[0;31mTypeError\u001b[0m                                 Traceback (most recent call last)",
            "\u001b[0;32m<ipython-input-133-a935d2e9c4c5>\u001b[0m in \u001b[0;36m<cell line: 3>\u001b[0;34m()\u001b[0m\n\u001b[1;32m      1\u001b[0m \u001b[0;31m#       012345\u001b[0m\u001b[0;34m\u001b[0m\u001b[0;34m\u001b[0m\u001b[0m\n\u001b[1;32m      2\u001b[0m \u001b[0mtext\u001b[0m \u001b[0;34m=\u001b[0m \u001b[0;34m\"python\"\u001b[0m\u001b[0;34m\u001b[0m\u001b[0;34m\u001b[0m\u001b[0m\n\u001b[0;32m----> 3\u001b[0;31m \u001b[0mtext\u001b[0m\u001b[0;34m[\u001b[0m\u001b[0;36m3\u001b[0m\u001b[0;34m]\u001b[0m \u001b[0;34m=\u001b[0m \u001b[0;34m\"\"\u001b[0m\u001b[0;34m\u001b[0m\u001b[0;34m\u001b[0m\u001b[0m\n\u001b[0m\u001b[1;32m      4\u001b[0m \u001b[0mprint\u001b[0m\u001b[0;34m(\u001b[0m\u001b[0mtext\u001b[0m\u001b[0;34m)\u001b[0m\u001b[0;34m\u001b[0m\u001b[0;34m\u001b[0m\u001b[0m\n",
            "\u001b[0;31mTypeError\u001b[0m: 'str' object does not support item assignment"
          ]
        }
      ]
    },
    {
      "cell_type": "code",
      "source": [
        "#çözüm-3 listeye dönüştürüp doğrudan değiştirebilirim\n",
        "#listeler mutable özellikli \n",
        "text = \"python\"\n",
        "lis_text = list(text)\n",
        "lis_text[3] = \"\"  # list veri mutable özellikli\n",
        "print(lis_text)\n",
        "text = \"\".join(lis_text)\n",
        "print(text)"
      ],
      "metadata": {
        "colab": {
          "base_uri": "https://localhost:8080/"
        },
        "id": "LEizcHeGYRLn",
        "outputId": "c4c3ada0-3b2d-46d1-f755-3a075d9bdcd2"
      },
      "execution_count": 136,
      "outputs": [
        {
          "output_type": "stream",
          "name": "stdout",
          "text": [
            "['p', 'y', 't', '', 'o', 'n']\n",
            "pyton\n"
          ]
        }
      ]
    },
    {
      "cell_type": "code",
      "source": [
        "#girilen bir textin palindrom olup olmadığını test etmek için\n",
        "text = input()\n",
        "if text==text[::-1]:\n",
        "    print(\"palindrom\")\n",
        "else:\n",
        "    print(\"palindrom değil\")"
      ],
      "metadata": {
        "colab": {
          "base_uri": "https://localhost:8080/"
        },
        "id": "Li7kfNbgY_hx",
        "outputId": "a37035b8-090c-4b0f-831a-a1f87785761c"
      },
      "execution_count": 138,
      "outputs": [
        {
          "output_type": "stream",
          "name": "stdout",
          "text": [
            "adam\n",
            "palindrom değil\n"
          ]
        }
      ]
    },
    {
      "cell_type": "code",
      "source": [
        "# girilen bir textin palindrom olup olmadığını test et, \n",
        "# eğer palindrom değilse palindrom yap\n",
        "text = input()\n",
        "if text==text[::-1]:\n",
        "    print(\"palindrom\")\n",
        "else:\n",
        "    print(\"palindrom değil\")\n",
        "    text = text + text[::-1]\n",
        "    print(\"artık palindrom oldu..:\", text)"
      ],
      "metadata": {
        "colab": {
          "base_uri": "https://localhost:8080/"
        },
        "id": "mIqSruWvZdGc",
        "outputId": "3e39c544-56b4-4686-f1e2-420e000ab6c8"
      },
      "execution_count": 139,
      "outputs": [
        {
          "output_type": "stream",
          "name": "stdout",
          "text": [
            "adam\n",
            "palindrom değil\n",
            "artık palindrom oldu..: adammada\n"
          ]
        }
      ]
    },
    {
      "cell_type": "code",
      "source": [
        "# Listeye eleman ekleme metotları\n",
        "\"\"\"\n",
        "list.append(x) : Add an item to the end of the list. Equivalent to a[len(a):] = [x].\n",
        "\n",
        "list.extend(iterable): Extend the list by appending all the items from the iterable. Equivalent to a[len(a):] = iterable.\n",
        "\n",
        "list.insert(i, x) : Insert an item at a given position. \n",
        "\"\"\""
      ],
      "metadata": {
        "id": "KLbDpW1Aa4Yg"
      },
      "execution_count": null,
      "outputs": []
    },
    {
      "cell_type": "code",
      "source": [
        "bos_list = []\n",
        "bos_list.append(1)\n",
        "bos_list.append(2)\n",
        "bos_list.append(3)\n",
        "print(bos_list)"
      ],
      "metadata": {
        "colab": {
          "base_uri": "https://localhost:8080/"
        },
        "id": "El2Lxk2ja_WO",
        "outputId": "edff7316-5ff5-4559-a81c-7f206a2b12f1"
      },
      "execution_count": 140,
      "outputs": [
        {
          "output_type": "stream",
          "name": "stdout",
          "text": [
            "[1, 2, 3]\n"
          ]
        }
      ]
    },
    {
      "cell_type": "code",
      "source": [
        "liste2 = [5,6,7,8]\n",
        "bos_list.append(liste2)\n",
        "print(bos_list)"
      ],
      "metadata": {
        "colab": {
          "base_uri": "https://localhost:8080/"
        },
        "id": "cB7-nwvLbJff",
        "outputId": "fd31beff-a431-4a74-99b2-7b282d10a8b7"
      },
      "execution_count": 141,
      "outputs": [
        {
          "output_type": "stream",
          "name": "stdout",
          "text": [
            "[1, 2, 3, [5, 6, 7, 8]]\n"
          ]
        }
      ]
    },
    {
      "cell_type": "code",
      "source": [
        "bos_list = []\n",
        "bos_list.append(1)\n",
        "bos_list.append(2)\n",
        "bos_list.append(3)\n",
        "print(bos_list)\n",
        "liste2 = [5,6,7,8]\n",
        "bos_list.extend(liste2)\n",
        "print(bos_list)"
      ],
      "metadata": {
        "colab": {
          "base_uri": "https://localhost:8080/"
        },
        "id": "brObJnHJbVpY",
        "outputId": "11861e3c-f0b6-44fe-a185-7cc2c8355c85"
      },
      "execution_count": 143,
      "outputs": [
        {
          "output_type": "stream",
          "name": "stdout",
          "text": [
            "[1, 2, 3]\n",
            "[1, 2, 3, 5, 6, 7, 8]\n"
          ]
        }
      ]
    },
    {
      "cell_type": "code",
      "source": [
        "liste = [3,4,6,7,8]\n",
        "#araya (2. indisli) 5 sayısını eklemek için;\n",
        "liste.insert(2, 5)\n",
        "print(liste)"
      ],
      "metadata": {
        "colab": {
          "base_uri": "https://localhost:8080/"
        },
        "id": "hDlR5vXFbf5Y",
        "outputId": "df356317-305f-4567-998d-768b701169a8"
      },
      "execution_count": 145,
      "outputs": [
        {
          "output_type": "stream",
          "name": "stdout",
          "text": [
            "[3, 4, 5, 6, 7, 8]\n"
          ]
        }
      ]
    },
    {
      "cell_type": "code",
      "source": [
        "range(3) # 0,1,2"
      ],
      "metadata": {
        "id": "0PneVclNfwKw"
      },
      "execution_count": null,
      "outputs": []
    },
    {
      "cell_type": "code",
      "source": [
        "x = ['a','b','c']\n",
        "for i in range(len(x)):\n",
        "    x.append(i)\n",
        "print(x)"
      ],
      "metadata": {
        "colab": {
          "base_uri": "https://localhost:8080/"
        },
        "id": "eLhjnwrCfSQA",
        "outputId": "4ffdd899-54d5-4749-e46a-1539ce3e32ff"
      },
      "execution_count": 148,
      "outputs": [
        {
          "output_type": "stream",
          "name": "stdout",
          "text": [
            "['a', 'b', 'c', 0, 1, 2]\n"
          ]
        }
      ]
    },
    {
      "cell_type": "code",
      "source": [
        "x = ['a','b','c']\n",
        "for i in range(len(x)):\n",
        "    x.append(str(i))\n",
        "print(x)"
      ],
      "metadata": {
        "colab": {
          "base_uri": "https://localhost:8080/"
        },
        "id": "JRD5hTMDfgHY",
        "outputId": "ea27d5c2-9923-4b0e-fac9-2bb1d7cffcb4"
      },
      "execution_count": 149,
      "outputs": [
        {
          "output_type": "stream",
          "name": "stdout",
          "text": [
            "['a', 'b', 'c', '0', '1', '2']\n"
          ]
        }
      ]
    },
    {
      "cell_type": "code",
      "source": [
        "x = ['a','b','c']\n",
        "for i in range(len(x)):\n",
        "    x.append(x[i])\n",
        "print(x)"
      ],
      "metadata": {
        "colab": {
          "base_uri": "https://localhost:8080/"
        },
        "id": "vKLAhF54fmZo",
        "outputId": "620a5a41-e399-4e91-8882-db42e6dfeed3"
      },
      "execution_count": 150,
      "outputs": [
        {
          "output_type": "stream",
          "name": "stdout",
          "text": [
            "['a', 'b', 'c', 'a', 'b', 'c']\n"
          ]
        }
      ]
    },
    {
      "cell_type": "code",
      "source": [
        "x = []\n",
        "for i in range(10):\n",
        "    x.append(i)\n",
        "print(x)"
      ],
      "metadata": {
        "colab": {
          "base_uri": "https://localhost:8080/"
        },
        "id": "ZERbh1jEgPrX",
        "outputId": "f6c4ae2a-44eb-4f67-c6a7-9afba6859c22"
      },
      "execution_count": 151,
      "outputs": [
        {
          "output_type": "stream",
          "name": "stdout",
          "text": [
            "[0, 1, 2, 3, 4, 5, 6, 7, 8, 9]\n"
          ]
        }
      ]
    },
    {
      "cell_type": "code",
      "source": [
        "#liste üreteci\n",
        "x = [i for i in range(10)]\n",
        "print(x)"
      ],
      "metadata": {
        "colab": {
          "base_uri": "https://localhost:8080/"
        },
        "id": "Z0BfQJaYgU6n",
        "outputId": "65057128-b881-41c2-820b-e4d20f510073"
      },
      "execution_count": 152,
      "outputs": [
        {
          "output_type": "stream",
          "name": "stdout",
          "text": [
            "[0, 1, 2, 3, 4, 5, 6, 7, 8, 9]\n"
          ]
        }
      ]
    },
    {
      "cell_type": "code",
      "source": [
        "x = []\n",
        "for i in range(10):\n",
        "    if i%2==0:\n",
        "        x.append(i)\n",
        "print(x)"
      ],
      "metadata": {
        "colab": {
          "base_uri": "https://localhost:8080/"
        },
        "id": "CyFHnS7egl3U",
        "outputId": "e49d9963-de0a-46fb-acef-da950b6faea4"
      },
      "execution_count": 154,
      "outputs": [
        {
          "output_type": "stream",
          "name": "stdout",
          "text": [
            "[0, 2, 4, 6, 8]\n"
          ]
        }
      ]
    },
    {
      "cell_type": "code",
      "source": [
        "#yukarıdakinin kısaltılmış formu\n",
        "x = [i for i in range(10) if i%2==0 ]\n",
        "print(x)"
      ],
      "metadata": {
        "colab": {
          "base_uri": "https://localhost:8080/"
        },
        "id": "syJI2RH8gvsC",
        "outputId": "9fbe7adb-8014-42e1-dfed-d83a7b736790"
      },
      "execution_count": 155,
      "outputs": [
        {
          "output_type": "stream",
          "name": "stdout",
          "text": [
            "[0, 2, 4, 6, 8]\n"
          ]
        }
      ]
    },
    {
      "cell_type": "code",
      "source": [
        "x = []\n",
        "for i in range(10):\n",
        "    if i%2==0:\n",
        "        x.append(i)\n",
        "    else:\n",
        "        x.append(i**2)\n",
        "print(x)"
      ],
      "metadata": {
        "colab": {
          "base_uri": "https://localhost:8080/"
        },
        "id": "MsyupCsGhEzd",
        "outputId": "6c5c3adf-b9ce-4ee0-e041-48734755a584"
      },
      "execution_count": 156,
      "outputs": [
        {
          "output_type": "stream",
          "name": "stdout",
          "text": [
            "[0, 1, 2, 9, 4, 25, 6, 49, 8, 81]\n"
          ]
        }
      ]
    },
    {
      "cell_type": "code",
      "source": [
        "x = [i if i%2==0 else i**2 for i in range(10)]\n",
        "print(x)"
      ],
      "metadata": {
        "colab": {
          "base_uri": "https://localhost:8080/"
        },
        "id": "sqFZuMYIhNqQ",
        "outputId": "2c6dea88-658e-41d2-b72d-17d5eefd5bba"
      },
      "execution_count": 157,
      "outputs": [
        {
          "output_type": "stream",
          "name": "stdout",
          "text": [
            "[0, 1, 2, 9, 4, 25, 6, 49, 8, 81]\n"
          ]
        }
      ]
    },
    {
      "cell_type": "code",
      "source": [
        "[i for i  in range(100,0,-10)]"
      ],
      "metadata": {
        "colab": {
          "base_uri": "https://localhost:8080/"
        },
        "id": "a3Bu7M7lht7q",
        "outputId": "0f976ec7-d321-4fb7-9a85-26ec6eb26c55"
      },
      "execution_count": 158,
      "outputs": [
        {
          "output_type": "execute_result",
          "data": {
            "text/plain": [
              "[100, 90, 80, 70, 60, 50, 40, 30, 20, 10]"
            ]
          },
          "metadata": {},
          "execution_count": 158
        }
      ]
    },
    {
      "cell_type": "code",
      "source": [
        "#11- Verilen metindeki sesli harfleri kaldıran program\n",
        "text = \"Bu akşam Ankaraya gidiyorum\"\n",
        "sessiz_harfler = []\n",
        "for i in text:\n",
        "    if i not in \"aeiouüıö\":\n",
        "        sessiz_harfler.append(i)\n",
        "print(\"\".join(sessiz_harfler)) "
      ],
      "metadata": {
        "colab": {
          "base_uri": "https://localhost:8080/"
        },
        "id": "zTeM7tg0iFlm",
        "outputId": "e94dd1fe-69bf-4eda-eb83-d1b7464f7b0e"
      },
      "execution_count": 160,
      "outputs": [
        {
          "output_type": "stream",
          "name": "stdout",
          "text": [
            "B kşm Ankry gdyrm\n"
          ]
        }
      ]
    },
    {
      "cell_type": "code",
      "source": [
        "text = \"Bu akşam Ankaraya gidiyorum\"\n",
        "sessiz_harfler = [i for i in text if i not in \"aeiouüıö\"]\n",
        "print(\"\".join(sessiz_harfler)) "
      ],
      "metadata": {
        "colab": {
          "base_uri": "https://localhost:8080/"
        },
        "id": "HOCFZfngimC2",
        "outputId": "f76d5633-c4cd-4f38-9ebf-bb7146ee19b6"
      },
      "execution_count": 161,
      "outputs": [
        {
          "output_type": "stream",
          "name": "stdout",
          "text": [
            "B kşm Ankry gdyrm\n"
          ]
        }
      ]
    },
    {
      "cell_type": "code",
      "source": [
        "for i in \"python\":\n",
        "    print(i, end=\"\")"
      ],
      "metadata": {
        "colab": {
          "base_uri": "https://localhost:8080/"
        },
        "id": "NACzs3fJltHj",
        "outputId": "c912d4fd-862a-472e-f5e0-a0a5d43d8516"
      },
      "execution_count": 164,
      "outputs": [
        {
          "output_type": "stream",
          "name": "stdout",
          "text": [
            "python"
          ]
        }
      ]
    },
    {
      "cell_type": "code",
      "source": [
        "for a in range(0,12,2):\n",
        "    if a==6:\n",
        "        break\n",
        "    print(a, end=\" \")"
      ],
      "metadata": {
        "colab": {
          "base_uri": "https://localhost:8080/"
        },
        "id": "6Eqmz0oMm1Gn",
        "outputId": "f1dcb5de-3f0f-462f-a689-4e14ff113fe8"
      },
      "execution_count": 165,
      "outputs": [
        {
          "output_type": "stream",
          "name": "stdout",
          "text": [
            "0 2 4 "
          ]
        }
      ]
    },
    {
      "cell_type": "code",
      "source": [
        "for i in [1,2,3,4]:\n",
        "    if i==3:\n",
        "        continue  # alttaki satırı gözardı et(atla)\n",
        "    print(f\"{i}.kat\", end=\" \")"
      ],
      "metadata": {
        "colab": {
          "base_uri": "https://localhost:8080/"
        },
        "id": "4pM_6Lrinolq",
        "outputId": "6d95588b-8c72-4e73-f81b-9ef432d6a872"
      },
      "execution_count": 167,
      "outputs": [
        {
          "output_type": "stream",
          "name": "stdout",
          "text": [
            "1.kat 2.kat 4.kat "
          ]
        }
      ]
    },
    {
      "cell_type": "code",
      "source": [
        "# Sayısal Array(klasik dizi) Oluşturma\n",
        "import numpy as np\n",
        "np.random.randint(1,20,10) #1-20 arası 10 adet sayı üret"
      ],
      "metadata": {
        "colab": {
          "base_uri": "https://localhost:8080/"
        },
        "id": "rigduIZl3eYc",
        "outputId": "e3af28a0-f893-4dca-87da-18bab6a8f3bb"
      },
      "execution_count": 168,
      "outputs": [
        {
          "output_type": "execute_result",
          "data": {
            "text/plain": [
              "array([15,  1, 12,  3,  8, 10, 13, 14,  9, 11])"
            ]
          },
          "metadata": {},
          "execution_count": 168
        }
      ]
    },
    {
      "cell_type": "code",
      "source": [
        "print(np.random.randint(1,20,10)) #1-20 arası 10 adet sayı üret"
      ],
      "metadata": {
        "colab": {
          "base_uri": "https://localhost:8080/"
        },
        "id": "TX42HJba38E9",
        "outputId": "844112e5-a6fb-4b1c-ffb8-e5e152be6650"
      },
      "execution_count": 169,
      "outputs": [
        {
          "output_type": "stream",
          "name": "stdout",
          "text": [
            "[ 4  6 10  5 13 11 15  5 14  3]\n"
          ]
        }
      ]
    },
    {
      "cell_type": "code",
      "source": [
        "np.random.seed(100)\n",
        "print(np.random.randint(1,50,6)) #sayısal loto"
      ],
      "metadata": {
        "colab": {
          "base_uri": "https://localhost:8080/"
        },
        "id": "0y1IPD0X4GmC",
        "outputId": "c500d211-757a-4822-f7d6-2cf4ab4be399"
      },
      "execution_count": 174,
      "outputs": [
        {
          "output_type": "stream",
          "name": "stdout",
          "text": [
            "[ 9 25  4 40 24 16]\n"
          ]
        }
      ]
    },
    {
      "cell_type": "code",
      "source": [
        "# 0-10 arası 0.5 lik artım ile sayılar üret\n",
        "range(0,10,0.5)"
      ],
      "metadata": {
        "colab": {
          "base_uri": "https://localhost:8080/",
          "height": 183
        },
        "id": "yHLuWem-4TrQ",
        "outputId": "2be080ec-f2d3-40c4-b7b6-9b8e23284849"
      },
      "execution_count": 175,
      "outputs": [
        {
          "output_type": "error",
          "ename": "TypeError",
          "evalue": "ignored",
          "traceback": [
            "\u001b[0;31m---------------------------------------------------------------------------\u001b[0m",
            "\u001b[0;31mTypeError\u001b[0m                                 Traceback (most recent call last)",
            "\u001b[0;32m<ipython-input-175-ee7a48c589b2>\u001b[0m in \u001b[0;36m<cell line: 2>\u001b[0;34m()\u001b[0m\n\u001b[1;32m      1\u001b[0m \u001b[0;31m# 0-10 arası 0.5 lik artım ile sayılar üret\u001b[0m\u001b[0;34m\u001b[0m\u001b[0;34m\u001b[0m\u001b[0m\n\u001b[0;32m----> 2\u001b[0;31m \u001b[0mrange\u001b[0m\u001b[0;34m(\u001b[0m\u001b[0;36m0\u001b[0m\u001b[0;34m,\u001b[0m\u001b[0;36m10\u001b[0m\u001b[0;34m,\u001b[0m\u001b[0;36m0.5\u001b[0m\u001b[0;34m)\u001b[0m\u001b[0;34m\u001b[0m\u001b[0;34m\u001b[0m\u001b[0m\n\u001b[0m",
            "\u001b[0;31mTypeError\u001b[0m: 'float' object cannot be interpreted as an integer"
          ]
        }
      ]
    },
    {
      "cell_type": "code",
      "source": [
        "# 0-10 arası 0.5 lik artım ile sayılar üret\n",
        "import numpy as np\n",
        "print(np.arange(0,10,0.5))"
      ],
      "metadata": {
        "colab": {
          "base_uri": "https://localhost:8080/"
        },
        "id": "5QIJjKMN4fXh",
        "outputId": "b640c3dc-6548-4176-d3bb-0f0f8e5a0fb3"
      },
      "execution_count": 177,
      "outputs": [
        {
          "output_type": "stream",
          "name": "stdout",
          "text": [
            "[0.  0.5 1.  1.5 2.  2.5 3.  3.5 4.  4.5 5.  5.5 6.  6.5 7.  7.5 8.  8.5\n",
            " 9.  9.5]\n"
          ]
        }
      ]
    },
    {
      "cell_type": "code",
      "source": [
        "# eşit aralıklı saylar üretmek np.linspace kullanılabilir.\n",
        "np.linspace(0,10,5)  # 0-10 arası 5 sayı üret"
      ],
      "metadata": {
        "colab": {
          "base_uri": "https://localhost:8080/"
        },
        "id": "Ckbq8eIO49-6",
        "outputId": "1a232dc3-6ab0-44f5-fc2d-8b4e55bf0ba8"
      },
      "execution_count": 179,
      "outputs": [
        {
          "output_type": "execute_result",
          "data": {
            "text/plain": [
              "array([ 0. ,  2.5,  5. ,  7.5, 10. ])"
            ]
          },
          "metadata": {},
          "execution_count": 179
        }
      ]
    },
    {
      "cell_type": "code",
      "source": [
        "np.linspace(0,100,10)  # 0-100 arası 10 sayı üret"
      ],
      "metadata": {
        "colab": {
          "base_uri": "https://localhost:8080/"
        },
        "id": "8p9COUJb5b_b",
        "outputId": "0be03508-98b2-4804-d9e2-866f5bbfec08"
      },
      "execution_count": 182,
      "outputs": [
        {
          "output_type": "execute_result",
          "data": {
            "text/plain": [
              "array([  0.        ,  11.11111111,  22.22222222,  33.33333333,\n",
              "        44.44444444,  55.55555556,  66.66666667,  77.77777778,\n",
              "        88.88888889, 100.        ])"
            ]
          },
          "metadata": {},
          "execution_count": 182
        }
      ]
    },
    {
      "cell_type": "code",
      "source": [
        "np.linspace(0,100,10, dtype=int)  # 0-100 arası 10 tamsayı üret"
      ],
      "metadata": {
        "colab": {
          "base_uri": "https://localhost:8080/"
        },
        "id": "-cBqIE7z5Rg8",
        "outputId": "bad98bf4-4e33-4bd3-d5ba-2693e30c9d7e"
      },
      "execution_count": 183,
      "outputs": [
        {
          "output_type": "execute_result",
          "data": {
            "text/plain": [
              "array([  0,  11,  22,  33,  44,  55,  66,  77,  88, 100])"
            ]
          },
          "metadata": {},
          "execution_count": 183
        }
      ]
    },
    {
      "cell_type": "code",
      "source": [
        "#matris: 2 boyutlu dizi\n",
        "# 3 satır 4 sütundan oluşan bir dizi, bütün elemalar sıfır olsun\n",
        "matris_3_4 = np.zeros((3,4))\n",
        "print(matris_3_4)"
      ],
      "metadata": {
        "colab": {
          "base_uri": "https://localhost:8080/"
        },
        "id": "FME4YnyT5jBu",
        "outputId": "6b5389f9-dbd3-4681-8d5d-7006828aef43"
      },
      "execution_count": 184,
      "outputs": [
        {
          "output_type": "stream",
          "name": "stdout",
          "text": [
            "[[0. 0. 0. 0.]\n",
            " [0. 0. 0. 0.]\n",
            " [0. 0. 0. 0.]]\n"
          ]
        }
      ]
    },
    {
      "cell_type": "code",
      "source": [
        "# 3 satır 4 sütundan oluşan bir dizi, bütün elemalar rasgele 0-1 olsun\n",
        "matris_3_4 = np.random.rand(3,4)\n",
        "print(matris_3_4)"
      ],
      "metadata": {
        "colab": {
          "base_uri": "https://localhost:8080/"
        },
        "id": "nypFmCI-58Nb",
        "outputId": "278ddebf-f9a1-4b1b-e1bc-6df4b69bf27e"
      },
      "execution_count": 186,
      "outputs": [
        {
          "output_type": "stream",
          "name": "stdout",
          "text": [
            "[[0.84477613 0.00471886 0.12156912 0.67074908]\n",
            " [0.82585276 0.13670659 0.57509333 0.89132195]\n",
            " [0.20920212 0.18532822 0.10837689 0.21969749]]\n"
          ]
        }
      ]
    },
    {
      "cell_type": "code",
      "source": [
        "# rasgele sayı üret\n",
        "nums= np.random.randn(100)\n",
        "print(nums)"
      ],
      "metadata": {
        "colab": {
          "base_uri": "https://localhost:8080/"
        },
        "id": "vaXpgBkL6NHR",
        "outputId": "832492e0-12fa-43a4-c9fd-b7c7558c4805"
      },
      "execution_count": 194,
      "outputs": [
        {
          "output_type": "stream",
          "name": "stdout",
          "text": [
            "[-1.050555   -0.64326693 -0.50219939 -3.00081157  0.28667885  0.49880758\n",
            " -0.60366109  1.30894109  1.27590944 -1.28599308 -0.62575643  0.34171079\n",
            " -0.13077302 -1.09164964  0.07453901  1.24824825 -0.45034291 -0.34752287\n",
            " -0.31749028  1.01295224 -0.83819674 -1.04132454 -0.08728565  1.15308879\n",
            "  1.06793875  0.57034207 -0.27299617 -0.16039752 -0.01301953  0.62186687\n",
            "  1.37417875  0.77965412 -1.5546354  -1.76482361 -0.66898474  1.74108588\n",
            "  0.07353037  0.07590027 -0.19616725 -0.42529073  0.63221163 -0.01063153\n",
            " -0.59913161  0.9047258  -1.39672651  1.95303272  0.89669724  0.21041814\n",
            " -0.38981342  2.95201603 -1.14432764 -0.873981   -0.83160684  0.08417013\n",
            "  1.18952505  0.5443334   0.10254572  0.25258007 -2.82736291 -2.26931098\n",
            "  0.13730702 -0.02477473 -0.97571415  2.02226211 -0.51282784  0.65215822\n",
            "  0.60413177 -0.88366827  0.18395205  1.11604602  0.80623901  1.56796229\n",
            "  1.10604223  0.1817366   0.5420871  -0.3525323   1.65592674 -0.46807102\n",
            " -1.28003524 -0.36169448 -1.00495565  0.79825243  0.28775684  0.31192624\n",
            " -2.35715231  0.52286149 -1.0467965   0.26245487 -0.705939    0.75774973\n",
            "  0.26372934  0.31435452 -1.04883165  0.25948014  0.96863904 -0.7953961\n",
            " -0.12728507 -0.34467281  0.15806463  0.51472016]\n"
          ]
        }
      ]
    },
    {
      "cell_type": "code",
      "source": [
        "liste = [1,2,4,3]\n",
        "copy_lis = liste\n",
        "copy_lis.append(7)  #copy_lis e eklendi\n",
        "print(liste)\n",
        "print(id(copy_lis))\n",
        "print(id(liste))"
      ],
      "metadata": {
        "colab": {
          "base_uri": "https://localhost:8080/"
        },
        "id": "JNb2qeXg63f6",
        "outputId": "73ac9a02-c1de-4ca7-cc47-0667c51e3603"
      },
      "execution_count": 198,
      "outputs": [
        {
          "output_type": "stream",
          "name": "stdout",
          "text": [
            "[1, 2, 4, 3, 7]\n",
            "140531729404480\n",
            "140531729404480\n"
          ]
        }
      ]
    },
    {
      "cell_type": "code",
      "source": [
        "liste = [1,2,4,3]\n",
        "copy_lis = liste.copy()  # yeni bir nensne oluştu\n",
        "copy_lis.append(7)  #copy_lis e eklendi\n",
        "print(liste)\n",
        "print(id(copy_lis))\n",
        "print(id(liste))"
      ],
      "metadata": {
        "colab": {
          "base_uri": "https://localhost:8080/"
        },
        "id": "vFIfJTIt7NWq",
        "outputId": "7793ed59-6a60-4505-cc9e-e7f62b69914c"
      },
      "execution_count": 199,
      "outputs": [
        {
          "output_type": "stream",
          "name": "stdout",
          "text": [
            "[1, 2, 4, 3]\n",
            "140531729050816\n",
            "140531732770496\n"
          ]
        }
      ]
    },
    {
      "cell_type": "code",
      "source": [
        "lis = []\n",
        "lis.append(3)  \n",
        "lis.extend(\"a\")\n",
        "lis.extend([1,2])\n",
        "print(lis)"
      ],
      "metadata": {
        "colab": {
          "base_uri": "https://localhost:8080/"
        },
        "id": "SYUMd8zN8jJF",
        "outputId": "113253bd-f327-45bd-dd03-1468f682fb70"
      },
      "execution_count": 200,
      "outputs": [
        {
          "output_type": "stream",
          "name": "stdout",
          "text": [
            "[3, 'a', 1, 2]\n"
          ]
        }
      ]
    },
    {
      "cell_type": "code",
      "source": [
        "lis = []\n",
        "lis.append(3)  \n",
        "lis.extend(\"a\")\n",
        "lis.append([1,2])\n",
        "print(lis)"
      ],
      "metadata": {
        "colab": {
          "base_uri": "https://localhost:8080/"
        },
        "id": "WrAPOl5W8l5v",
        "outputId": "ac8b892c-7041-45ec-d2db-4af510c91d82"
      },
      "execution_count": 201,
      "outputs": [
        {
          "output_type": "stream",
          "name": "stdout",
          "text": [
            "[3, 'a', [1, 2]]\n"
          ]
        }
      ]
    },
    {
      "cell_type": "code",
      "source": [
        "numbers = [3,4,5,6]\n",
        "#liste sonuna 7 ekleme\n",
        "numbers.insert(len(numbers), 7) \n",
        "print(numbers)"
      ],
      "metadata": {
        "colab": {
          "base_uri": "https://localhost:8080/"
        },
        "id": "6rwAHXCu9hQw",
        "outputId": "90dbffd2-c4ab-4f4f-c611-d9b36581dd38"
      },
      "execution_count": 202,
      "outputs": [
        {
          "output_type": "stream",
          "name": "stdout",
          "text": [
            "[3, 4, 5, 6, 7]\n"
          ]
        }
      ]
    },
    {
      "cell_type": "code",
      "source": [
        "(x:=[1,2,3]).extend(x)\n",
        "print(x)"
      ],
      "metadata": {
        "colab": {
          "base_uri": "https://localhost:8080/"
        },
        "id": "b9JwLhdM-QRT",
        "outputId": "7485ae45-65e2-4a39-aa4e-d5a76ea5a570"
      },
      "execution_count": 204,
      "outputs": [
        {
          "output_type": "stream",
          "name": "stdout",
          "text": [
            "[1, 2, 3, 1, 2, 3]\n"
          ]
        }
      ]
    },
    {
      "cell_type": "code",
      "source": [
        "(x:=[1,2,3]).append(x)\n",
        "print(x)"
      ],
      "metadata": {
        "colab": {
          "base_uri": "https://localhost:8080/"
        },
        "id": "jGRJnSh0-bVG",
        "outputId": "567fa153-af28-4a15-ef6e-aae933d92ab7"
      },
      "execution_count": 205,
      "outputs": [
        {
          "output_type": "stream",
          "name": "stdout",
          "text": [
            "[1, 2, 3, [...]]\n"
          ]
        }
      ]
    },
    {
      "cell_type": "code",
      "source": [
        "numbers = [3,4,5,6]\n",
        "#listeden 5'i sil\n",
        "numbers.remove(5)\n",
        "print(numbers)"
      ],
      "metadata": {
        "colab": {
          "base_uri": "https://localhost:8080/"
        },
        "id": "DzOs7Lu--xOL",
        "outputId": "957e8179-5544-47c0-cc3a-c4f937e99319"
      },
      "execution_count": 206,
      "outputs": [
        {
          "output_type": "stream",
          "name": "stdout",
          "text": [
            "[3, 4, 6]\n"
          ]
        }
      ]
    },
    {
      "cell_type": "code",
      "source": [
        "numbers = [3,4,5,6]\n",
        "#listeden 5'i sil\n",
        "numbers.pop(2)  #.pop(indis)\n",
        "print(numbers)"
      ],
      "metadata": {
        "colab": {
          "base_uri": "https://localhost:8080/"
        },
        "id": "qSaV89nC-7F9",
        "outputId": "9c7c553d-23bc-459b-b7c8-9241063b7ae6"
      },
      "execution_count": 207,
      "outputs": [
        {
          "output_type": "stream",
          "name": "stdout",
          "text": [
            "[3, 4, 6]\n"
          ]
        }
      ]
    },
    {
      "cell_type": "code",
      "source": [
        "numbers = [3,4,5,6]\n",
        "#listeden 4 ve 5'i sil\n",
        "del numbers[1:3]  #del liste[start:stop-1]\n",
        "print(numbers)"
      ],
      "metadata": {
        "colab": {
          "base_uri": "https://localhost:8080/"
        },
        "id": "G_eXrSRb_ICP",
        "outputId": "a4e16aa5-93f2-405f-afe5-a5c152adaf65"
      },
      "execution_count": 208,
      "outputs": [
        {
          "output_type": "stream",
          "name": "stdout",
          "text": [
            "[3, 6]\n"
          ]
        }
      ]
    },
    {
      "cell_type": "code",
      "source": [
        "#sıralama:tersten\n",
        "nums = [3,5,7,2,1,9]\n",
        "nums.sort(reverse=True)  # sort aynı tip elemanlar üzerinde sırlama yapar\n",
        "print(nums)"
      ],
      "metadata": {
        "colab": {
          "base_uri": "https://localhost:8080/"
        },
        "id": "Iyku0m3O_4bb",
        "outputId": "fa786982-1c50-4a03-fb19-a84c5774cc64"
      },
      "execution_count": 209,
      "outputs": [
        {
          "output_type": "stream",
          "name": "stdout",
          "text": [
            "[9, 7, 5, 3, 2, 1]\n"
          ]
        }
      ]
    },
    {
      "cell_type": "code",
      "source": [
        "nums = [3,5,7,2,1,9]\n",
        "nums_copy = nums.sort()  #sort() inplace metot : yerinde değişiklik yapan bir metot\n",
        "print(nums_copy)"
      ],
      "metadata": {
        "colab": {
          "base_uri": "https://localhost:8080/"
        },
        "id": "uJThpKxFAruQ",
        "outputId": "2556ef6e-0f47-4fc0-a52d-63cfcc3939c6"
      },
      "execution_count": 210,
      "outputs": [
        {
          "output_type": "stream",
          "name": "stdout",
          "text": [
            "None\n"
          ]
        }
      ]
    },
    {
      "cell_type": "code",
      "source": [
        "nums = [3,5,7,2,1,9]\n",
        "nums_copy = sorted(nums)  #sorted() ile doğrudan \n",
        "print(nums_copy)\n",
        "print(nums)"
      ],
      "metadata": {
        "colab": {
          "base_uri": "https://localhost:8080/"
        },
        "id": "sAl6GgR3A7Ot",
        "outputId": "e2da1be4-a678-48f6-8217-085f0a729706"
      },
      "execution_count": 212,
      "outputs": [
        {
          "output_type": "stream",
          "name": "stdout",
          "text": [
            "[1, 2, 3, 5, 7, 9]\n",
            "[3, 5, 7, 2, 1, 9]\n"
          ]
        }
      ]
    },
    {
      "cell_type": "code",
      "source": [
        "# bir listeyi ters çevirme: reverse()\n",
        "nums = [3,5,7,2,1,9]\n",
        "tersi_nums = nums[::-1]\n",
        "print(tersi_nums)"
      ],
      "metadata": {
        "colab": {
          "base_uri": "https://localhost:8080/"
        },
        "id": "TMh8eFWxBQjV",
        "outputId": "2350e555-ffe7-4135-a293-fa09301081b1"
      },
      "execution_count": 213,
      "outputs": [
        {
          "output_type": "stream",
          "name": "stdout",
          "text": [
            "[9, 1, 2, 7, 5, 3]\n"
          ]
        }
      ]
    },
    {
      "cell_type": "code",
      "source": [
        "# bir listeyi ters çevirme: reverse()\n",
        "nums = [3,5,7,2,1,9]\n",
        "tersi_nums = reversed(nums)\n",
        "print(list(tersi_nums))"
      ],
      "metadata": {
        "colab": {
          "base_uri": "https://localhost:8080/"
        },
        "id": "PXB4UmCeBo8W",
        "outputId": "6e0ba70e-e75b-4be7-9a11-287919fcbd71"
      },
      "execution_count": 216,
      "outputs": [
        {
          "output_type": "stream",
          "name": "stdout",
          "text": [
            "[9, 1, 2, 7, 5, 3]\n"
          ]
        }
      ]
    },
    {
      "cell_type": "code",
      "source": [
        "# bir listeyi ters çevirme: reverse()\n",
        "nums = [3,5,7,2,1,9]\n",
        "nums.reverse()  #in-place metot, başka bir değişkene doğrudan aktarılmaz\n",
        "print(nums)"
      ],
      "metadata": {
        "colab": {
          "base_uri": "https://localhost:8080/"
        },
        "id": "0VDsD0OxBdmC",
        "outputId": "4ccaef70-0c58-47f0-ded3-2bfd21a42ec4"
      },
      "execution_count": 214,
      "outputs": [
        {
          "output_type": "stream",
          "name": "stdout",
          "text": [
            "[9, 1, 2, 7, 5, 3]\n"
          ]
        }
      ]
    },
    {
      "cell_type": "code",
      "source": [
        "# Listeler ile kuyruk tasarımı/modellemesi\n",
        "dosya = [\"dosya1\", \"dosya2\", \"dosya3\"]\n",
        "# kuyruk sonuna eleman ekle\n",
        "dosya.append(\"dosya4\")\n",
        "# FIFO: ilk giren ilk çıkar: kuyruktan ilk elemanı çıkarmak için\n",
        "dosya.pop(0)  #ilk elemanı çıkarır\n",
        "print(dosya)"
      ],
      "metadata": {
        "colab": {
          "base_uri": "https://localhost:8080/"
        },
        "id": "BgE3DLc6CYnP",
        "outputId": "2cbca79c-6223-4fec-ea8a-6009e79598aa"
      },
      "execution_count": 219,
      "outputs": [
        {
          "output_type": "stream",
          "name": "stdout",
          "text": [
            "['dosya2', 'dosya3', 'dosya4']\n"
          ]
        }
      ]
    },
    {
      "cell_type": "code",
      "source": [
        "# Listeler ile kuyruk tasarımı/modellemesi-2\n",
        "from collections import deque\n",
        "dosya = [\"dosya1\", \"dosya2\", \"dosya3\"]\n",
        "dosya = deque(dosya)\n",
        "# kuyruk sonuna eleman ekle\n",
        "dosya.append(\"dosya4\")\n",
        "# FIFO: ilk giren ilk çıkar: kuyruktan ilk elemanı çıkarmak için\n",
        "dosya.popleft()  #ilk elemanı çıkarır\n",
        "print(dosya)"
      ],
      "metadata": {
        "colab": {
          "base_uri": "https://localhost:8080/"
        },
        "id": "qUpJeusDDGr-",
        "outputId": "92e96a6f-47e2-4c1d-d004-0f88a1f4914e"
      },
      "execution_count": 221,
      "outputs": [
        {
          "output_type": "stream",
          "name": "stdout",
          "text": [
            "deque(['dosya2', 'dosya3', 'dosya4'])\n"
          ]
        }
      ]
    },
    {
      "cell_type": "code",
      "source": [
        "# 1-100 arası sayı üretip tek olanları alalım\n",
        "nums = list(range(1,101))\n",
        "nums_tek = nums[::2]\n",
        "print(nums_tek)"
      ],
      "metadata": {
        "colab": {
          "base_uri": "https://localhost:8080/"
        },
        "id": "LUgicGnNGJDT",
        "outputId": "2f6f4758-4539-4056-f60d-b4a562242820"
      },
      "execution_count": 225,
      "outputs": [
        {
          "output_type": "stream",
          "name": "stdout",
          "text": [
            "[1, 3, 5, 7, 9, 11, 13, 15, 17, 19, 21, 23, 25, 27, 29, 31, 33, 35, 37, 39, 41, 43, 45, 47, 49, 51, 53, 55, 57, 59, 61, 63, 65, 67, 69, 71, 73, 75, 77, 79, 81, 83, 85, 87, 89, 91, 93, 95, 97, 99]\n"
          ]
        }
      ]
    },
    {
      "cell_type": "code",
      "source": [
        "mix = [1, [1,\"one\",2,\"two\",3, \"three\"], 5, 6, 7, 73]\n",
        "# mix içerisindeki stringleri nasıl alırız?\n",
        "mix_str = mix[1][1::2]\n",
        "mix_str"
      ],
      "metadata": {
        "colab": {
          "base_uri": "https://localhost:8080/"
        },
        "id": "s0IALVZNHNc7",
        "outputId": "d0ba6e0e-6b82-478d-9ceb-6dcd4a92202a"
      },
      "execution_count": 228,
      "outputs": [
        {
          "output_type": "execute_result",
          "data": {
            "text/plain": [
              "['one', 'two', 'three']"
            ]
          },
          "metadata": {},
          "execution_count": 228
        }
      ]
    },
    {
      "cell_type": "code",
      "source": [
        "demet = 2,3,4\n",
        "print(type(demet))"
      ],
      "metadata": {
        "colab": {
          "base_uri": "https://localhost:8080/"
        },
        "id": "1FYFuMnNH_-6",
        "outputId": "475d2755-4161-49ca-c548-e38bf0febc71"
      },
      "execution_count": 230,
      "outputs": [
        {
          "output_type": "stream",
          "name": "stdout",
          "text": [
            "<class 'tuple'>\n"
          ]
        }
      ]
    },
    {
      "cell_type": "code",
      "source": [
        "# tuple , listlerden daha az bellekte yer kaplar ve daha hızlı çalışır.\n",
        "nums_list = list(range(1,101))\n",
        "nums_demet = tuple(range(1,101))\n",
        "import sys\n",
        "print(sys.getsizeof(nums_list))  #byte cinsinden alanı belirtir\n",
        "print(sys.getsizeof(nums_demet)) "
      ],
      "metadata": {
        "colab": {
          "base_uri": "https://localhost:8080/"
        },
        "id": "vMt1sbnyIKmZ",
        "outputId": "1e36fe62-c7cb-4fe9-9a17-35e971d079b3"
      },
      "execution_count": 234,
      "outputs": [
        {
          "output_type": "stream",
          "name": "stdout",
          "text": [
            "856\n",
            "840\n"
          ]
        }
      ]
    },
    {
      "cell_type": "code",
      "source": [
        "#hız testi: komut isteminden çalıştırın\n",
        "!python3 -m timeit \"tuple(range(1,101))\"  #windows için python3 yerine py "
      ],
      "metadata": {
        "colab": {
          "base_uri": "https://localhost:8080/"
        },
        "id": "MOsVYG_6K9Mj",
        "outputId": "c3268991-adfc-4a32-a4b2-006db534b174"
      },
      "execution_count": 242,
      "outputs": [
        {
          "output_type": "stream",
          "name": "stdout",
          "text": [
            "200000 loops, best of 5: 1.62 usec per loop\n"
          ]
        }
      ]
    },
    {
      "cell_type": "code",
      "source": [
        "!python3 -m timeit \"list(range(1,101))\""
      ],
      "metadata": {
        "colab": {
          "base_uri": "https://localhost:8080/"
        },
        "id": "2aMfqt5KLLJe",
        "outputId": "a08f0f88-fc59-44dd-c43d-73cf3e8ddfdb"
      },
      "execution_count": 243,
      "outputs": [
        {
          "output_type": "stream",
          "name": "stdout",
          "text": [
            "500000 loops, best of 5: 798 nsec per loop\n"
          ]
        }
      ]
    },
    {
      "cell_type": "code",
      "source": [
        "e = \"earth\", \"venus\", \"uranus\"\n",
        "print(e, type(e))"
      ],
      "metadata": {
        "colab": {
          "base_uri": "https://localhost:8080/"
        },
        "id": "juCrofXhJtdr",
        "outputId": "c2b1916a-1431-462a-8389-8a68d18aa446"
      },
      "execution_count": 237,
      "outputs": [
        {
          "output_type": "stream",
          "name": "stdout",
          "text": [
            "('earth', 'venus', 'uranus') <class 'tuple'>\n"
          ]
        }
      ]
    },
    {
      "cell_type": "code",
      "source": [
        "e,v,u = \"earth\", \"venus\", \"uranus\"\n",
        "print(e, type(e))"
      ],
      "metadata": {
        "colab": {
          "base_uri": "https://localhost:8080/"
        },
        "id": "AMFXrch_Jdms",
        "outputId": "9fca6e4b-2e1c-46ae-fbe9-4e807689a192"
      },
      "execution_count": 235,
      "outputs": [
        {
          "output_type": "stream",
          "name": "stdout",
          "text": [
            "earth <class 'str'>\n"
          ]
        }
      ]
    },
    {
      "cell_type": "code",
      "source": [
        "e,u = (\"earth\", \"venus\"), \"uranus\"\n",
        "print(e, type(e))"
      ],
      "metadata": {
        "colab": {
          "base_uri": "https://localhost:8080/"
        },
        "id": "NbiYqw9rJltd",
        "outputId": "b027fc28-8875-40cb-dc16-34d19bb6e197"
      },
      "execution_count": 236,
      "outputs": [
        {
          "output_type": "stream",
          "name": "stdout",
          "text": [
            "('earth', 'venus') <class 'tuple'>\n"
          ]
        }
      ]
    },
    {
      "cell_type": "code",
      "source": [
        "dir(tuple)[-2:]  # metot ve özellikleri listeler"
      ],
      "metadata": {
        "colab": {
          "base_uri": "https://localhost:8080/"
        },
        "id": "IQusHR--J8_t",
        "outputId": "08883a4e-d766-4e51-ca64-66bc05ab4ce0"
      },
      "execution_count": 239,
      "outputs": [
        {
          "output_type": "execute_result",
          "data": {
            "text/plain": [
              "['count', 'index']"
            ]
          },
          "metadata": {},
          "execution_count": 239
        }
      ]
    },
    {
      "cell_type": "code",
      "source": [
        "dir(list)[-11:]  # metot ve özellikleri listeler"
      ],
      "metadata": {
        "colab": {
          "base_uri": "https://localhost:8080/"
        },
        "id": "1-vWTppHKJ2_",
        "outputId": "b22adb64-7d74-4b96-974e-27c346041a6d"
      },
      "execution_count": 241,
      "outputs": [
        {
          "output_type": "execute_result",
          "data": {
            "text/plain": [
              "['append',\n",
              " 'clear',\n",
              " 'copy',\n",
              " 'count',\n",
              " 'extend',\n",
              " 'index',\n",
              " 'insert',\n",
              " 'pop',\n",
              " 'remove',\n",
              " 'reverse',\n",
              " 'sort']"
            ]
          },
          "metadata": {},
          "execution_count": 241
        }
      ]
    },
    {
      "cell_type": "code",
      "source": [
        "#tuple immutable özelliği\n",
        "e = \"earth\", \"venus\", \"uranus\"\n",
        "e[1] = \"mars\"\n",
        "print(e)"
      ],
      "metadata": {
        "colab": {
          "base_uri": "https://localhost:8080/",
          "height": 218
        },
        "id": "g9ynaAd3La2y",
        "outputId": "fe176a43-0dec-4208-87d5-6cfc0e01761c"
      },
      "execution_count": 244,
      "outputs": [
        {
          "output_type": "error",
          "ename": "TypeError",
          "evalue": "ignored",
          "traceback": [
            "\u001b[0;31m---------------------------------------------------------------------------\u001b[0m",
            "\u001b[0;31mTypeError\u001b[0m                                 Traceback (most recent call last)",
            "\u001b[0;32m<ipython-input-244-e34644754e2a>\u001b[0m in \u001b[0;36m<cell line: 3>\u001b[0;34m()\u001b[0m\n\u001b[1;32m      1\u001b[0m \u001b[0;31m#tuple immutable özelliği\u001b[0m\u001b[0;34m\u001b[0m\u001b[0;34m\u001b[0m\u001b[0m\n\u001b[1;32m      2\u001b[0m \u001b[0me\u001b[0m \u001b[0;34m=\u001b[0m \u001b[0;34m\"earth\"\u001b[0m\u001b[0;34m,\u001b[0m \u001b[0;34m\"venus\"\u001b[0m\u001b[0;34m,\u001b[0m \u001b[0;34m\"uranus\"\u001b[0m\u001b[0;34m\u001b[0m\u001b[0;34m\u001b[0m\u001b[0m\n\u001b[0;32m----> 3\u001b[0;31m \u001b[0me\u001b[0m\u001b[0;34m[\u001b[0m\u001b[0;36m1\u001b[0m\u001b[0;34m]\u001b[0m \u001b[0;34m=\u001b[0m \u001b[0;34m\"mars\"\u001b[0m\u001b[0;34m\u001b[0m\u001b[0;34m\u001b[0m\u001b[0m\n\u001b[0m\u001b[1;32m      4\u001b[0m \u001b[0mprint\u001b[0m\u001b[0;34m(\u001b[0m\u001b[0me\u001b[0m\u001b[0;34m)\u001b[0m\u001b[0;34m\u001b[0m\u001b[0;34m\u001b[0m\u001b[0m\n",
            "\u001b[0;31mTypeError\u001b[0m: 'tuple' object does not support item assignment"
          ]
        }
      ]
    },
    {
      "cell_type": "code",
      "source": [
        "mix = (1, [1,\"one\",2,\"two\",3, \"three\"], 5, 6, 7, 73, [2,\"iki\"])\n",
        "#en son elemana nasıl erişirim\n",
        "mix[-1]"
      ],
      "metadata": {
        "colab": {
          "base_uri": "https://localhost:8080/"
        },
        "id": "VSa7evuwL5FW",
        "outputId": "ea7c80c4-db74-42c5-bbbc-e6be089ab4bf"
      },
      "execution_count": 245,
      "outputs": [
        {
          "output_type": "execute_result",
          "data": {
            "text/plain": [
              "[2, 'iki']"
            ]
          },
          "metadata": {},
          "execution_count": 245
        }
      ]
    },
    {
      "cell_type": "code",
      "source": [
        "# unpacking(açma): tüm iterable nesnelere uygulanabilir\n",
        "a,b,c = (1,2,3)\n",
        "print(b)"
      ],
      "metadata": {
        "colab": {
          "base_uri": "https://localhost:8080/"
        },
        "id": "W1SQoV9zMUbh",
        "outputId": "96ef3fd9-f5c1-4fe5-b1e9-be8602c99314"
      },
      "execution_count": 246,
      "outputs": [
        {
          "output_type": "stream",
          "name": "stdout",
          "text": [
            "2\n"
          ]
        }
      ]
    },
    {
      "cell_type": "code",
      "source": [
        "a,b,c = \"alim\"\n",
        "print(b)"
      ],
      "metadata": {
        "colab": {
          "base_uri": "https://localhost:8080/",
          "height": 183
        },
        "id": "3jXdj_jEMlhX",
        "outputId": "a405d32e-c930-48d4-ce95-cde767ed0bcf"
      },
      "execution_count": 247,
      "outputs": [
        {
          "output_type": "error",
          "ename": "ValueError",
          "evalue": "ignored",
          "traceback": [
            "\u001b[0;31m---------------------------------------------------------------------------\u001b[0m",
            "\u001b[0;31mValueError\u001b[0m                                Traceback (most recent call last)",
            "\u001b[0;32m<ipython-input-247-3b91241fd706>\u001b[0m in \u001b[0;36m<cell line: 1>\u001b[0;34m()\u001b[0m\n\u001b[0;32m----> 1\u001b[0;31m \u001b[0ma\u001b[0m\u001b[0;34m,\u001b[0m\u001b[0mb\u001b[0m\u001b[0;34m,\u001b[0m\u001b[0mc\u001b[0m \u001b[0;34m=\u001b[0m \u001b[0;34m\"alim\"\u001b[0m\u001b[0;34m\u001b[0m\u001b[0;34m\u001b[0m\u001b[0m\n\u001b[0m\u001b[1;32m      2\u001b[0m \u001b[0mprint\u001b[0m\u001b[0;34m(\u001b[0m\u001b[0mb\u001b[0m\u001b[0;34m)\u001b[0m\u001b[0;34m\u001b[0m\u001b[0;34m\u001b[0m\u001b[0m\n",
            "\u001b[0;31mValueError\u001b[0m: too many values to unpack (expected 3)"
          ]
        }
      ]
    },
    {
      "cell_type": "code",
      "source": [
        "a,b,*c = \"alim\"\n",
        "print(b)\n",
        "print(c)"
      ],
      "metadata": {
        "colab": {
          "base_uri": "https://localhost:8080/"
        },
        "id": "DutTh49rMwwg",
        "outputId": "53df9db8-c68a-4e30-b572-39efdea08d39"
      },
      "execution_count": 248,
      "outputs": [
        {
          "output_type": "stream",
          "name": "stdout",
          "text": [
            "l\n",
            "['i', 'm']\n"
          ]
        }
      ]
    },
    {
      "cell_type": "code",
      "source": [
        "a,b = \"alim\"\n",
        "print(b)"
      ],
      "metadata": {
        "colab": {
          "base_uri": "https://localhost:8080/",
          "height": 183
        },
        "id": "S1CulQBBM3v5",
        "outputId": "9db318b4-77a5-4f09-ba6e-427a40e64bd5"
      },
      "execution_count": 251,
      "outputs": [
        {
          "output_type": "error",
          "ename": "ValueError",
          "evalue": "ignored",
          "traceback": [
            "\u001b[0;31m---------------------------------------------------------------------------\u001b[0m",
            "\u001b[0;31mValueError\u001b[0m                                Traceback (most recent call last)",
            "\u001b[0;32m<ipython-input-251-e730a186fb08>\u001b[0m in \u001b[0;36m<cell line: 1>\u001b[0;34m()\u001b[0m\n\u001b[0;32m----> 1\u001b[0;31m \u001b[0ma\u001b[0m\u001b[0;34m,\u001b[0m\u001b[0mb\u001b[0m \u001b[0;34m=\u001b[0m \u001b[0;34m\"alim\"\u001b[0m\u001b[0;34m\u001b[0m\u001b[0;34m\u001b[0m\u001b[0m\n\u001b[0m\u001b[1;32m      2\u001b[0m \u001b[0mprint\u001b[0m\u001b[0;34m(\u001b[0m\u001b[0mb\u001b[0m\u001b[0;34m)\u001b[0m\u001b[0;34m\u001b[0m\u001b[0;34m\u001b[0m\u001b[0m\n",
            "\u001b[0;31mValueError\u001b[0m: too many values to unpack (expected 2)"
          ]
        }
      ]
    },
    {
      "cell_type": "code",
      "source": [
        "a,*b = \"alim\"\n",
        "print(b)"
      ],
      "metadata": {
        "colab": {
          "base_uri": "https://localhost:8080/"
        },
        "id": "8iLbFk2MM_aT",
        "outputId": "fad18f18-5640-4651-c270-c84b5a713dea"
      },
      "execution_count": 252,
      "outputs": [
        {
          "output_type": "stream",
          "name": "stdout",
          "text": [
            "['l', 'i', 'm']\n"
          ]
        }
      ]
    },
    {
      "cell_type": "code",
      "source": [
        "a,*b,c = (1,2,3,4,5,6,7,8,9)\n",
        "print(a,\"\\n\",b,\"\\n\",c)"
      ],
      "metadata": {
        "colab": {
          "base_uri": "https://localhost:8080/"
        },
        "id": "N0Si9DH1NHWO",
        "outputId": "89473477-dbc6-45ba-a603-bf07cc9672ba"
      },
      "execution_count": 253,
      "outputs": [
        {
          "output_type": "stream",
          "name": "stdout",
          "text": [
            "1 \n",
            " [2, 3, 4, 5, 6, 7, 8] \n",
            " 9\n"
          ]
        }
      ]
    },
    {
      "cell_type": "markdown",
      "source": [
        "#Sözlük(dict)"
      ],
      "metadata": {
        "id": "LB972FM3OGQ9"
      }
    },
    {
      "cell_type": "code",
      "source": [
        "musteri = {\"meyve\": \"elma\", \"icki\":\"süt\"}\n",
        "musteri2 = dict(meyve=\"elma\", icki=\"süt\")   #burada değişken isimlendirme kurallarına uymalıyız\n",
        "print(musteri)\n",
        "print(musteri2)"
      ],
      "metadata": {
        "colab": {
          "base_uri": "https://localhost:8080/"
        },
        "id": "IBvoWzCJOI2W",
        "outputId": "f3929e81-9ca8-45b9-efc5-f11ac8dfe56c"
      },
      "execution_count": 254,
      "outputs": [
        {
          "output_type": "stream",
          "name": "stdout",
          "text": [
            "{'meyve': 'elma', 'icki': 'süt'}\n",
            "{'meyve': 'elma', 'icki': 'süt'}\n"
          ]
        }
      ]
    },
    {
      "cell_type": "code",
      "source": [
        "musteri[0] #indis kullanılmaz"
      ],
      "metadata": {
        "colab": {
          "base_uri": "https://localhost:8080/",
          "height": 166
        },
        "id": "yyZNF5phOmmy",
        "outputId": "e1c0ecde-49a1-4608-cf23-0741dcd313d2"
      },
      "execution_count": 255,
      "outputs": [
        {
          "output_type": "error",
          "ename": "KeyError",
          "evalue": "ignored",
          "traceback": [
            "\u001b[0;31m---------------------------------------------------------------------------\u001b[0m",
            "\u001b[0;31mKeyError\u001b[0m                                  Traceback (most recent call last)",
            "\u001b[0;32m<ipython-input-255-531290a648e0>\u001b[0m in \u001b[0;36m<cell line: 1>\u001b[0;34m()\u001b[0m\n\u001b[0;32m----> 1\u001b[0;31m \u001b[0mmusteri\u001b[0m\u001b[0;34m[\u001b[0m\u001b[0;36m0\u001b[0m\u001b[0;34m]\u001b[0m \u001b[0;31m#indis kullanılmaz\u001b[0m\u001b[0;34m\u001b[0m\u001b[0;34m\u001b[0m\u001b[0m\n\u001b[0m",
            "\u001b[0;31mKeyError\u001b[0m: 0"
          ]
        }
      ]
    },
    {
      "cell_type": "code",
      "source": [
        "musteri['meyve']  # key kullanılır "
      ],
      "metadata": {
        "colab": {
          "base_uri": "https://localhost:8080/",
          "height": 35
        },
        "id": "G4qDFmh5OskW",
        "outputId": "ba3796f5-5a57-41ed-f5e0-9f80f7b7d5e9"
      },
      "execution_count": 256,
      "outputs": [
        {
          "output_type": "execute_result",
          "data": {
            "text/plain": [
              "'elma'"
            ],
            "application/vnd.google.colaboratory.intrinsic+json": {
              "type": "string"
            }
          },
          "metadata": {},
          "execution_count": 256
        }
      ]
    },
    {
      "cell_type": "code",
      "source": [
        "help(zip)"
      ],
      "metadata": {
        "id": "xUkfnj8jPjdD"
      },
      "execution_count": null,
      "outputs": []
    },
    {
      "cell_type": "code",
      "source": [
        "list1= ['one', 'two', 'three']\n",
        "list2 = [1, 2, 3]\n",
        "birlesmis_liste = list(zip(list1,list2)) #demet halinde birleştirme yapar\n",
        "print(birlesmis_liste)"
      ],
      "metadata": {
        "colab": {
          "base_uri": "https://localhost:8080/"
        },
        "id": "kLJVdEzFPt6j",
        "outputId": "491acbf0-7a01-446c-9195-7ca9daf6528e"
      },
      "execution_count": 260,
      "outputs": [
        {
          "output_type": "stream",
          "name": "stdout",
          "text": [
            "[('one', 1), ('two', 2), ('three', 3)]\n"
          ]
        }
      ]
    },
    {
      "cell_type": "code",
      "source": [
        "list1= ['one', 'two', 'three']\n",
        "list2 = [1, 2, 3]\n",
        "szlk = dict(zip(list1,list2)) #demet halinde birleştirme yapar\n",
        "print(szlk)"
      ],
      "metadata": {
        "colab": {
          "base_uri": "https://localhost:8080/"
        },
        "id": "NeYms9gXQCuh",
        "outputId": "1f639f4b-9eff-40a2-c5e6-382c2fbea48d"
      },
      "execution_count": 261,
      "outputs": [
        {
          "output_type": "stream",
          "name": "stdout",
          "text": [
            "{'one': 1, 'two': 2, 'three': 3}\n"
          ]
        }
      ]
    },
    {
      "cell_type": "code",
      "source": [
        "# dict() unordered yapıdadır.\n",
        "a = dict(one=1, two=2, three=3)\n",
        "b = {'one': 1, 'two': 2, 'three': 3}\n",
        "c = dict(zip(['one', 'two', 'three'], [1, 2, 3]))\n",
        "d = dict([('two', 2), ('one', 1), ('three', 3)])\n",
        "e = dict({'three': 3, 'one': 1, 'two': 2})\n",
        "f = dict({'one': 1, 'three': 3}, two=2)\n",
        "a == b == c == d == e == f"
      ],
      "metadata": {
        "colab": {
          "base_uri": "https://localhost:8080/"
        },
        "id": "eQt5c_KtPPJn",
        "outputId": "ff3e989f-ce1f-45a8-a357-722ddeea42ec"
      },
      "execution_count": 257,
      "outputs": [
        {
          "output_type": "execute_result",
          "data": {
            "text/plain": [
              "True"
            ]
          },
          "metadata": {},
          "execution_count": 257
        }
      ]
    },
    {
      "cell_type": "code",
      "source": [
        "a = dict(one=1, two=2, three=3)\n",
        "#reverse (ters çevirme)\n",
        "print(a)\n",
        "print(dict(reversed(a.items())))"
      ],
      "metadata": {
        "colab": {
          "base_uri": "https://localhost:8080/"
        },
        "id": "i_Hoxa8aQaqX",
        "outputId": "60b75de2-bc48-49d1-df7c-b74286c430ee"
      },
      "execution_count": 265,
      "outputs": [
        {
          "output_type": "stream",
          "name": "stdout",
          "text": [
            "{'one': 1, 'two': 2, 'three': 3}\n",
            "{'three': 3, 'two': 2, 'one': 1}\n"
          ]
        }
      ]
    },
    {
      "cell_type": "code",
      "source": [
        "# items() : key: value şeklinde tüm elemanları verir\n",
        "# keys() : sadece key leri verir\n",
        "# values() : sadece value ları verir\n",
        "a = dict(one=1, two=2, three=3)\n",
        "for i in a.items():\n",
        "    print(i)"
      ],
      "metadata": {
        "colab": {
          "base_uri": "https://localhost:8080/"
        },
        "id": "rcCFMP7ZQtYQ",
        "outputId": "af5852c9-4a37-4d41-fb58-14f7a9836591"
      },
      "execution_count": 267,
      "outputs": [
        {
          "output_type": "stream",
          "name": "stdout",
          "text": [
            "('one', 1)\n",
            "('two', 2)\n",
            "('three', 3)\n"
          ]
        }
      ]
    },
    {
      "cell_type": "code",
      "source": [
        "a = dict(one=1, two=2, three=3)\n",
        "for k,v in a.items():\n",
        "    print(k, \":\", v)"
      ],
      "metadata": {
        "colab": {
          "base_uri": "https://localhost:8080/"
        },
        "id": "X05OhNDKRCiy",
        "outputId": "5d936834-72ff-421d-ca7c-c8e7b2b262e2"
      },
      "execution_count": 268,
      "outputs": [
        {
          "output_type": "stream",
          "name": "stdout",
          "text": [
            "one : 1\n",
            "two : 2\n",
            "three : 3\n"
          ]
        }
      ]
    },
    {
      "cell_type": "code",
      "source": [
        "#dict() metot listesi\n",
        "dir(dict)[-11:]"
      ],
      "metadata": {
        "colab": {
          "base_uri": "https://localhost:8080/"
        },
        "id": "6ktTCGrwRNpM",
        "outputId": "2b43ab6c-e7e4-4e5e-e8f7-7a1a29ad004c"
      },
      "execution_count": 270,
      "outputs": [
        {
          "output_type": "execute_result",
          "data": {
            "text/plain": [
              "['clear',\n",
              " 'copy',\n",
              " 'fromkeys',\n",
              " 'get',\n",
              " 'items',\n",
              " 'keys',\n",
              " 'pop',\n",
              " 'popitem',\n",
              " 'setdefault',\n",
              " 'update',\n",
              " 'values']"
            ]
          },
          "metadata": {},
          "execution_count": 270
        }
      ]
    },
    {
      "cell_type": "code",
      "source": [
        "tr_en = {\"pazar\":\"sunday\", \"pazartesi\":\"monda\", \"salı\":\"tuesday\", \"çarşamba\":\"wednesday\",\n",
        "         \"perşembe\":\"thursday\", \"cuma\":\"friday\", \"cumartesi\":\"saturday\"}\n",
        "\n",
        "ara = input(\"Türkçe gün adı.:\")\n",
        "en_ara = tr_en.get(ara, \"aranan sözlükte yoktur\")\n",
        "print(en_ara)"
      ],
      "metadata": {
        "colab": {
          "base_uri": "https://localhost:8080/"
        },
        "id": "orpzD_ALRxOG",
        "outputId": "2c4f733f-824b-486b-9005-3a34f5c35ab5"
      },
      "execution_count": 274,
      "outputs": [
        {
          "output_type": "stream",
          "name": "stdout",
          "text": [
            "Türkçe gün adı.:sedef\n",
            "aranan sözlükte yoktur\n"
          ]
        }
      ]
    },
    {
      "cell_type": "code",
      "source": [
        "# güncelleme için\n",
        "tr_en.update(cumartesi=\"sat\", hafta=\"weekday\")\n",
        "print(tr_en)"
      ],
      "metadata": {
        "colab": {
          "base_uri": "https://localhost:8080/"
        },
        "id": "n8LdB8e-Susm",
        "outputId": "57683f1d-970e-45dd-f2b9-002f57f020ce"
      },
      "execution_count": 277,
      "outputs": [
        {
          "output_type": "stream",
          "name": "stdout",
          "text": [
            "{'pazar': 'sunday', 'pazartesi': 'monda', 'salı': 'tuesday', 'çarşamba': 'wednesday', 'perşembe': 'thursday', 'cuma': 'friday', 'cumartesi': 'sat', 'hafta': 'weekday'}\n"
          ]
        }
      ]
    },
    {
      "cell_type": "code",
      "source": [
        "#silmek için\n",
        "sil = input(\"Silinecek Türkçe gün adı.:\")\n",
        "en_sil = tr_en.pop(sil, \"Sözlükte yoktur\")\n",
        "print(en_sil)\n",
        "print(tr_en)"
      ],
      "metadata": {
        "colab": {
          "base_uri": "https://localhost:8080/"
        },
        "id": "ira-B1r4TQiR",
        "outputId": "c5df13a6-35a5-434f-917a-06cc78388068"
      },
      "execution_count": 280,
      "outputs": [
        {
          "output_type": "stream",
          "name": "stdout",
          "text": [
            "Silinecek Türkçe gün adı.:dede\n",
            "Sözlükte yoktur\n",
            "{'pazar': 'sunday', 'pazartesi': 'monda', 'salı': 'tuesday', 'çarşamba': 'wednesday', 'perşembe': 'thursday', 'cuma': 'friday', 'cumartesi': 'sat'}\n"
          ]
        }
      ]
    }
  ]
}