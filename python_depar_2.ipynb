{
  "nbformat": 4,
  "nbformat_minor": 0,
  "metadata": {
    "colab": {
      "provenance": []
    },
    "kernelspec": {
      "name": "python3",
      "display_name": "Python 3"
    },
    "language_info": {
      "name": "python"
    }
  },
  "cells": [
    {
      "cell_type": "markdown",
      "source": [
        "# Değişken İsimlendirmeleri"
      ],
      "metadata": {
        "id": "FUGcEa3hlrw7"
      }
    },
    {
      "cell_type": "code",
      "source": [
        "# keyword ler değişken ismi olarak kullanılamaz\n",
        "import keyword\n",
        "keyword.kwlist"
      ],
      "metadata": {
        "colab": {
          "base_uri": "https://localhost:8080/"
        },
        "id": "PWhyQSY3lLw7",
        "outputId": "306aa429-7bcc-4638-fd1f-823c9eee60f3"
      },
      "execution_count": 1,
      "outputs": [
        {
          "output_type": "execute_result",
          "data": {
            "text/plain": [
              "['False',\n",
              " 'None',\n",
              " 'True',\n",
              " 'and',\n",
              " 'as',\n",
              " 'assert',\n",
              " 'async',\n",
              " 'await',\n",
              " 'break',\n",
              " 'class',\n",
              " 'continue',\n",
              " 'def',\n",
              " 'del',\n",
              " 'elif',\n",
              " 'else',\n",
              " 'except',\n",
              " 'finally',\n",
              " 'for',\n",
              " 'from',\n",
              " 'global',\n",
              " 'if',\n",
              " 'import',\n",
              " 'in',\n",
              " 'is',\n",
              " 'lambda',\n",
              " 'nonlocal',\n",
              " 'not',\n",
              " 'or',\n",
              " 'pass',\n",
              " 'raise',\n",
              " 'return',\n",
              " 'try',\n",
              " 'while',\n",
              " 'with',\n",
              " 'yield']"
            ]
          },
          "metadata": {},
          "execution_count": 1
        }
      ]
    },
    {
      "cell_type": "code",
      "source": [
        "# '_' hariç özel karakterler değişken ismi olarak kullanılamaz\n",
        "ali$celi = 45"
      ],
      "metadata": {
        "id": "uWYMHvXolqfu"
      },
      "execution_count": null,
      "outputs": []
    },
    {
      "cell_type": "code",
      "source": [
        "print('a\\\n",
        "    b\\\n",
        "    c')"
      ],
      "metadata": {
        "colab": {
          "base_uri": "https://localhost:8080/"
        },
        "id": "7jbph3hQndH6",
        "outputId": "e98dbb78-e215-4290-8bb2-2030d5ec829d"
      },
      "execution_count": 2,
      "outputs": [
        {
          "output_type": "stream",
          "name": "stdout",
          "text": [
            "a    b    c\n"
          ]
        }
      ]
    },
    {
      "cell_type": "code",
      "source": [
        "print('a\\\n",
        "b\\\n",
        "c')"
      ],
      "metadata": {
        "colab": {
          "base_uri": "https://localhost:8080/"
        },
        "id": "t9sfFtClnnft",
        "outputId": "7241ae5f-d202-48ac-f811-46a919f0f8ad"
      },
      "execution_count": 3,
      "outputs": [
        {
          "output_type": "stream",
          "name": "stdout",
          "text": [
            "abc\n"
          ]
        }
      ]
    },
    {
      "cell_type": "markdown",
      "source": [
        "# Comment - Docstring Farkı"
      ],
      "metadata": {
        "id": "Vc5m_LoBbKFk"
      }
    },
    {
      "cell_type": "code",
      "source": [
        "#PEP-8 önerisi\n",
        "print(\"merhaba\")  # açıklama yap"
      ],
      "metadata": {
        "id": "hGTvTzSAbWUy"
      },
      "execution_count": null,
      "outputs": []
    },
    {
      "cell_type": "code",
      "source": [
        "# docstring metinleri nereye/nasıl yazılır?\n",
        "def fonk_name():\n",
        "    \"\"\"\n",
        "    Bu benim fonksiyonumun\n",
        "    işlevini açıklayan bir metindir\n",
        "    \"\"\"\n",
        "    pass\n",
        "#docstring metni yazdırmak için\n",
        "fonk_name.__doc__"
      ],
      "metadata": {
        "colab": {
          "base_uri": "https://localhost:8080/",
          "height": 35
        },
        "id": "vaBl-5EcqgsM",
        "outputId": "0a58711b-5b40-44b6-bb0e-e8fb8edc0cea"
      },
      "execution_count": 4,
      "outputs": [
        {
          "output_type": "execute_result",
          "data": {
            "text/plain": [
              "'\\n    Bu benim fonksiyonumun\\n    işlevini açıklayan bir metindir\\n    '"
            ],
            "application/vnd.google.colaboratory.intrinsic+json": {
              "type": "string"
            }
          },
          "metadata": {},
          "execution_count": 4
        }
      ]
    },
    {
      "cell_type": "code",
      "source": [
        "help(fonk_name)"
      ],
      "metadata": {
        "colab": {
          "base_uri": "https://localhost:8080/"
        },
        "id": "a8pDDhm8q3WX",
        "outputId": "627c828a-521a-4c97-9ba0-058c71c85104"
      },
      "execution_count": 5,
      "outputs": [
        {
          "output_type": "stream",
          "name": "stdout",
          "text": [
            "Help on function fonk_name in module __main__:\n",
            "\n",
            "fonk_name()\n",
            "    Bu benim fonksiyonumun\n",
            "    işlevini açıklayan bir metindir\n",
            "\n"
          ]
        }
      ]
    },
    {
      "cell_type": "code",
      "source": [
        "print(sum.__doc__)"
      ],
      "metadata": {
        "colab": {
          "base_uri": "https://localhost:8080/"
        },
        "id": "oTOm3vcOrVqR",
        "outputId": "2da11e5e-97b3-447f-da2f-e067f007190c"
      },
      "execution_count": 6,
      "outputs": [
        {
          "output_type": "stream",
          "name": "stdout",
          "text": [
            "Return the sum of a 'start' value (default: 0) plus an iterable of numbers\n",
            "\n",
            "When the iterable is empty, return the start value.\n",
            "This function is intended specifically for use with numeric values and may\n",
            "reject non-numeric types.\n"
          ]
        }
      ]
    },
    {
      "cell_type": "code",
      "source": [
        "print(bin.__doc__)"
      ],
      "metadata": {
        "colab": {
          "base_uri": "https://localhost:8080/"
        },
        "id": "vH9CIKWyrefd",
        "outputId": "cba26edd-276c-4fc5-c646-c9e75ea067c9"
      },
      "execution_count": 7,
      "outputs": [
        {
          "output_type": "stream",
          "name": "stdout",
          "text": [
            "Return the binary representation of an integer.\n",
            "\n",
            "   >>> bin(2796202)\n",
            "   '0b1010101010101010101010'\n"
          ]
        }
      ]
    },
    {
      "cell_type": "code",
      "source": [
        "apr = june = sep = nov = 30\n",
        "feb = 28\n",
        "jan = mar = may = july = aug = oct = dec = 31"
      ],
      "metadata": {
        "id": "nLens0sftTjl"
      },
      "execution_count": null,
      "outputs": []
    },
    {
      "cell_type": "code",
      "source": [
        "\"\"\"Değişken isimlendirme önerileri:\n",
        "- Kabul edilse de Türkçe karakterler(ş,ü,ğ,ç,ö,ı) kullanılmamalı,\n",
        "- Küçük harf (lowercase) tercih edilmeli,\n",
        "'NO' yerine 'no'     \n",
        "- Birden fazla kelimeden isimler ‘_’ ile ayrıştırılmalı,\n",
        "weekly_pay\n",
        "ad_soyad\n",
        "-keyword listesinde olmayan Python komutları (print, list, type gibi) da isimlendirme de kullanılmamalı,\n",
        "\n",
        "-Alfabenin karşıklığa neden olabilecek harflerini (o, 0 l, I) kullanmayın,\n",
        "\"\"\""
      ],
      "metadata": {
        "id": "NfjfetF-uFiL"
      },
      "execution_count": null,
      "outputs": []
    },
    {
      "cell_type": "code",
      "source": [
        "# Bir değişken içeriğini yazdırmanın 5 farklı yolu;\n",
        "num = 5\n",
        "print(\"Numara.:\", num)     # klasik yöntem\n",
        "print(\"Numara.: %d\" %num)  # C tarzı\n",
        "print(\"Numara.: {0}\".format(num))\n",
        "print(f\"Numara.: {num}\")     # f-string\n",
        "print(\"Numara.: \" + str(num)) # Java tarzı"
      ],
      "metadata": {
        "colab": {
          "base_uri": "https://localhost:8080/"
        },
        "id": "7KS2y58XwFJj",
        "outputId": "b6388815-8d16-4183-f852-2861727fbb6e"
      },
      "execution_count": 17,
      "outputs": [
        {
          "output_type": "stream",
          "name": "stdout",
          "text": [
            "Numara.: 5\n",
            "Numara.: 5\n",
            "Numara.: 5\n",
            "Numara.: 5\n",
            "Numara.: 5\n"
          ]
        }
      ]
    },
    {
      "cell_type": "code",
      "source": [
        "r = int(input(\"r: \"))\n",
        "daire_cevresi = 2*3.14*r  #kesirli sayılar . nokta ile ifade edilir\n",
        "print(daire_cevresi) "
      ],
      "metadata": {
        "colab": {
          "base_uri": "https://localhost:8080/"
        },
        "id": "LRJvTanWzWgc",
        "outputId": "ac62fc43-af68-47d6-ad11-42c0ad3c3094"
      },
      "execution_count": 19,
      "outputs": [
        {
          "output_type": "stream",
          "name": "stdout",
          "text": [
            "r: 10\n",
            "62.800000000000004\n"
          ]
        }
      ]
    },
    {
      "cell_type": "code",
      "source": [
        "r = int(input(\"r: \"))\n",
        "PI = 3.14\n",
        "daire_cevresi = 2*PI*r  #kesirli sayılar . nokta ile ifade edilir\n",
        "print(\"Daire Çevresi.:\",daire_cevresi) "
      ],
      "metadata": {
        "colab": {
          "base_uri": "https://localhost:8080/"
        },
        "id": "jLyGYjkJzm0T",
        "outputId": "f12671ff-978d-40c0-a23e-3e172458b0a6"
      },
      "execution_count": 20,
      "outputs": [
        {
          "output_type": "stream",
          "name": "stdout",
          "text": [
            "r: 10\n",
            "Daire Çevresi.: 62.800000000000004\n"
          ]
        }
      ]
    },
    {
      "cell_type": "code",
      "source": [
        "# içerik olarak ne atayacağımızı bilemediğimiz durumlarda None\n",
        "ali_yas = None\n",
        "veli_yas = 54\n",
        "print(type(ali_yas))\n",
        "print(type(veli_yas))"
      ],
      "metadata": {
        "colab": {
          "base_uri": "https://localhost:8080/"
        },
        "id": "HeVrlX2Uz94c",
        "outputId": "5bf18d44-1f5e-48c6-821f-1fa70fd6bbf9"
      },
      "execution_count": 21,
      "outputs": [
        {
          "output_type": "stream",
          "name": "stdout",
          "text": [
            "<class 'NoneType'>\n",
            "<class 'int'>\n"
          ]
        }
      ]
    },
    {
      "cell_type": "markdown",
      "source": [
        "# Tip Dönüşümleri"
      ],
      "metadata": {
        "id": "MxxGfxUzbjiy"
      }
    },
    {
      "cell_type": "code",
      "source": [
        "#veri tipi kapasitesi\n",
        "import sys\n",
        "sys.maxsize  # int tipindeki verilerin sınırı"
      ],
      "metadata": {
        "colab": {
          "base_uri": "https://localhost:8080/"
        },
        "id": "v4jtGzoobns8",
        "outputId": "eafad555-f9c6-44c5-b372-2f5e793d9fbe"
      },
      "execution_count": 25,
      "outputs": [
        {
          "output_type": "execute_result",
          "data": {
            "text/plain": [
              "9223372036854775807"
            ]
          },
          "metadata": {},
          "execution_count": 25
        }
      ]
    },
    {
      "cell_type": "code",
      "source": [
        "# tamsayılar\n",
        "print(type(-10))\n",
        "print(type(0xA))\n",
        "print(type(0b1010))\n",
        "print(type(0o23))"
      ],
      "metadata": {
        "colab": {
          "base_uri": "https://localhost:8080/"
        },
        "id": "O8srRIXf1lXn",
        "outputId": "960cf8fb-0c0b-4101-8d76-fbf6d3674500"
      },
      "execution_count": 26,
      "outputs": [
        {
          "output_type": "stream",
          "name": "stdout",
          "text": [
            "<class 'int'>\n",
            "<class 'int'>\n",
            "<class 'int'>\n",
            "<class 'int'>\n"
          ]
        }
      ]
    },
    {
      "cell_type": "code",
      "source": [
        "# kesirli sayılar\n",
        "print(type(3.14))\n",
        "print(type(314e-2))\n",
        "print(314e-2)"
      ],
      "metadata": {
        "colab": {
          "base_uri": "https://localhost:8080/"
        },
        "id": "VEr-msaZ15Ev",
        "outputId": "8243655c-82de-4708-faf4-0da590829e9a"
      },
      "execution_count": 28,
      "outputs": [
        {
          "output_type": "stream",
          "name": "stdout",
          "text": [
            "<class 'float'>\n",
            "<class 'float'>\n",
            "3.14\n"
          ]
        }
      ]
    },
    {
      "cell_type": "code",
      "source": [
        "1.8e308 # ve üstü inf döndürür"
      ],
      "metadata": {
        "colab": {
          "base_uri": "https://localhost:8080/"
        },
        "id": "qWKrE_Ch2NLo",
        "outputId": "8aca9322-f7a7-49ee-cbb9-19bc05187ee6"
      },
      "execution_count": 29,
      "outputs": [
        {
          "output_type": "execute_result",
          "data": {
            "text/plain": [
              "inf"
            ]
          },
          "metadata": {},
          "execution_count": 29
        }
      ]
    },
    {
      "cell_type": "code",
      "source": [
        "1.8e307"
      ],
      "metadata": {
        "colab": {
          "base_uri": "https://localhost:8080/"
        },
        "id": "c46tsHFw2WZe",
        "outputId": "ceef0f74-cbfe-44e8-eb2c-b67590557eef"
      },
      "execution_count": 30,
      "outputs": [
        {
          "output_type": "execute_result",
          "data": {
            "text/plain": [
              "1.8e+307"
            ]
          },
          "metadata": {},
          "execution_count": 30
        }
      ]
    },
    {
      "cell_type": "code",
      "source": [
        "5e-325  #0 ve yakın değer"
      ],
      "metadata": {
        "colab": {
          "base_uri": "https://localhost:8080/"
        },
        "id": "DRLeOZtx2vLI",
        "outputId": "a6b07d63-4f1a-4e2c-d6fb-5bdf99e0f4e5"
      },
      "execution_count": 32,
      "outputs": [
        {
          "output_type": "execute_result",
          "data": {
            "text/plain": [
              "0.0"
            ]
          },
          "metadata": {},
          "execution_count": 32
        }
      ]
    },
    {
      "cell_type": "code",
      "source": [
        "5e-324  #0 a yakın değer"
      ],
      "metadata": {
        "colab": {
          "base_uri": "https://localhost:8080/"
        },
        "id": "gYmfZXLa2mC2",
        "outputId": "307dfcae-7307-4031-d2ca-ecd866162f15"
      },
      "execution_count": 31,
      "outputs": [
        {
          "output_type": "execute_result",
          "data": {
            "text/plain": [
              "5e-324"
            ]
          },
          "metadata": {},
          "execution_count": 31
        }
      ]
    },
    {
      "cell_type": "code",
      "source": [
        "#complex numbers\n",
        "2+3j"
      ],
      "metadata": {
        "colab": {
          "base_uri": "https://localhost:8080/"
        },
        "id": "TZIIUtFT22fw",
        "outputId": "22de9f7a-e74d-4a39-d49a-8bb7ddb78ded"
      },
      "execution_count": 33,
      "outputs": [
        {
          "output_type": "execute_result",
          "data": {
            "text/plain": [
              "(2+3j)"
            ]
          },
          "metadata": {},
          "execution_count": 33
        }
      ]
    },
    {
      "cell_type": "code",
      "source": [
        "type((2+3j))"
      ],
      "metadata": {
        "colab": {
          "base_uri": "https://localhost:8080/"
        },
        "id": "5LTEq_Qq27M4",
        "outputId": "6eb87882-f2cf-4347-f106-c74e9181fb2d"
      },
      "execution_count": 34,
      "outputs": [
        {
          "output_type": "execute_result",
          "data": {
            "text/plain": [
              "complex"
            ]
          },
          "metadata": {},
          "execution_count": 34
        }
      ]
    },
    {
      "cell_type": "code",
      "source": [
        "complex(2,3)"
      ],
      "metadata": {
        "colab": {
          "base_uri": "https://localhost:8080/"
        },
        "id": "j6rm8Tdc2-D9",
        "outputId": "66431448-fa0b-410a-cc1f-e68ea15df58d"
      },
      "execution_count": 35,
      "outputs": [
        {
          "output_type": "execute_result",
          "data": {
            "text/plain": [
              "(2+3j)"
            ]
          },
          "metadata": {},
          "execution_count": 35
        }
      ]
    },
    {
      "cell_type": "code",
      "source": [
        "a = 5 + 3j\n",
        "b = complex(5, 3)\n",
        "print (\"a=\",a)\n",
        "print (\"b=\",b)\n",
        "print (\"a+b=\",a+b) #a+b değeri"
      ],
      "metadata": {
        "colab": {
          "base_uri": "https://localhost:8080/"
        },
        "id": "BNLI09cg3ZZ2",
        "outputId": "db7dc96e-8de2-457e-c144-f7c5464598da"
      },
      "execution_count": 36,
      "outputs": [
        {
          "output_type": "stream",
          "name": "stdout",
          "text": [
            "a= (5+3j)\n",
            "b= (5+3j)\n",
            "a+b= (10+6j)\n"
          ]
        }
      ]
    },
    {
      "cell_type": "code",
      "source": [
        "# 0, 0.0, None harici tüm değerler True dur\n",
        "print (bool(3))     # True\n",
        "print (bool(-2))    # True\n",
        "print (bool(0))     # False\n",
        "print (bool(None))  # False\n",
        "print (bool(5) + bool(-3))  # 2"
      ],
      "metadata": {
        "colab": {
          "base_uri": "https://localhost:8080/"
        },
        "id": "l84tx2FN3_18",
        "outputId": "993197cb-5793-414e-b200-21fb113a178a"
      },
      "execution_count": 37,
      "outputs": [
        {
          "output_type": "stream",
          "name": "stdout",
          "text": [
            "True\n",
            "True\n",
            "False\n",
            "False\n",
            "2\n"
          ]
        }
      ]
    },
    {
      "cell_type": "code",
      "source": [
        "\"\"\"\n",
        "Tip dönüşümünde; veri, dönüştürülecek tip sarmalına alınır;\n",
        "int(): \tİnteger tipine dönüştürür. \n",
        "str():\t\tString tipine dönüştürür.\n",
        "float(): \tFloat tipine dönüştürür.\n",
        "bool(): \tBoolean(True/False) tipine dönüştürür.\n",
        "\"\"\""
      ],
      "metadata": {
        "id": "oMcCbUsh4sMC"
      },
      "execution_count": null,
      "outputs": []
    },
    {
      "cell_type": "code",
      "source": [
        "pi = 3.14 \n",
        "int_pi = int(pi)        # 3\n",
        "flt_pi = float(int_pi)  # 3.0\n",
        "\n",
        "print(int_pi) \n",
        "print(type(int_pi))\n",
        "\n",
        "print(flt_pi) \n",
        "print(type(flt_pi))"
      ],
      "metadata": {
        "colab": {
          "base_uri": "https://localhost:8080/"
        },
        "id": "vNPUVmGz5Htn",
        "outputId": "87705a58-0188-44e2-9e07-21aa07e3a1ce"
      },
      "execution_count": 38,
      "outputs": [
        {
          "output_type": "stream",
          "name": "stdout",
          "text": [
            "3\n",
            "<class 'int'>\n",
            "3.0\n",
            "<class 'float'>\n"
          ]
        }
      ]
    },
    {
      "cell_type": "code",
      "source": [
        "number_int = 123\n",
        "number_str = \"456\"\n",
        "\n",
        "print(str(number_int) + number_str)\n",
        "print(number_int + int(number_str))\n",
        "print(number_int + number_str)\n"
      ],
      "metadata": {
        "colab": {
          "base_uri": "https://localhost:8080/",
          "height": 235
        },
        "id": "kGG4R3bn6Cd1",
        "outputId": "dd7f240d-f342-4225-db3b-9d259d1abb79"
      },
      "execution_count": 39,
      "outputs": [
        {
          "output_type": "stream",
          "name": "stdout",
          "text": [
            "123456\n",
            "579\n"
          ]
        },
        {
          "output_type": "error",
          "ename": "TypeError",
          "evalue": "ignored",
          "traceback": [
            "\u001b[0;31m---------------------------------------------------------------------------\u001b[0m",
            "\u001b[0;31mTypeError\u001b[0m                                 Traceback (most recent call last)",
            "\u001b[0;32m<ipython-input-39-dcb676c3dd11>\u001b[0m in \u001b[0;36m<cell line: 6>\u001b[0;34m()\u001b[0m\n\u001b[1;32m      4\u001b[0m \u001b[0mprint\u001b[0m\u001b[0;34m(\u001b[0m\u001b[0mstr\u001b[0m\u001b[0;34m(\u001b[0m\u001b[0mnumber_int\u001b[0m\u001b[0;34m)\u001b[0m \u001b[0;34m+\u001b[0m \u001b[0mnumber_str\u001b[0m\u001b[0;34m)\u001b[0m\u001b[0;34m\u001b[0m\u001b[0;34m\u001b[0m\u001b[0m\n\u001b[1;32m      5\u001b[0m \u001b[0mprint\u001b[0m\u001b[0;34m(\u001b[0m\u001b[0mnumber_int\u001b[0m \u001b[0;34m+\u001b[0m \u001b[0mint\u001b[0m\u001b[0;34m(\u001b[0m\u001b[0mnumber_str\u001b[0m\u001b[0;34m)\u001b[0m\u001b[0;34m)\u001b[0m\u001b[0;34m\u001b[0m\u001b[0;34m\u001b[0m\u001b[0m\n\u001b[0;32m----> 6\u001b[0;31m \u001b[0mprint\u001b[0m\u001b[0;34m(\u001b[0m\u001b[0mnumber_int\u001b[0m \u001b[0;34m+\u001b[0m \u001b[0mnumber_str\u001b[0m\u001b[0;34m)\u001b[0m\u001b[0;34m\u001b[0m\u001b[0;34m\u001b[0m\u001b[0m\n\u001b[0m",
            "\u001b[0;31mTypeError\u001b[0m: unsupported operand type(s) for +: 'int' and 'str'"
          ]
        }
      ]
    },
    {
      "cell_type": "markdown",
      "source": [
        "# Operatörler ve Matematikse/Mantıksal İşlemler\n",
        "[link text](https://docs.python.org/3/library/operator.html)"
      ],
      "metadata": {
        "id": "QPYJ19knbqfL"
      }
    },
    {
      "cell_type": "code",
      "source": [
        "3+5"
      ],
      "metadata": {
        "colab": {
          "base_uri": "https://localhost:8080/"
        },
        "id": "5w0sJFLVbuOl",
        "outputId": "55571ebc-612f-45e5-a410-a417f444b979"
      },
      "execution_count": 40,
      "outputs": [
        {
          "output_type": "execute_result",
          "data": {
            "text/plain": [
              "8"
            ]
          },
          "metadata": {},
          "execution_count": 40
        }
      ]
    },
    {
      "cell_type": "code",
      "source": [
        "pow(3, 2)  # built-in func"
      ],
      "metadata": {
        "colab": {
          "base_uri": "https://localhost:8080/"
        },
        "id": "z1ivv3pN60ek",
        "outputId": "d02a77ce-b735-4cbe-ca67-f1cd5864a544"
      },
      "execution_count": 42,
      "outputs": [
        {
          "output_type": "execute_result",
          "data": {
            "text/plain": [
              "9"
            ]
          },
          "metadata": {},
          "execution_count": 42
        }
      ]
    },
    {
      "cell_type": "code",
      "source": [
        "9/2"
      ],
      "metadata": {
        "colab": {
          "base_uri": "https://localhost:8080/"
        },
        "id": "b2pyKA4u63oO",
        "outputId": "8cce637d-bc3b-45c0-bc55-ff28c1955c5f"
      },
      "execution_count": 43,
      "outputs": [
        {
          "output_type": "execute_result",
          "data": {
            "text/plain": [
              "4.5"
            ]
          },
          "metadata": {},
          "execution_count": 43
        }
      ]
    },
    {
      "cell_type": "code",
      "source": [
        "9//2  # tam bölme"
      ],
      "metadata": {
        "colab": {
          "base_uri": "https://localhost:8080/"
        },
        "id": "ZeZAVcBM7CCZ",
        "outputId": "d6e8b495-31d0-4628-944b-244e26e23543"
      },
      "execution_count": 44,
      "outputs": [
        {
          "output_type": "execute_result",
          "data": {
            "text/plain": [
              "4"
            ]
          },
          "metadata": {},
          "execution_count": 44
        }
      ]
    },
    {
      "cell_type": "code",
      "source": [
        "import operator as op\n",
        "op.floordiv(9,2) # tam bölme"
      ],
      "metadata": {
        "colab": {
          "base_uri": "https://localhost:8080/"
        },
        "id": "MErj9sNC7E7P",
        "outputId": "05975157-6ee8-4246-832b-69e146d00050"
      },
      "execution_count": 46,
      "outputs": [
        {
          "output_type": "execute_result",
          "data": {
            "text/plain": [
              "4"
            ]
          },
          "metadata": {},
          "execution_count": 46
        }
      ]
    },
    {
      "cell_type": "code",
      "source": [
        "import operator\n",
        "operator.add(3,5)"
      ],
      "metadata": {
        "colab": {
          "base_uri": "https://localhost:8080/"
        },
        "id": "iTULOLsu6qZi",
        "outputId": "913b7573-2a04-4ab7-9489-3a09abc51448"
      },
      "execution_count": 41,
      "outputs": [
        {
          "output_type": "execute_result",
          "data": {
            "text/plain": [
              "8"
            ]
          },
          "metadata": {},
          "execution_count": 41
        }
      ]
    },
    {
      "cell_type": "code",
      "source": [
        "# mod alma operatörü: %\n",
        "8%3"
      ],
      "metadata": {
        "colab": {
          "base_uri": "https://localhost:8080/"
        },
        "id": "Tt6Ics9O7iVt",
        "outputId": "42fe0e81-d012-4c1a-c588-d4186aeeb452"
      },
      "execution_count": 47,
      "outputs": [
        {
          "output_type": "execute_result",
          "data": {
            "text/plain": [
              "2"
            ]
          },
          "metadata": {},
          "execution_count": 47
        }
      ]
    },
    {
      "cell_type": "code",
      "source": [
        "-8%3  # hatalı sonuç üretebilir."
      ],
      "metadata": {
        "colab": {
          "base_uri": "https://localhost:8080/"
        },
        "id": "lyBM3PE-7nP3",
        "outputId": "8469b464-ac68-4513-ed86-18895a9c99a1"
      },
      "execution_count": 48,
      "outputs": [
        {
          "output_type": "execute_result",
          "data": {
            "text/plain": [
              "1"
            ]
          },
          "metadata": {},
          "execution_count": 48
        }
      ]
    },
    {
      "cell_type": "code",
      "source": [
        "import math\n",
        "math.fmod(-8,3)  # % yerine fmod negatif değerlerde tercih edilmeli..."
      ],
      "metadata": {
        "colab": {
          "base_uri": "https://localhost:8080/"
        },
        "id": "GKlMxN637rcr",
        "outputId": "44c3103f-dbdb-4800-8c60-95d47afc5421"
      },
      "execution_count": 49,
      "outputs": [
        {
          "output_type": "execute_result",
          "data": {
            "text/plain": [
              "-2.0"
            ]
          },
          "metadata": {},
          "execution_count": 49
        }
      ]
    },
    {
      "cell_type": "code",
      "source": [
        "import math\n",
        "s = 5\n",
        "alan = s**2 * math.sqrt(3) / 4\n",
        "print(alan)"
      ],
      "metadata": {
        "colab": {
          "base_uri": "https://localhost:8080/"
        },
        "id": "6E2RYxqb_Dvh",
        "outputId": "711f1e50-17d0-40e9-f002-9117e26b4d1e"
      },
      "execution_count": 50,
      "outputs": [
        {
          "output_type": "stream",
          "name": "stdout",
          "text": [
            "10.825317547305483\n"
          ]
        }
      ]
    },
    {
      "cell_type": "code",
      "source": [
        "t = 12 + 25 + 15\n",
        "x = t/4 + t%4\n",
        "print(x)"
      ],
      "metadata": {
        "colab": {
          "base_uri": "https://localhost:8080/"
        },
        "id": "CAxNhN5f_2c1",
        "outputId": "bc1ff334-8896-4a09-f3c8-418abccfee83"
      },
      "execution_count": 52,
      "outputs": [
        {
          "output_type": "stream",
          "name": "stdout",
          "text": [
            "13.0\n"
          ]
        }
      ]
    },
    {
      "cell_type": "code",
      "source": [
        "# Verilen Para miktarı:\n",
        "para = 697              # TL\n",
        "\n",
        "yuzluk = para//100      # yüzlük hesabı\n",
        "para = para % 100       # kalan para\n",
        "onluk = para // 10      # onluk hesabı\n",
        "para = para % 10        # kalan para\n",
        "beslik = para // 5      # beşlik hesabı\n",
        "birlik = para % 5       # kalan para: birlik\n",
        "\n",
        "# Değişken değerleri ekrana yazdırılıyor\n",
        "print(yuzluk, \"Yüzlük\")  \n",
        "print(onluk, \"Onluk\")   \n",
        "print(beslik, \"Beşlik\") \n",
        "print(para, \"Birlik\") "
      ],
      "metadata": {
        "colab": {
          "base_uri": "https://localhost:8080/"
        },
        "id": "ZCOLOTXHAoej",
        "outputId": "d02a18eb-a8c7-4b1d-f2cf-c2b908490a77"
      },
      "execution_count": 53,
      "outputs": [
        {
          "output_type": "stream",
          "name": "stdout",
          "text": [
            "6 Yüzlük\n",
            "9 Onluk\n",
            "1 Beşlik\n",
            "7 Birlik\n"
          ]
        }
      ]
    },
    {
      "cell_type": "code",
      "source": [
        "4%5"
      ],
      "metadata": {
        "colab": {
          "base_uri": "https://localhost:8080/"
        },
        "id": "jwVwken9CYit",
        "outputId": "f0cbc52f-a035-4f7a-998f-59af33ae515b"
      },
      "execution_count": 54,
      "outputs": [
        {
          "output_type": "execute_result",
          "data": {
            "text/plain": [
              "4"
            ]
          },
          "metadata": {},
          "execution_count": 54
        }
      ]
    },
    {
      "cell_type": "code",
      "source": [
        "4*5+8-(9/3)**2 +4%5//2"
      ],
      "metadata": {
        "colab": {
          "base_uri": "https://localhost:8080/"
        },
        "id": "ocC6IWEHCRUX",
        "outputId": "4ee02ad4-20e0-4d90-bb31-f398253a5e00"
      },
      "execution_count": 55,
      "outputs": [
        {
          "output_type": "execute_result",
          "data": {
            "text/plain": [
              "21.0"
            ]
          },
          "metadata": {},
          "execution_count": 55
        }
      ]
    },
    {
      "cell_type": "code",
      "source": [
        "(int)(4*5+8-(9/3)**2 +4%5//2)"
      ],
      "metadata": {
        "colab": {
          "base_uri": "https://localhost:8080/"
        },
        "id": "meeBN3OqCeWP",
        "outputId": "9a683b3d-838e-4cbe-e9a1-9558cd1e506d"
      },
      "execution_count": 56,
      "outputs": [
        {
          "output_type": "execute_result",
          "data": {
            "text/plain": [
              "21"
            ]
          },
          "metadata": {},
          "execution_count": 56
        }
      ]
    },
    {
      "cell_type": "code",
      "source": [
        "i = 5\n",
        "i += 5\n",
        "print(i)"
      ],
      "metadata": {
        "colab": {
          "base_uri": "https://localhost:8080/"
        },
        "id": "HgL5kR8zExKM",
        "outputId": "e35ae711-6819-44c5-cab8-2eae239d9ad4"
      },
      "execution_count": 64,
      "outputs": [
        {
          "output_type": "stream",
          "name": "stdout",
          "text": [
            "10\n"
          ]
        }
      ]
    },
    {
      "cell_type": "code",
      "source": [
        "j = 3; i = 5\n",
        "i = i + j*5\n",
        "print(i)"
      ],
      "metadata": {
        "colab": {
          "base_uri": "https://localhost:8080/"
        },
        "id": "-tz1YyijE13M",
        "outputId": "d433f8ef-9afa-4aa1-c5f3-9c4409403329"
      },
      "execution_count": 65,
      "outputs": [
        {
          "output_type": "stream",
          "name": "stdout",
          "text": [
            "20\n"
          ]
        }
      ]
    },
    {
      "cell_type": "code",
      "source": [
        "j = 3; i = 5\n",
        "i += j * 5\n",
        "print(i)"
      ],
      "metadata": {
        "colab": {
          "base_uri": "https://localhost:8080/"
        },
        "id": "CO_FcJwtE_7L",
        "outputId": "690aa735-2504-459c-d3bd-90e999df3e1a"
      },
      "execution_count": 66,
      "outputs": [
        {
          "output_type": "stream",
          "name": "stdout",
          "text": [
            "20\n"
          ]
        }
      ]
    },
    {
      "cell_type": "code",
      "source": [
        "saniye = int(input(\"Saniye..: \"))\n",
        "saat = saniye//3600\n",
        "print(saat)\n",
        "saniye = saniye-saat*3600\n",
        "dakika = saniye // 60\n",
        "print(dakika)\n",
        "saniye = saniye - (dakika*60)\n",
        "# sa:dk:sn\n",
        "print(f\"{saat:02}:{dakika:02}:{saniye:02}\")"
      ],
      "metadata": {
        "colab": {
          "base_uri": "https://localhost:8080/"
        },
        "id": "D5X0junFCpVS",
        "outputId": "504c79fd-aeee-4c21-9b0e-83bfbc80825a"
      },
      "execution_count": 63,
      "outputs": [
        {
          "output_type": "stream",
          "name": "stdout",
          "text": [
            "Saniye..: 7543\n",
            "2\n",
            "5\n",
            "02:05:43\n"
          ]
        }
      ]
    },
    {
      "cell_type": "code",
      "source": [
        "num = 31415\n",
        "f\"{num:07}\"  # 7 basamağa genişlet"
      ],
      "metadata": {
        "colab": {
          "base_uri": "https://localhost:8080/",
          "height": 35
        },
        "id": "i2UW3EqDFStc",
        "outputId": "28862577-c258-4039-aec7-459aaf0cd860"
      },
      "execution_count": 71,
      "outputs": [
        {
          "output_type": "execute_result",
          "data": {
            "text/plain": [
              "'0031415'"
            ],
            "application/vnd.google.colaboratory.intrinsic+json": {
              "type": "string"
            }
          },
          "metadata": {},
          "execution_count": 71
        }
      ]
    },
    {
      "cell_type": "code",
      "source": [
        "num = 3.1415\n",
        "f\"{num:.2f}\"  # virgülden sonra 2 basamak göster"
      ],
      "metadata": {
        "colab": {
          "base_uri": "https://localhost:8080/",
          "height": 35
        },
        "id": "zVUZE4rgFEo0",
        "outputId": "1b050072-023a-4376-dbf0-f0beeaf34764"
      },
      "execution_count": 69,
      "outputs": [
        {
          "output_type": "execute_result",
          "data": {
            "text/plain": [
              "'3.14'"
            ],
            "application/vnd.google.colaboratory.intrinsic+json": {
              "type": "string"
            }
          },
          "metadata": {},
          "execution_count": 69
        }
      ]
    },
    {
      "cell_type": "markdown",
      "source": [
        "# Karşılaştırma operatörleri"
      ],
      "metadata": {
        "id": "oDWBG7ccJXcv"
      }
    },
    {
      "cell_type": "code",
      "source": [
        "# == ile is farkı\n",
        "a = 4\n",
        "b = 4\n",
        "print(a == b)\n",
        "print(a is b)\n",
        "# veri yapılarında aynı bellek bölgesini paylaşan nesneler kopyalandığında diğeri de etkileniyor..."
      ],
      "metadata": {
        "colab": {
          "base_uri": "https://localhost:8080/"
        },
        "id": "5eRfGPaFJZvj",
        "outputId": "66ee653d-bfdc-4313-c215-a97721da6e7a"
      },
      "execution_count": 84,
      "outputs": [
        {
          "output_type": "stream",
          "name": "stdout",
          "text": [
            "True\n",
            "True\n"
          ]
        }
      ]
    },
    {
      "cell_type": "code",
      "source": [
        "id(a)  # a nesnesinin bellek adresi"
      ],
      "metadata": {
        "colab": {
          "base_uri": "https://localhost:8080/"
        },
        "id": "1QOk8aWqJ2F-",
        "outputId": "45f6e5db-40cd-4ed0-8abe-ccd1b0b09af0"
      },
      "execution_count": 73,
      "outputs": [
        {
          "output_type": "execute_result",
          "data": {
            "text/plain": [
              "140230206652784"
            ]
          },
          "metadata": {},
          "execution_count": 73
        }
      ]
    },
    {
      "cell_type": "code",
      "source": [
        "id(b)"
      ],
      "metadata": {
        "colab": {
          "base_uri": "https://localhost:8080/"
        },
        "id": "g0x2_33zJ7U-",
        "outputId": "92178ebb-31b0-4ab1-dd47-bab9a583d1f4"
      },
      "execution_count": 74,
      "outputs": [
        {
          "output_type": "execute_result",
          "data": {
            "text/plain": [
              "140230206652784"
            ]
          },
          "metadata": {},
          "execution_count": 74
        }
      ]
    },
    {
      "cell_type": "code",
      "source": [
        "# == ile is farkı\n",
        "a = \"50000 b\"\n",
        "b = \"50000 b\"\n",
        "print(a == b)\n",
        "print(a is b) # adreslerini aynı mı\n",
        "print(id(a))  # adres üretir\n",
        "print(id(b))"
      ],
      "metadata": {
        "colab": {
          "base_uri": "https://localhost:8080/"
        },
        "id": "PEZ0XBDPJ_BU",
        "outputId": "7ff6ebee-7993-4560-f488-327183e0fac4"
      },
      "execution_count": 86,
      "outputs": [
        {
          "output_type": "stream",
          "name": "stdout",
          "text": [
            "True\n",
            "False\n",
            "140228954845232\n",
            "140228954835184\n"
          ]
        }
      ]
    },
    {
      "cell_type": "code",
      "source": [
        "# 0, 0.0, None harici sayısal True\n",
        "# içi dolu tüm veri yapıları (str, list, set, dict,..) True döndürür."
      ],
      "metadata": {
        "id": "KjWC1CdCMl2Y"
      },
      "execution_count": null,
      "outputs": []
    },
    {
      "cell_type": "code",
      "source": [
        "print(1 and \"ali\" and 5)  # Hepsi True ise and en sondaki datayı verir"
      ],
      "metadata": {
        "colab": {
          "base_uri": "https://localhost:8080/"
        },
        "id": "FxjV-H47LgIg",
        "outputId": "90037d5d-7575-417f-bc01-36d50fa3a2ac"
      },
      "execution_count": 87,
      "outputs": [
        {
          "output_type": "stream",
          "name": "stdout",
          "text": [
            "5\n"
          ]
        }
      ]
    },
    {
      "cell_type": "code",
      "source": [
        "print(1 or \"ali\" or 5)  # Hepsi True ise 'or' en baştaki datayı verir"
      ],
      "metadata": {
        "colab": {
          "base_uri": "https://localhost:8080/"
        },
        "id": "dGCgzCYBM3NS",
        "outputId": "d1c8e562-ffad-4b00-a457-ac74768e007c"
      },
      "execution_count": 88,
      "outputs": [
        {
          "output_type": "stream",
          "name": "stdout",
          "text": [
            "1\n"
          ]
        }
      ]
    },
    {
      "cell_type": "code",
      "source": [
        "not(5) # False/True döndürür."
      ],
      "metadata": {
        "colab": {
          "base_uri": "https://localhost:8080/"
        },
        "id": "lfHIIHoGM_UQ",
        "outputId": "4a156237-8f6a-4a29-9119-68465df597a0"
      },
      "execution_count": 89,
      "outputs": [
        {
          "output_type": "execute_result",
          "data": {
            "text/plain": [
              "False"
            ]
          },
          "metadata": {},
          "execution_count": 89
        }
      ]
    },
    {
      "cell_type": "code",
      "source": [
        "print(3 and \"depar\")\n",
        "print(0 and \"depar\")\n",
        "\n",
        "print(3 or \"depar\")\n",
        "print(0 or [])  # Hepsi Falsy ise sondakini döndürür"
      ],
      "metadata": {
        "colab": {
          "base_uri": "https://localhost:8080/"
        },
        "id": "9lc1uG_3Nqyr",
        "outputId": "aa2a9bf6-0c2f-4440-9995-5d5eb6b312dd"
      },
      "execution_count": 93,
      "outputs": [
        {
          "output_type": "stream",
          "name": "stdout",
          "text": [
            "depar\n",
            "0\n",
            "3\n",
            "[]\n"
          ]
        }
      ]
    },
    {
      "cell_type": "code",
      "source": [
        "any(\"\") #boşsa False"
      ],
      "metadata": {
        "colab": {
          "base_uri": "https://localhost:8080/"
        },
        "id": "tFusisRJOikr",
        "outputId": "6a0c3589-ecfc-4cd3-b10c-087faeb0cef0"
      },
      "execution_count": 94,
      "outputs": [
        {
          "output_type": "execute_result",
          "data": {
            "text/plain": [
              "False"
            ]
          },
          "metadata": {},
          "execution_count": 94
        }
      ]
    },
    {
      "cell_type": "code",
      "source": [
        "all(['2', 0, None, 'ali', 'veli'])  # hepsi True ise True döndürür"
      ],
      "metadata": {
        "colab": {
          "base_uri": "https://localhost:8080/"
        },
        "id": "tn_FX4UZOzOT",
        "outputId": "5ac2a7fb-e1f8-4a75-b1ed-3a6d3c4dda86"
      },
      "execution_count": 97,
      "outputs": [
        {
          "output_type": "execute_result",
          "data": {
            "text/plain": [
              "False"
            ]
          },
          "metadata": {},
          "execution_count": 97
        }
      ]
    },
    {
      "cell_type": "code",
      "source": [
        "any(['2', 0, None, 'ali', 'veli'])  # herhangi biri True ise True döndürür"
      ],
      "metadata": {
        "colab": {
          "base_uri": "https://localhost:8080/"
        },
        "id": "QklqnsvkOres",
        "outputId": "f786745e-f889-4f63-a715-de7b88431249"
      },
      "execution_count": 96,
      "outputs": [
        {
          "output_type": "execute_result",
          "data": {
            "text/plain": [
              "True"
            ]
          },
          "metadata": {},
          "execution_count": 96
        }
      ]
    },
    {
      "cell_type": "code",
      "source": [
        "all(\"\") #boşsa True"
      ],
      "metadata": {
        "colab": {
          "base_uri": "https://localhost:8080/"
        },
        "id": "n6MstwEsOmoY",
        "outputId": "9eab225e-feff-4130-dd48-a7497cf5eac3"
      },
      "execution_count": 95,
      "outputs": [
        {
          "output_type": "execute_result",
          "data": {
            "text/plain": [
              "True"
            ]
          },
          "metadata": {},
          "execution_count": 95
        }
      ]
    },
    {
      "cell_type": "code",
      "source": [
        "print(any([False, False, False])) # False\n",
        "\n",
        "print(any([False, False, True]))  # True\n",
        "\n",
        "print(all([False, True, True]))   # False\n",
        "\n",
        "print(all([True, True, True]))    # True\n"
      ],
      "metadata": {
        "colab": {
          "base_uri": "https://localhost:8080/"
        },
        "id": "XyUXh5jzPXm0",
        "outputId": "5ba1abe9-5e79-4f57-f054-36677f0c7382"
      },
      "execution_count": 98,
      "outputs": [
        {
          "output_type": "stream",
          "name": "stdout",
          "text": [
            "False\n",
            "True\n",
            "False\n",
            "True\n"
          ]
        }
      ]
    },
    {
      "cell_type": "code",
      "source": [
        "print(any([False, \"False\", False])) # True"
      ],
      "metadata": {
        "colab": {
          "base_uri": "https://localhost:8080/"
        },
        "id": "ddCiYNvvPliz",
        "outputId": "b6dbbcd1-5757-4b1d-cacf-52ae95a1979c"
      },
      "execution_count": 99,
      "outputs": [
        {
          "output_type": "stream",
          "name": "stdout",
          "text": [
            "True\n"
          ]
        }
      ]
    },
    {
      "cell_type": "code",
      "source": [
        "# a nın 5-8 aralığında olup olmadığını test etmek istiyoruz?\n",
        "a = 7\n",
        "print(a>5 and a<8)"
      ],
      "metadata": {
        "colab": {
          "base_uri": "https://localhost:8080/"
        },
        "id": "EqpdjxaTKxsb",
        "outputId": "1736003f-ef86-458b-8b1f-d18c181f1eb4"
      },
      "execution_count": 81,
      "outputs": [
        {
          "output_type": "stream",
          "name": "stdout",
          "text": [
            "True\n"
          ]
        }
      ]
    },
    {
      "cell_type": "code",
      "source": [
        "# a nın 5-8 aralığında olup olmadığını test etmek istiyoruz?\n",
        "a = 7\n",
        "print(5<a<8)  # python için geçerli"
      ],
      "metadata": {
        "colab": {
          "base_uri": "https://localhost:8080/"
        },
        "id": "3uoyL_pSLJ7z",
        "outputId": "b0aba166-a895-4378-a989-858e56e6ce0b"
      },
      "execution_count": 82,
      "outputs": [
        {
          "output_type": "stream",
          "name": "stdout",
          "text": [
            "True\n"
          ]
        }
      ]
    },
    {
      "cell_type": "code",
      "source": [
        "# negatif sayıların gösteriminde bitsel not (~) operatörü kullanılır.\n",
        "# 2's complement (tümleyen aritmetiği)\n",
        "num = 3\n",
        "~num+1"
      ],
      "metadata": {
        "colab": {
          "base_uri": "https://localhost:8080/"
        },
        "id": "8ObiRKKiQjJk",
        "outputId": "2c7e7200-8898-4d23-d87e-7acd280c901d"
      },
      "execution_count": 101,
      "outputs": [
        {
          "output_type": "execute_result",
          "data": {
            "text/plain": [
              "-3"
            ]
          },
          "metadata": {},
          "execution_count": 101
        }
      ]
    },
    {
      "cell_type": "code",
      "source": [
        "# 5-3 = 2 işlemini - operatörünü kullanmadan nasıl yaparız?\n",
        "5 + (~3+1)"
      ],
      "metadata": {
        "colab": {
          "base_uri": "https://localhost:8080/"
        },
        "id": "7Mh-frU3Q63e",
        "outputId": "558cdd0b-804f-4922-d562-80c96eb79fcd"
      },
      "execution_count": 102,
      "outputs": [
        {
          "output_type": "execute_result",
          "data": {
            "text/plain": [
              "2"
            ]
          },
          "metadata": {},
          "execution_count": 102
        }
      ]
    },
    {
      "cell_type": "markdown",
      "source": [
        "# String formatlama (f-strings)"
      ],
      "metadata": {
        "id": "gtC4HvXtburL"
      }
    },
    {
      "cell_type": "code",
      "source": [
        "meyve = \"Elma\"\n",
        "sebze = \"Ispanak\"\n",
        "miktar = 5\n",
        "\n",
        "print(\"Pazardan\", miktar, \"kilo\", meyve, \"ve\", sebze, \"aldım.\")\n",
        "print(\"Pazardan \" + str(miktar) + \" kilo \" + meyve + \" ve \" + sebze + \" aldım.\")\n",
        "\n",
        "print(\"Pazardan %d kilo %s ve %s aldım.\" %(miktar, meyve, sebze))\n",
        "print(\"Pazardan {} kilo {} ve {} aldım.\".format(miktar, meyve, sebze))\n",
        "\n",
        "print(f\"Pazardan {miktar} kilo {meyve} ve {sebze} aldım.\")"
      ],
      "metadata": {
        "colab": {
          "base_uri": "https://localhost:8080/"
        },
        "id": "MewUO4cfStLI",
        "outputId": "2c075995-fa2e-4535-dc26-fd956df98c7a"
      },
      "execution_count": 103,
      "outputs": [
        {
          "output_type": "stream",
          "name": "stdout",
          "text": [
            "Pazardan 5 kilo Elma ve Ispanak aldım.\n",
            "Pazardan 5 kilo Elma ve Ispanak aldım.\n",
            "Pazardan 5 kilo Elma ve Ispanak aldım.\n",
            "Pazardan 5 kilo Elma ve Ispanak aldım.\n",
            "Pazardan 5 kilo Elma ve Ispanak aldım.\n"
          ]
        }
      ]
    },
    {
      "cell_type": "code",
      "source": [
        "# format() metodunun kullanımı\n",
        "meyve = \"Elma\"\n",
        "sebze = \"Ispanak\"\n",
        "miktar = 5\n",
        "print(\"Pazardan {} kilo {} ve {} aldım.\".format(miktar, meyve, sebze))\n",
        "print(\"Pazardan {0} kilo {1} ve {2} aldım.\".format(miktar, meyve, sebze))\n",
        "print(\"Pazardan {0} kilo {2} ve {1} aldım.\".format(miktar, meyve, sebze))\n",
        "\n",
        "print(\"Pazardan {miktar} kilo {meyve} ve {sebze} aldım.\".format(miktar=5, meyve=\"Elma\", sebze=\"Ispanak\"))\n",
        "print(\"Pazardan {0} kilo {meyve} ve {sebze} aldım.\".format(5, meyve=\"Elma\", sebze=\"Ispanak\"))"
      ],
      "metadata": {
        "colab": {
          "base_uri": "https://localhost:8080/"
        },
        "id": "ny7mcG0hifvH",
        "outputId": "c10dc2cf-cffb-4bff-bc7c-24298355f147"
      },
      "execution_count": 6,
      "outputs": [
        {
          "output_type": "stream",
          "name": "stdout",
          "text": [
            "Pazardan 5 kilo Elma ve Ispanak aldım.\n",
            "Pazardan 5 kilo Elma ve Ispanak aldım.\n",
            "Pazardan 5 kilo Ispanak ve Elma aldım.\n",
            "Pazardan 5 kilo Elma ve Ispanak aldım.\n",
            "Pazardan 5 kilo Elma ve Ispanak aldım.\n"
          ]
        }
      ]
    },
    {
      "cell_type": "code",
      "source": [
        "#karışıkta value, key=value, .. sıralı gitmeli\n",
        "print(\"Pazardan {0} kilo {meyve} ve {sebze} aldım.\".format(5, meyve=\"Elma\", sebze=\"Ispanak\"))\n",
        "print(\"Pazardan {0} kilo {meyve} ve {sebze} aldım.\".format(5, meyve=\"Elma\", \"Ispanak\"))"
      ],
      "metadata": {
        "colab": {
          "base_uri": "https://localhost:8080/",
          "height": 131
        },
        "id": "blXW6dqijP_G",
        "outputId": "f2998e43-86f4-4ba1-f695-52f8c57989c5"
      },
      "execution_count": 7,
      "outputs": [
        {
          "output_type": "error",
          "ename": "SyntaxError",
          "evalue": "ignored",
          "traceback": [
            "\u001b[0;36m  File \u001b[0;32m\"<ipython-input-7-30a672de4404>\"\u001b[0;36m, line \u001b[0;32m3\u001b[0m\n\u001b[0;31m    print(\"Pazardan {0} kilo {meyve} ve {sebze} aldım.\".format(5, meyve=\"Elma\", \"Ispanak\"))\u001b[0m\n\u001b[0m                                                                                         ^\u001b[0m\n\u001b[0;31mSyntaxError\u001b[0m\u001b[0;31m:\u001b[0m positional argument follows keyword argument\n"
          ]
        }
      ]
    },
    {
      "cell_type": "code",
      "source": [
        "test = '{0} {1} {3} {2}'.format('İyilik', 'her', 'kazandırır.', 'zaman')\n",
        "print(test)"
      ],
      "metadata": {
        "colab": {
          "base_uri": "https://localhost:8080/"
        },
        "id": "wJfvA5P4kNlo",
        "outputId": "494d94c7-6bfe-41ec-98b1-2974cdca8e7a"
      },
      "execution_count": 8,
      "outputs": [
        {
          "output_type": "stream",
          "name": "stdout",
          "text": [
            "İyilik her zaman kazandırır.\n"
          ]
        }
      ]
    },
    {
      "cell_type": "code",
      "source": [
        "miktar = 420.461,98\n",
        "miktar"
      ],
      "metadata": {
        "colab": {
          "base_uri": "https://localhost:8080/"
        },
        "id": "n65Oqve7lET_",
        "outputId": "e1345efb-0240-4f1b-82a8-d7e489feca6f"
      },
      "execution_count": 9,
      "outputs": [
        {
          "output_type": "execute_result",
          "data": {
            "text/plain": [
              "(420.461, 98)"
            ]
          },
          "metadata": {},
          "execution_count": 9
        }
      ]
    },
    {
      "cell_type": "code",
      "source": [
        "day = 5\n",
        "btc = 2000\n",
        "kar = 11\n",
        "miktar = \"420.461,98\"\n",
        "text = \"{0} gün önce {1} bitcoin almış olsaydık, bugün %{2} kar ile {3} TL'ye sahip olacaktık.\".format(day,btc,kar,miktar)\n",
        "print(text)\n"
      ],
      "metadata": {
        "colab": {
          "base_uri": "https://localhost:8080/"
        },
        "id": "GeSatrlqkjuq",
        "outputId": "129e9fbd-57a1-4be5-94c6-a89b0cdb16af"
      },
      "execution_count": 11,
      "outputs": [
        {
          "output_type": "stream",
          "name": "stdout",
          "text": [
            "5 gün önce 2000 bitcoin almış olsaydık, bugün %11 kar ile 420.461,98 TL'ye sahip olacaktık.\n"
          ]
        }
      ]
    },
    {
      "cell_type": "code",
      "source": [
        "day = 5\n",
        "btc = 2000\n",
        "kar = 11\n",
        "miktar = \"420.461,98\"\n",
        "text = f\"{day} gün önce {btc} bitcoin almış olsaydık, bugün %{kar} kar ile {miktar} TL'ye sahip olacaktık.\"\n",
        "print(text)"
      ],
      "metadata": {
        "colab": {
          "base_uri": "https://localhost:8080/"
        },
        "id": "lIEBCtXelpcI",
        "outputId": "7c1ec64f-882e-461b-d5bb-9627e39d647d"
      },
      "execution_count": 12,
      "outputs": [
        {
          "output_type": "stream",
          "name": "stdout",
          "text": [
            "5 gün önce 2000 bitcoin almış olsaydık, bugün %11 kar ile 420.461,98 TL'ye sahip olacaktık.\n"
          ]
        }
      ]
    },
    {
      "cell_type": "code",
      "source": [
        "10_000 + 20_000"
      ],
      "metadata": {
        "colab": {
          "base_uri": "https://localhost:8080/"
        },
        "id": "gD1xja-4l4-J",
        "outputId": "4994e798-7f11-443a-bbfe-ec4cda703903"
      },
      "execution_count": 13,
      "outputs": [
        {
          "output_type": "execute_result",
          "data": {
            "text/plain": [
              "30000"
            ]
          },
          "metadata": {},
          "execution_count": 13
        }
      ]
    },
    {
      "cell_type": "code",
      "source": [
        "bakiye = 234_530_000\n",
        "print(bakiye)\n",
        "noktali_bakiye = \"{:,}\".format(bakiye) # binlik değerleri , ile göster\n",
        "print(noktali_bakiye)"
      ],
      "metadata": {
        "colab": {
          "base_uri": "https://localhost:8080/"
        },
        "id": "Jav4ZGXQmLb8",
        "outputId": "9e586a29-5dcc-4ea1-dd47-9f7fb531992b"
      },
      "execution_count": 17,
      "outputs": [
        {
          "output_type": "stream",
          "name": "stdout",
          "text": [
            "234530000\n",
            "234,530,000\n"
          ]
        }
      ]
    },
    {
      "cell_type": "code",
      "source": [
        "bakiye = 234_530_000\n",
        "print(bakiye)\n",
        "noktali_bakiye = f\"{bakiye:,}\" # binlik değerleri , ile göster\n",
        "print(noktali_bakiye)"
      ],
      "metadata": {
        "colab": {
          "base_uri": "https://localhost:8080/"
        },
        "id": "QihzWZApmj1m",
        "outputId": "17bd944a-2c47-4467-da7f-6196f4d05dd6"
      },
      "execution_count": 19,
      "outputs": [
        {
          "output_type": "stream",
          "name": "stdout",
          "text": [
            "234530000\n",
            "234,530,000\n"
          ]
        }
      ]
    },
    {
      "cell_type": "code",
      "source": [
        "#çok satırlı f-string kullanımı\n",
        "name = \"Ali\"\n",
        "school = \"METU\"\n",
        "mesaj = f\"\"\"\n",
        "        Merhaba, {name}\n",
        "        {school} da eğitim almaktadır.\n",
        "        \"\"\"\n",
        "print(mesaj)"
      ],
      "metadata": {
        "colab": {
          "base_uri": "https://localhost:8080/"
        },
        "id": "xT4vjPOEm3cY",
        "outputId": "64db506d-076b-4d5c-ff0e-66ad6665a460"
      },
      "execution_count": 20,
      "outputs": [
        {
          "output_type": "stream",
          "name": "stdout",
          "text": [
            "\n",
            "        Merhaba, Ali\n",
            "        METU da eğitim almaktadır.\n",
            "        \n"
          ]
        }
      ]
    },
    {
      "cell_type": "code",
      "source": [
        "#çok satırlı f-string kullanımı\n",
        "name = \"Ali\"\n",
        "school = \"METU\"\n",
        "mesaj = f\"Merhaba, {name} \"\\\n",
        "        f\"{school} da eğitim almaktadır.\"\n",
        "\n",
        "print(mesaj)"
      ],
      "metadata": {
        "colab": {
          "base_uri": "https://localhost:8080/"
        },
        "id": "ZxomVApbnWOM",
        "outputId": "a844465f-3899-41c7-dc6c-442d7a0b7a5e"
      },
      "execution_count": 22,
      "outputs": [
        {
          "output_type": "stream",
          "name": "stdout",
          "text": [
            "Merhaba, Ali METU da eğitim almaktadır.\n"
          ]
        }
      ]
    },
    {
      "cell_type": "code",
      "source": [
        "#çok satırlı f-string kullanımı\n",
        "name = \"Ali\"\n",
        "school = \"METU\"\n",
        "mesaj = (f\"Merhaba, {name} \"\n",
        "        f\"{school} da eğitim almaktadır.\")\n",
        "\n",
        "print(mesaj)"
      ],
      "metadata": {
        "colab": {
          "base_uri": "https://localhost:8080/"
        },
        "id": "MJUGjzPnnpzl",
        "outputId": "ed2b30f2-5cd7-4b2a-e65f-b2f76a967eb4"
      },
      "execution_count": 23,
      "outputs": [
        {
          "output_type": "stream",
          "name": "stdout",
          "text": [
            "Merhaba, Ali METU da eğitim almaktadır.\n"
          ]
        }
      ]
    },
    {
      "cell_type": "code",
      "source": [
        "num = 10\n",
        "print(f\"{num:0x}\") #hex karşılığı\n",
        "print(f\"{num:0b}\") #bin karşılığı\n",
        "print(f\"{num:0o}\") #oct karşılığı"
      ],
      "metadata": {
        "colab": {
          "base_uri": "https://localhost:8080/"
        },
        "id": "Dbg91HpOn00h",
        "outputId": "9dc796f0-55cd-4d16-8c9d-aab853ad56e2"
      },
      "execution_count": 26,
      "outputs": [
        {
          "output_type": "stream",
          "name": "stdout",
          "text": [
            "a\n",
            "1010\n",
            "12\n"
          ]
        }
      ]
    },
    {
      "cell_type": "code",
      "source": [
        "help"
      ],
      "metadata": {
        "id": "osw-dpCAphBa"
      },
      "execution_count": null,
      "outputs": []
    },
    {
      "cell_type": "code",
      "source": [
        "# Tarihi stringe dönüştürme\n",
        "import datetime as dt\n",
        "tarih = dt.datetime(2023, 5, 12, 14, 5, 56)\n",
        "print(tarih)\n",
        "print(type(tarih))\n",
        "\n",
        "str_tarih = f\"{tarih:%d/%m/%Y %H:%M:%S}\"\n",
        "print(str_tarih)\n",
        "print(type(str_tarih))"
      ],
      "metadata": {
        "colab": {
          "base_uri": "https://localhost:8080/"
        },
        "id": "ASMQ413toaa3",
        "outputId": "11dbc183-87fe-48a6-a8ac-811c38d05fd5"
      },
      "execution_count": 29,
      "outputs": [
        {
          "output_type": "stream",
          "name": "stdout",
          "text": [
            "2023-05-12 14:05:56\n",
            "<class 'datetime.datetime'>\n",
            "12/05/2023 14:05:56\n",
            "<class 'str'>\n"
          ]
        }
      ]
    },
    {
      "cell_type": "code",
      "source": [
        "str_tarih = f\"{tarih:%d/%m/%Y}\"\n",
        "print(str_tarih)"
      ],
      "metadata": {
        "colab": {
          "base_uri": "https://localhost:8080/"
        },
        "id": "rqhtcWEzqA5T",
        "outputId": "faaf8f5a-ce9d-48fa-aedd-061387177bdd"
      },
      "execution_count": 31,
      "outputs": [
        {
          "output_type": "stream",
          "name": "stdout",
          "text": [
            "12/05/2023\n"
          ]
        }
      ]
    },
    {
      "cell_type": "code",
      "source": [
        "help(dt.datetime)"
      ],
      "metadata": {
        "id": "wuA-ypy6pioB"
      },
      "execution_count": null,
      "outputs": []
    },
    {
      "cell_type": "code",
      "source": [
        "PI = 3.14159\n",
        "print(f\"{PI:.3f}\")\n",
        "print(f\"{PI:10.3f}\")"
      ],
      "metadata": {
        "colab": {
          "base_uri": "https://localhost:8080/"
        },
        "id": "HobNuFaGqf19",
        "outputId": "cb481aa2-eb36-4fb6-b2f6-3a43e601ee50"
      },
      "execution_count": 33,
      "outputs": [
        {
          "output_type": "stream",
          "name": "stdout",
          "text": [
            "3.142\n",
            "     3.142\n"
          ]
        }
      ]
    },
    {
      "cell_type": "markdown",
      "source": [
        "# String Metotlar ve string modülü"
      ],
      "metadata": {
        "id": "Hh88YEUPcK2s"
      }
    },
    {
      "cell_type": "code",
      "source": [
        "print(\"Python kodu\".ljust(20))  # sola yanaştırır\n",
        "print(\"Python kodu\".rjust(20))  # sağa yanaştırır\n",
        "print(\"Python kodu\".center(20))  # merkeze yerleştirir\n",
        "print(\"Python kodu\".ljust(20,\"*\"))  # sola yanaştırır"
      ],
      "metadata": {
        "colab": {
          "base_uri": "https://localhost:8080/"
        },
        "id": "25pV20C2cQxV",
        "outputId": "ac5ad9a8-fe47-44dc-f484-234f63115012"
      },
      "execution_count": 42,
      "outputs": [
        {
          "output_type": "stream",
          "name": "stdout",
          "text": [
            "Python kodu         \n",
            "         Python kodu\n",
            "    Python kodu     \n",
            "Python kodu*********\n"
          ]
        }
      ]
    },
    {
      "cell_type": "code",
      "source": [
        "print(f\"{'Python kodu':<20}\")  # sola yanaştırır\n",
        "print(f\"{'Python kodu':>20}\")  # sağa yanaştırır\n",
        "print(f\"{'Python kodu':^20}\")  # merkeze yerleştirir"
      ],
      "metadata": {
        "colab": {
          "base_uri": "https://localhost:8080/"
        },
        "id": "3WNPmPmfrshX",
        "outputId": "338d3faa-866b-4efc-909d-a217e26e42b0"
      },
      "execution_count": 41,
      "outputs": [
        {
          "output_type": "stream",
          "name": "stdout",
          "text": [
            "Python kodu         \n",
            "         Python kodu\n",
            "    Python kodu     \n"
          ]
        }
      ]
    },
    {
      "cell_type": "code",
      "source": [
        "pi = 3.14\n",
        "print(f\"{pi}\".center(10,\"*\"))\n",
        "print(f\"{pi}\".zfill(10))\n",
        "print(f\"{pi}\\tdır\".expandtabs(10))\n",
        "print(f\"123{pi}\\tdır\".expandtabs(10))"
      ],
      "metadata": {
        "colab": {
          "base_uri": "https://localhost:8080/"
        },
        "id": "NRW8krFHwSQx",
        "outputId": "0bd122bd-b529-40fc-896f-8a972d3dc6a9"
      },
      "execution_count": 43,
      "outputs": [
        {
          "output_type": "stream",
          "name": "stdout",
          "text": [
            "***3.14***\n",
            "0000003.14\n",
            "3.14      dır\n",
            "1233.14   dır\n"
          ]
        }
      ]
    },
    {
      "cell_type": "code",
      "source": [
        "True and \"Geçerli\" or \"Geçersiz\"\n",
        "#\"Geçerli\" or \"Geçersiz\"\n",
        "#\"Geçerli\""
      ],
      "metadata": {
        "colab": {
          "base_uri": "https://localhost:8080/",
          "height": 35
        },
        "id": "QK6oqRGzxeXz",
        "outputId": "10652062-609c-49fa-ede3-ef3cdaa12088"
      },
      "execution_count": 47,
      "outputs": [
        {
          "output_type": "execute_result",
          "data": {
            "text/plain": [
              "'Geçerli'"
            ],
            "application/vnd.google.colaboratory.intrinsic+json": {
              "type": "string"
            }
          },
          "metadata": {},
          "execution_count": 47
        }
      ]
    },
    {
      "cell_type": "code",
      "source": [
        "False and \"Geçerli\" or \"Geçersiz\"\n",
        "#False or \"Geçersiz\"\n",
        "#\"Geçersiz\""
      ],
      "metadata": {
        "colab": {
          "base_uri": "https://localhost:8080/",
          "height": 35
        },
        "id": "lJkD6q49xzkh",
        "outputId": "8241ffa5-d14e-4b94-9f52-297efd756a8c"
      },
      "execution_count": 48,
      "outputs": [
        {
          "output_type": "execute_result",
          "data": {
            "text/plain": [
              "'Geçersiz'"
            ],
            "application/vnd.google.colaboratory.intrinsic+json": {
              "type": "string"
            }
          },
          "metadata": {},
          "execution_count": 48
        }
      ]
    },
    {
      "cell_type": "code",
      "source": [
        "url = \"https://docs.python.org/3/library/operator.html\"\n",
        "# kontrol işlemi\n",
        "# web sayfası html uzantılımı?\n",
        "print(url.endswith(\"html\"))  #True/False\n",
        "# web sayfası güvenli mi? https\n",
        "print(url.startswith(\"https\")) #True/False\n",
        "# web adresi \"org\" içeriyor mu?\n",
        "print(\"org\" in url)  #True/False"
      ],
      "metadata": {
        "colab": {
          "base_uri": "https://localhost:8080/"
        },
        "id": "ZIKLFKmWwzok",
        "outputId": "ab9b11cd-3be9-454c-d9b7-1c6efe948603"
      },
      "execution_count": 46,
      "outputs": [
        {
          "output_type": "stream",
          "name": "stdout",
          "text": [
            "True\n",
            "True\n",
            "True\n"
          ]
        }
      ]
    },
    {
      "cell_type": "code",
      "source": [
        "url = \"https://docs.python.org/3/library/operator.html\"\n",
        "# web sayfası güvenli mi? https\n",
        "print(url.startswith(\"https\") and \"Evet güvenli\" or \"Hayır, güvensiz\")  #if else yerine geçer"
      ],
      "metadata": {
        "colab": {
          "base_uri": "https://localhost:8080/"
        },
        "id": "9lPjutuIyBFJ",
        "outputId": "4f834576-8429-43c8-827f-4325ff197e22"
      },
      "execution_count": 51,
      "outputs": [
        {
          "output_type": "stream",
          "name": "stdout",
          "text": [
            "Hayır, güvensiz\n"
          ]
        }
      ]
    },
    {
      "cell_type": "code",
      "source": [
        "email = input(\"mail adresiniz..: \")\n",
        "# alternatifbank emaili mi değil mi?\n",
        "print(email.endswith(\"@alternatifbank.com.tr\") and \"Geçerli mail\" or \"Geçersiz mail\")"
      ],
      "metadata": {
        "colab": {
          "base_uri": "https://localhost:8080/"
        },
        "id": "aAFq4O6_z9Ef",
        "outputId": "4c1f04f9-c3e0-486d-a44a-974c39baed9e"
      },
      "execution_count": 55,
      "outputs": [
        {
          "output_type": "stream",
          "name": "stdout",
          "text": [
            "mail adresiniz..: info@altarbank.com\n",
            "Geçersiz mail\n"
          ]
        }
      ]
    },
    {
      "cell_type": "code",
      "source": [
        "# Bir karakterin yerini/indisini/pozisyonu bulma\n",
        "email = \"info@alternatifbank.com.tr\"\n",
        "print(email.find(\".\"))\n",
        "print(email.rfind(\".\"))  #sağdan arar"
      ],
      "metadata": {
        "colab": {
          "base_uri": "https://localhost:8080/"
        },
        "id": "tntFytBW04SH",
        "outputId": "772e0909-3df0-44fa-838e-263f5e3b2db5"
      },
      "execution_count": 59,
      "outputs": [
        {
          "output_type": "stream",
          "name": "stdout",
          "text": [
            "19\n",
            "23\n"
          ]
        }
      ]
    },
    {
      "cell_type": "code",
      "source": [
        "# Bir karakterin yerini/indisini/pozisyonu bulma\n",
        "email = \"info@alternatifbank.com.tr\"\n",
        "print(email.index(\".\"))\n",
        "print(email.rindex(\".\"))  #sağdan arar"
      ],
      "metadata": {
        "id": "F1a1VVn71U7W",
        "outputId": "00923345-b147-44ce-9d5e-c7c80f5f9095",
        "colab": {
          "base_uri": "https://localhost:8080/"
        }
      },
      "execution_count": 60,
      "outputs": [
        {
          "output_type": "stream",
          "name": "stdout",
          "text": [
            "19\n",
            "23\n"
          ]
        }
      ]
    }
  ]
}