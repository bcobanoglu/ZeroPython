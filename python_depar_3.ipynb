{
  "nbformat": 4,
  "nbformat_minor": 0,
  "metadata": {
    "colab": {
      "provenance": []
    },
    "kernelspec": {
      "name": "python3",
      "display_name": "Python 3"
    },
    "language_info": {
      "name": "python"
    }
  },
  "cells": [
    {
      "cell_type": "code",
      "execution_count": null,
      "metadata": {
        "colab": {
          "base_uri": "https://localhost:8080/"
        },
        "id": "mwzY-Yg1uNOu",
        "outputId": "7c73bbd6-59ef-4557-d9c7-4a78ca0515b7"
      },
      "outputs": [
        {
          "output_type": "stream",
          "name": "stdout",
          "text": [
            "Girilen email geçersiz\n"
          ]
        }
      ],
      "source": [
        "email = \"info@alternatifbankcom.tr\"\n",
        "if email.endswith(\"@alternatifbank.com.tr\"):\n",
        "    print(\"Girilen email geçerli\")\n",
        "else:\n",
        "    print(\"Girilen email geçersiz\")"
      ]
    },
    {
      "cell_type": "code",
      "source": [
        "email = \"info@alternatifbank.com.tr\"\n",
        "print(email.endswith(\"@alternatifbank.com.tr\") and \"Girilen email geçerli\" or \"Girilen email geçersiz\")"
      ],
      "metadata": {
        "colab": {
          "base_uri": "https://localhost:8080/"
        },
        "id": "XDbhW9X7wj4r",
        "outputId": "d2923779-0808-4dd9-9050-103bfa351525"
      },
      "execution_count": null,
      "outputs": [
        {
          "output_type": "stream",
          "name": "stdout",
          "text": [
            "Girilen email geçerli\n"
          ]
        }
      ]
    },
    {
      "cell_type": "code",
      "source": [
        "# arama metotları\n",
        "text = \"ali, veli, deli\"\n",
        "print(text.find(\"veli\")) # text içerisinde veli varmı? döndülen değer pozitif ise var\n",
        "if text.find(\"celi\")>=0:\n",
        "    print(\"Evet, var\")\n",
        "else:\n",
        "    print(\"Hayır, yok\")"
      ],
      "metadata": {
        "colab": {
          "base_uri": "https://localhost:8080/"
        },
        "id": "0oevMAZOxBzt",
        "outputId": "dff2863d-dfa1-4818-d5ef-3c04fbf2c273"
      },
      "execution_count": null,
      "outputs": [
        {
          "output_type": "stream",
          "name": "stdout",
          "text": [
            "5\n",
            "Hayır, yok\n"
          ]
        }
      ]
    },
    {
      "cell_type": "code",
      "source": [
        "# arama metotları\n",
        "text = \"ali, veli, deli\"\n",
        "print(text.index(\"veli\")) # text içerisinde veli varmı? döndülen değer pozitif ise var\n",
        "if text.index(\"celi\")>=0:\n",
        "    print(\"Evet, var\")\n",
        "else:\n",
        "    print(\"Hayır, yok\")"
      ],
      "metadata": {
        "colab": {
          "base_uri": "https://localhost:8080/",
          "height": 253
        },
        "id": "UgStxUjYyYHY",
        "outputId": "905dea99-63ae-490f-ee3b-e484233f4102"
      },
      "execution_count": null,
      "outputs": [
        {
          "output_type": "stream",
          "name": "stdout",
          "text": [
            "5\n"
          ]
        },
        {
          "output_type": "error",
          "ename": "ValueError",
          "evalue": "ignored",
          "traceback": [
            "\u001b[0;31m---------------------------------------------------------------------------\u001b[0m",
            "\u001b[0;31mValueError\u001b[0m                                Traceback (most recent call last)",
            "\u001b[0;32m<ipython-input-11-59dbc728de6a>\u001b[0m in \u001b[0;36m<cell line: 4>\u001b[0;34m()\u001b[0m\n\u001b[1;32m      2\u001b[0m \u001b[0mtext\u001b[0m \u001b[0;34m=\u001b[0m \u001b[0;34m\"ali, veli, deli\"\u001b[0m\u001b[0;34m\u001b[0m\u001b[0;34m\u001b[0m\u001b[0m\n\u001b[1;32m      3\u001b[0m \u001b[0mprint\u001b[0m\u001b[0;34m(\u001b[0m\u001b[0mtext\u001b[0m\u001b[0;34m.\u001b[0m\u001b[0mindex\u001b[0m\u001b[0;34m(\u001b[0m\u001b[0;34m\"veli\"\u001b[0m\u001b[0;34m)\u001b[0m\u001b[0;34m)\u001b[0m \u001b[0;31m# text içerisinde veli varmı? döndülen değer pozitif ise var\u001b[0m\u001b[0;34m\u001b[0m\u001b[0;34m\u001b[0m\u001b[0m\n\u001b[0;32m----> 4\u001b[0;31m \u001b[0;32mif\u001b[0m \u001b[0mtext\u001b[0m\u001b[0;34m.\u001b[0m\u001b[0mindex\u001b[0m\u001b[0;34m(\u001b[0m\u001b[0;34m\"celi\"\u001b[0m\u001b[0;34m)\u001b[0m\u001b[0;34m>=\u001b[0m\u001b[0;36m0\u001b[0m\u001b[0;34m:\u001b[0m\u001b[0;34m\u001b[0m\u001b[0;34m\u001b[0m\u001b[0m\n\u001b[0m\u001b[1;32m      5\u001b[0m     \u001b[0mprint\u001b[0m\u001b[0;34m(\u001b[0m\u001b[0;34m\"Evet, var\"\u001b[0m\u001b[0;34m)\u001b[0m\u001b[0;34m\u001b[0m\u001b[0;34m\u001b[0m\u001b[0m\n\u001b[1;32m      6\u001b[0m \u001b[0;32melse\u001b[0m\u001b[0;34m:\u001b[0m\u001b[0;34m\u001b[0m\u001b[0;34m\u001b[0m\u001b[0m\n",
            "\u001b[0;31mValueError\u001b[0m: substring not found"
          ]
        }
      ]
    },
    {
      "cell_type": "code",
      "source": [
        "# arama metotları\n",
        "text = \"ali, veli, deli\"\n",
        "print(\"veli\" in text) # text içerisinde veli varmı? döndülen değer True ise var"
      ],
      "metadata": {
        "colab": {
          "base_uri": "https://localhost:8080/"
        },
        "id": "psl1-2GLxxjg",
        "outputId": "adcf2b6a-ae63-4a3f-a982-7b380f89a6f3"
      },
      "execution_count": null,
      "outputs": [
        {
          "output_type": "stream",
          "name": "stdout",
          "text": [
            "True\n"
          ]
        }
      ]
    },
    {
      "cell_type": "code",
      "source": [
        "#9- Verilen metindeki '0' ları 'o' olarak değiştiren program\n",
        "text = 'S0d0me and G0m0re'\n",
        "print(text.replace('0','o'))"
      ],
      "metadata": {
        "colab": {
          "base_uri": "https://localhost:8080/"
        },
        "id": "LkmRtwPIzIxR",
        "outputId": "8d95381c-8305-4e46-bbc3-77c0bff590b4"
      },
      "execution_count": null,
      "outputs": [
        {
          "output_type": "stream",
          "name": "stdout",
          "text": [
            "Sodome and Gomore\n"
          ]
        }
      ]
    },
    {
      "cell_type": "code",
      "source": [
        "#9- Verilen metindeki '0' ları 'o' olarak değiştiren program\n",
        "text = 'S0d0me and G0m0re'\n",
        "print(text.replace('0','o',2))"
      ],
      "metadata": {
        "colab": {
          "base_uri": "https://localhost:8080/"
        },
        "id": "D16xQohlzwrx",
        "outputId": "84c0599d-6a81-4edc-fd7f-f99fb16fed1d"
      },
      "execution_count": null,
      "outputs": [
        {
          "output_type": "stream",
          "name": "stdout",
          "text": [
            "Sodome and G0m0re\n"
          ]
        }
      ]
    },
    {
      "cell_type": "code",
      "source": [
        "text = 'Galatasaray'\n",
        "print(text.replace('a','e',2))  #sadece 2 tanesini değiştir"
      ],
      "metadata": {
        "colab": {
          "base_uri": "https://localhost:8080/"
        },
        "id": "WM3pp-zYz23u",
        "outputId": "64e3cc07-9ea6-4db1-a1fa-33b5baed8c79"
      },
      "execution_count": null,
      "outputs": [
        {
          "output_type": "stream",
          "name": "stdout",
          "text": [
            "Geletasaray\n"
          ]
        }
      ]
    },
    {
      "cell_type": "code",
      "source": [
        "# Stringler immutable(doğrudan değiştirilemeyen ) nesnelerdir.\n",
        "text = \"Galatasaray\"\n",
        "print(text[0])  # 0. indisli kararteri (ilk karkter)\n",
        "text[0]=\"F\"     # ilk karakteri doğrudan değiştir (immutable)\n",
        "print(text)"
      ],
      "metadata": {
        "colab": {
          "base_uri": "https://localhost:8080/",
          "height": 235
        },
        "id": "bi5K5ukR0CkH",
        "outputId": "6b4d7937-f9bd-49cd-cd6d-cffb9cfa67f7"
      },
      "execution_count": null,
      "outputs": [
        {
          "output_type": "stream",
          "name": "stdout",
          "text": [
            "G\n"
          ]
        },
        {
          "output_type": "error",
          "ename": "TypeError",
          "evalue": "ignored",
          "traceback": [
            "\u001b[0;31m---------------------------------------------------------------------------\u001b[0m",
            "\u001b[0;31mTypeError\u001b[0m                                 Traceback (most recent call last)",
            "\u001b[0;32m<ipython-input-18-4fb1a93e8d1b>\u001b[0m in \u001b[0;36m<cell line: 4>\u001b[0;34m()\u001b[0m\n\u001b[1;32m      2\u001b[0m \u001b[0mtext\u001b[0m \u001b[0;34m=\u001b[0m \u001b[0;34m\"Galatasaray\"\u001b[0m\u001b[0;34m\u001b[0m\u001b[0;34m\u001b[0m\u001b[0m\n\u001b[1;32m      3\u001b[0m \u001b[0mprint\u001b[0m\u001b[0;34m(\u001b[0m\u001b[0mtext\u001b[0m\u001b[0;34m[\u001b[0m\u001b[0;36m0\u001b[0m\u001b[0;34m]\u001b[0m\u001b[0;34m)\u001b[0m  \u001b[0;31m#0. indisli kararteri (ilk karkter)\u001b[0m\u001b[0;34m\u001b[0m\u001b[0;34m\u001b[0m\u001b[0m\n\u001b[0;32m----> 4\u001b[0;31m \u001b[0mtext\u001b[0m\u001b[0;34m[\u001b[0m\u001b[0;36m0\u001b[0m\u001b[0;34m]\u001b[0m\u001b[0;34m=\u001b[0m\u001b[0;34m\"F\"\u001b[0m  \u001b[0;31m# ilk karakteri doğrudan değiştir\u001b[0m\u001b[0;34m\u001b[0m\u001b[0;34m\u001b[0m\u001b[0m\n\u001b[0m\u001b[1;32m      5\u001b[0m \u001b[0mprint\u001b[0m\u001b[0;34m(\u001b[0m\u001b[0mtext\u001b[0m\u001b[0;34m)\u001b[0m\u001b[0;34m\u001b[0m\u001b[0;34m\u001b[0m\u001b[0m\n",
            "\u001b[0;31mTypeError\u001b[0m: 'str' object does not support item assignment"
          ]
        }
      ]
    },
    {
      "cell_type": "code",
      "source": [
        "# data cleaning işlemi\n",
        "text = \"  +  python + dersi +   \"\n",
        "#başta ve sonda yeralan boşlukları kaldırmak için\n",
        "print(text.strip())     # her iki yandaki boşlukları kaldırır\n",
        "print(text.strip(\"+ \")) # her iki yandaki + ve boşlukları kaldırır"
      ],
      "metadata": {
        "colab": {
          "base_uri": "https://localhost:8080/"
        },
        "id": "dVulHmdJ0s-T",
        "outputId": "341088fd-fc57-4264-922f-c8aa459fbfc3"
      },
      "execution_count": null,
      "outputs": [
        {
          "output_type": "stream",
          "name": "stdout",
          "text": [
            "+  python + dersi +\n",
            "python + dersi\n"
          ]
        }
      ]
    },
    {
      "cell_type": "code",
      "source": [
        "text = \"memleketime\"\n",
        "print(text.strip(\"em\"))  #'e','m','em','me'  her iki taraftan\n",
        "print(text.rstrip(\"em\"))  #'e','m','em','me' sağdan\n",
        "print(text.lstrip(\"em\"))  #'e','m','em','me' soldan"
      ],
      "metadata": {
        "colab": {
          "base_uri": "https://localhost:8080/"
        },
        "id": "Jydn0Y1D1jTw",
        "outputId": "28aee015-31e0-4f0b-c610-c66845a96c40"
      },
      "execution_count": null,
      "outputs": [
        {
          "output_type": "stream",
          "name": "stdout",
          "text": [
            "leketi\n",
            "memleketi\n",
            "leketime\n"
          ]
        }
      ]
    },
    {
      "cell_type": "code",
      "source": [
        "text = \"TestTakeCafe\"\n",
        "print(text.strip(\"Test\"))"
      ],
      "metadata": {
        "colab": {
          "base_uri": "https://localhost:8080/"
        },
        "id": "6ueif1p42b7y",
        "outputId": "204d59ac-624a-4de1-ae52-5dbed0dce74a"
      },
      "execution_count": null,
      "outputs": [
        {
          "output_type": "stream",
          "name": "stdout",
          "text": [
            "akeCaf\n"
          ]
        }
      ]
    },
    {
      "cell_type": "code",
      "source": [
        "#sadece Test'i silmesini ne yapmam lazım\n",
        "text = \"TestTakeCafe\"\n",
        "print(text.lstrip(\"Test\"))"
      ],
      "metadata": {
        "colab": {
          "base_uri": "https://localhost:8080/"
        },
        "id": "Qyu1qAJJ2lBK",
        "outputId": "6f2aeb87-13c9-49ff-8423-b280b265093e"
      },
      "execution_count": null,
      "outputs": [
        {
          "output_type": "stream",
          "name": "stdout",
          "text": [
            "akeCafe\n"
          ]
        }
      ]
    },
    {
      "cell_type": "code",
      "source": [
        "#sadece Test'i silmesini ne yapmam lazım\n",
        "text = \"TestTakeCafe\"\n",
        "print(text.removeprefix (\"Test\"))"
      ],
      "metadata": {
        "colab": {
          "base_uri": "https://localhost:8080/"
        },
        "id": "eust7WCK2_ir",
        "outputId": "de0adf5e-175a-41d0-a64b-ab1d3783d3a9"
      },
      "execution_count": null,
      "outputs": [
        {
          "output_type": "stream",
          "name": "stdout",
          "text": [
            "TakeCafe\n"
          ]
        }
      ]
    },
    {
      "cell_type": "code",
      "source": [
        "#sadece Cafe'i silmesini ne yapmam lazım\n",
        "text = \"TestTakeCafe\"\n",
        "print(text.rstrip(\"Cafe\"))"
      ],
      "metadata": {
        "colab": {
          "base_uri": "https://localhost:8080/"
        },
        "id": "rJpMH08n3bfG",
        "outputId": "5df623c1-f0ba-4277-93c1-f47ffdae37f1"
      },
      "execution_count": null,
      "outputs": [
        {
          "output_type": "stream",
          "name": "stdout",
          "text": [
            "TestTak\n"
          ]
        }
      ]
    },
    {
      "cell_type": "code",
      "source": [
        "#sadece Cafe'i silmesini ne yapmam lazım\n",
        "text = \"TestTakeCafe\"\n",
        "print(text.removesuffix(\"Cafe\"))"
      ],
      "metadata": {
        "colab": {
          "base_uri": "https://localhost:8080/"
        },
        "id": "vdXvtVpg3RWr",
        "outputId": "97ab829b-74ec-4a85-e7f8-9c9b9286969e"
      },
      "execution_count": null,
      "outputs": [
        {
          "output_type": "stream",
          "name": "stdout",
          "text": [
            "TestTake\n"
          ]
        }
      ]
    },
    {
      "cell_type": "code",
      "source": [
        "#10- Metindeki istenmeyen karakterleri (boşluk ve $ ) temizleyen/kaldıran program\n",
        "text = \" $$ merhaba $$     \"\n",
        "text.strip(\"$ \")"
      ],
      "metadata": {
        "colab": {
          "base_uri": "https://localhost:8080/",
          "height": 35
        },
        "id": "UpdabUg34MbR",
        "outputId": "4d50eb47-054c-49b3-c224-a79194f5687d"
      },
      "execution_count": null,
      "outputs": [
        {
          "output_type": "execute_result",
          "data": {
            "text/plain": [
              "'merhaba'"
            ],
            "application/vnd.google.colaboratory.intrinsic+json": {
              "type": "string"
            }
          },
          "metadata": {},
          "execution_count": 31
        }
      ]
    },
    {
      "cell_type": "code",
      "source": [
        "num = 420_461_980  # 420.461,98\n",
        "print(num)\n",
        "str_num = f\"{num:,}\"\n",
        "print(str_num)\n",
        "print(str_num.replace(\",\", \".\",1).rstrip(\"0\"))"
      ],
      "metadata": {
        "colab": {
          "base_uri": "https://localhost:8080/"
        },
        "id": "clpHekS24rYY",
        "outputId": "d25aa85e-894c-44ad-ed21-45511c9ff860"
      },
      "execution_count": null,
      "outputs": [
        {
          "output_type": "stream",
          "name": "stdout",
          "text": [
            "420461980\n",
            "420,461,980\n",
            "420.461,98\n"
          ]
        }
      ]
    },
    {
      "cell_type": "code",
      "source": [
        "#5- Bir metindeki kelime sayısını bulan program\n",
        "text = \"\"\"\n",
        "Data preprocessing is an important task in text classification. \n",
        "This program counts words in a sentence. \"\"\"\n",
        "print(text.split())                             # cümleyi kelimelere ayrıştırdı ve liste formatında verdi\n",
        "print(\"Kelime sayısı.: \", len(text.split()))    # default olarak boşluk kabul eder"
      ],
      "metadata": {
        "colab": {
          "base_uri": "https://localhost:8080/"
        },
        "id": "3AXHR5Hs6OPP",
        "outputId": "0bce4b63-43e8-4179-c4cb-9366f5a06a4e"
      },
      "execution_count": null,
      "outputs": [
        {
          "output_type": "stream",
          "name": "stdout",
          "text": [
            "['Data', 'preprocessing', 'is', 'an', 'important', 'task', 'in', 'text', 'classification.', 'This', 'program', 'counts', 'words', 'in', 'a', 'sentence.']\n",
            "Kelime sayısı.:  16\n"
          ]
        }
      ]
    },
    {
      "cell_type": "code",
      "source": [
        "# Bir stringin karakter sayısını/uzunluğunu öğrenmek için len() kullanılır\n",
        "len(\"ali\")"
      ],
      "metadata": {
        "colab": {
          "base_uri": "https://localhost:8080/"
        },
        "id": "3IaBuva1608r",
        "outputId": "1106e0aa-a000-4a8c-e50b-92016fbecd34"
      },
      "execution_count": null,
      "outputs": [
        {
          "output_type": "execute_result",
          "data": {
            "text/plain": [
              "3"
            ]
          },
          "metadata": {},
          "execution_count": 44
        }
      ]
    },
    {
      "cell_type": "code",
      "source": [
        "#split(): stringi belli bir karaktere göre ayrıştırarak listeye dönüştürür\n",
        "\"1,2,3,4,5,6\".split(',')"
      ],
      "metadata": {
        "colab": {
          "base_uri": "https://localhost:8080/"
        },
        "id": "U-F_z3MQ6vnC",
        "outputId": "b144c86a-c0dc-47cf-ec1a-b925565eebc0"
      },
      "execution_count": null,
      "outputs": [
        {
          "output_type": "execute_result",
          "data": {
            "text/plain": [
              "['1', '2', '3', '4', '5', '6']"
            ]
          },
          "metadata": {},
          "execution_count": 43
        }
      ]
    },
    {
      "cell_type": "code",
      "source": [
        "#sadece 1 kararter ayrıştır\n",
        "\"1,2,3,4,5,6\".split(',', maxsplit=1) # ['1', '2,3,4,5,6']"
      ],
      "metadata": {
        "colab": {
          "base_uri": "https://localhost:8080/"
        },
        "id": "81ZNl1UQ-B1a",
        "outputId": "430f255a-3635-437b-ba53-9063ea936112"
      },
      "execution_count": null,
      "outputs": [
        {
          "output_type": "execute_result",
          "data": {
            "text/plain": [
              "['1', '2,3,4,5,6']"
            ]
          },
          "metadata": {},
          "execution_count": 46
        }
      ]
    },
    {
      "cell_type": "code",
      "source": [
        "# Bir metindeki cümle sayısını nasıl buluruz?\n",
        "rumi = \"\"\"Susmak, bilgelik meyvesinin tadına varmaktır.\n",
        "Konuşmak ise, onu çürütmektir. \n",
        "Sevgi, seni sevmeyenler için bile yararlıdır.\n",
        "Ne kadar nefret edersen et, nefretin gücüne yenilirsin.\n",
        "Hoşgörü, insanın düşmanlarını bile dost edinmesine sebep olabilir.\"\"\"\n",
        "print(rumi.splitlines())  #satırlarına göre ayırır.\n",
        "print(\"Cümle sayısı..: \", len(rumi.splitlines()))"
      ],
      "metadata": {
        "colab": {
          "base_uri": "https://localhost:8080/"
        },
        "id": "MKcWNdtl-cHE",
        "outputId": "4bdb3e34-5303-4f36-e8bd-3def6ebedbc3"
      },
      "execution_count": null,
      "outputs": [
        {
          "output_type": "stream",
          "name": "stdout",
          "text": [
            "['Susmak, bilgelik meyvesinin tadına varmaktır.', 'Konuşmak ise, onu çürütmektir. ', 'Sevgi, seni sevmeyenler için bile yararlıdır.', 'Ne kadar nefret edersen et, nefretin gücüne yenilirsin.', 'Hoşgörü, insanın düşmanlarını bile dost edinmesine sebep olabilir.']\n",
            "Cümle sayısı..:  5\n"
          ]
        }
      ]
    },
    {
      "cell_type": "code",
      "source": [
        "# Bir metindeki cümle sayısını nasıl buluruz?\n",
        "rumi = \"\"\"Susmak, bilgelik meyvesinin tadına varmaktır.\n",
        "Konuşmak ise, onu çürütmektir. Sevgi, seni sevmeyenler için bile yararlıdır.\n",
        "Ne kadar nefret edersen et, nefretin gücüne yenilirsin. Hoşgörü, insanın düşmanlarını bile dost edinmesine sebep olabilir.\"\"\"\n",
        "print(rumi.split('.'))                             # metni cümlelere ayrıştırdı ve liste formatında verdi\n",
        "print(\"Cümle sayısı.: \", len(rumi.split('.'))-1) "
      ],
      "metadata": {
        "colab": {
          "base_uri": "https://localhost:8080/"
        },
        "id": "vRGCGkkM-6bb",
        "outputId": "dfb70efa-9464-4c54-8465-daf2dbfa588a"
      },
      "execution_count": null,
      "outputs": [
        {
          "output_type": "stream",
          "name": "stdout",
          "text": [
            "['Susmak, bilgelik meyvesinin tadına varmaktır', '\\nKonuşmak ise, onu çürütmektir', ' Sevgi, seni sevmeyenler için bile yararlıdır', '\\nNe kadar nefret edersen et, nefretin gücüne yenilirsin', ' Hoşgörü, insanın düşmanlarını bile dost edinmesine sebep olabilir', '']\n",
            "Cümle sayısı.:  5\n"
          ]
        }
      ]
    },
    {
      "cell_type": "code",
      "source": [
        "# listeyi stringe dönüştürmek için : join()\n",
        "liste = [\"Fatih\", \"İstanbulu\", \"1453\", \"yılında\", \"fethetti.\"]\n",
        "print(\"\".join(liste))\n",
        "print(\" \".join(liste))"
      ],
      "metadata": {
        "colab": {
          "base_uri": "https://localhost:8080/"
        },
        "id": "uDaOojXT_jHG",
        "outputId": "58c73f67-e832-4159-9a23-1f24f08056bd"
      },
      "execution_count": null,
      "outputs": [
        {
          "output_type": "stream",
          "name": "stdout",
          "text": [
            "Fatihİstanbulu1453yılındafethetti.\n",
            "Fatih İstanbulu 1453 yılında fethetti.\n"
          ]
        }
      ]
    },
    {
      "cell_type": "code",
      "source": [
        "demet = (\"alternatif\", \"bank\")  # herhangi bir veri yapısını join ile str ye dönüştürebiliriz.\n",
        "text = \"\".join(demet)\n",
        "print(text)"
      ],
      "metadata": {
        "colab": {
          "base_uri": "https://localhost:8080/"
        },
        "id": "eDsve-7uANrb",
        "outputId": "af6a7bc0-c2ad-4b00-bb46-57c804878364"
      },
      "execution_count": null,
      "outputs": [
        {
          "output_type": "stream",
          "name": "stdout",
          "text": [
            "alternatifbank\n"
          ]
        }
      ]
    },
    {
      "cell_type": "code",
      "source": [
        "#count(): kelime/harf sayar\n",
        "\"alternatifbank\".count(\"a\")  # string içerisinde kaç adet 'a' var "
      ],
      "metadata": {
        "colab": {
          "base_uri": "https://localhost:8080/"
        },
        "id": "efrv-VOaAtMV",
        "outputId": "9e3f8556-deb2-46d1-dc91-2bb00e65c8ea"
      },
      "execution_count": null,
      "outputs": [
        {
          "output_type": "execute_result",
          "data": {
            "text/plain": [
              "3"
            ]
          },
          "metadata": {},
          "execution_count": 60
        }
      ]
    },
    {
      "cell_type": "code",
      "source": [
        "#5- Bir metindeki kelime sayısını bulan program\n",
        "text = \"\"\"\n",
        "Data preprocessing is an important task in text classification. \n",
        "This program counts words in a sentence. \"\"\"\n",
        "print(text.split())                             # cümleyi kelimelere ayrıştırdı ve liste formatında verdi\n",
        "print(\"Kelime sayısı.: \", text.count(\" \"))      # count ile boşlukları saydık"
      ],
      "metadata": {
        "colab": {
          "base_uri": "https://localhost:8080/"
        },
        "id": "JxYyjhLWA8l5",
        "outputId": "8f57fa2f-b5a9-40b5-cdc6-8e6b6cd4f837"
      },
      "execution_count": null,
      "outputs": [
        {
          "output_type": "stream",
          "name": "stdout",
          "text": [
            "['Data', 'preprocessing', 'is', 'an', 'important', 'task', 'in', 'text', 'classification.', 'This', 'program', 'counts', 'words', 'in', 'a', 'sentence.']\n",
            "Kelime sayısı.:  16\n"
          ]
        }
      ]
    },
    {
      "cell_type": "code",
      "source": [
        "# Bir stringi ters çevirme: reversed() metodu ile yapılabilir.\n",
        "text = \"alim\"\n",
        "\"\".join(reversed(text))"
      ],
      "metadata": {
        "colab": {
          "base_uri": "https://localhost:8080/",
          "height": 35
        },
        "id": "9xTEit50BUB6",
        "outputId": "90af7e8f-ed7e-43e0-ed0a-eecaf82a1e15"
      },
      "execution_count": null,
      "outputs": [
        {
          "output_type": "execute_result",
          "data": {
            "text/plain": [
              "'mila'"
            ],
            "application/vnd.google.colaboratory.intrinsic+json": {
              "type": "string"
            }
          },
          "metadata": {},
          "execution_count": 62
        }
      ]
    },
    {
      "cell_type": "code",
      "source": [
        "text = \"ey edip adanada pide ye\"\n",
        "\"\".join(reversed(text))"
      ],
      "metadata": {
        "colab": {
          "base_uri": "https://localhost:8080/",
          "height": 35
        },
        "id": "itak8LXlB7wx",
        "outputId": "3c202ed0-c8bd-4ee1-9dff-970f115686d1"
      },
      "execution_count": null,
      "outputs": [
        {
          "output_type": "execute_result",
          "data": {
            "text/plain": [
              "'ey edip adanada pide ye'"
            ],
            "application/vnd.google.colaboratory.intrinsic+json": {
              "type": "string"
            }
          },
          "metadata": {},
          "execution_count": 64
        }
      ]
    },
    {
      "cell_type": "code",
      "source": [
        "# Bir stringi ters çevirme: reversed() metodu ile yapılabilir.\n",
        "text = \"alim\"\n",
        "text[::-1]"
      ],
      "metadata": {
        "colab": {
          "base_uri": "https://localhost:8080/",
          "height": 35
        },
        "id": "zMasUeV8Bksr",
        "outputId": "47c13588-a7ab-4f2a-b42d-9138299aa24e"
      },
      "execution_count": null,
      "outputs": [
        {
          "output_type": "execute_result",
          "data": {
            "text/plain": [
              "'mila'"
            ],
            "application/vnd.google.colaboratory.intrinsic+json": {
              "type": "string"
            }
          },
          "metadata": {},
          "execution_count": 63
        }
      ]
    },
    {
      "cell_type": "code",
      "source": [
        "#14- Girilen bir metnin Palindrom olup olmadığını sorgulayan programı kodlayalım.\n",
        "metin = input(\"Metni gir..: \")\n",
        "ters_metin = \"\".join(reversed(metin))\n",
        "print(metin==ters_metin and \"palindrom\" or \"palindrom değil\")"
      ],
      "metadata": {
        "colab": {
          "base_uri": "https://localhost:8080/"
        },
        "id": "KdWByliJBuan",
        "outputId": "c01bc067-9611-41af-be20-0c7dfd909142"
      },
      "execution_count": null,
      "outputs": [
        {
          "output_type": "stream",
          "name": "stdout",
          "text": [
            "Metni gir..: ey edip adanada pide ye\n",
            "palindrom\n"
          ]
        }
      ]
    },
    {
      "cell_type": "code",
      "source": [
        "#14- Girilen bir metnin Palindrom olup olmadığını sorgulayan programı kodlayalım.\n",
        "metin = input(\"Metni gir..: \")\n",
        "ters_metin = \"\".join(reversed(metin))\n",
        "if metin==ters_metin:\n",
        "    print(\"palindrom\")\n",
        "else:\n",
        "    print(\"palindrom değil\")"
      ],
      "metadata": {
        "colab": {
          "base_uri": "https://localhost:8080/"
        },
        "id": "xnFu5jc0Cch9",
        "outputId": "6a5c5238-f78e-43a9-90f3-0667790a9487"
      },
      "execution_count": null,
      "outputs": [
        {
          "output_type": "stream",
          "name": "stdout",
          "text": [
            "Metni gir..: madam\n",
            "palindrom\n"
          ]
        }
      ]
    },
    {
      "cell_type": "code",
      "source": [
        "\"\"\"\n",
        "str.isidentifier(): Return True if the string is a valid identifier according to the language definition, section Identifiers and keywords.\n",
        "\n",
        "keyword kontrolü yapmaz\n",
        ">>>\n",
        "from keyword import iskeyword\n",
        "\n",
        "'hello'.isidentifier(), iskeyword('hello')\n",
        "(True, False)\n",
        "'def'.isidentifier(), iskeyword('def')\n",
        "(True, True)\n",
        "\"\"\""
      ],
      "metadata": {
        "id": "wPGgSuSDC8JT"
      },
      "execution_count": null,
      "outputs": []
    },
    {
      "cell_type": "code",
      "source": [
        "fatih1453 = \"istanbul\"\n",
        "\"fatih1453\".isidentifier()"
      ],
      "metadata": {
        "colab": {
          "base_uri": "https://localhost:8080/"
        },
        "id": "wMrJr66zDFq0",
        "outputId": "049c467b-5901-4962-e66f-5843b5a72780"
      },
      "execution_count": null,
      "outputs": [
        {
          "output_type": "execute_result",
          "data": {
            "text/plain": [
              "True"
            ]
          },
          "metadata": {},
          "execution_count": 70
        }
      ]
    },
    {
      "cell_type": "code",
      "source": [
        "\"1453fatih\".isidentifier() #bu değişken ismi olmaz"
      ],
      "metadata": {
        "colab": {
          "base_uri": "https://localhost:8080/"
        },
        "id": "5aT8PRlrDP9q",
        "outputId": "778719e6-dcab-4ed3-fd3b-f80875f4e0e2"
      },
      "execution_count": null,
      "outputs": [
        {
          "output_type": "execute_result",
          "data": {
            "text/plain": [
              "False"
            ]
          },
          "metadata": {},
          "execution_count": 71
        }
      ]
    },
    {
      "cell_type": "code",
      "source": [
        "\"not\".isidentifier()  #keywordleri ayırmaz"
      ],
      "metadata": {
        "colab": {
          "base_uri": "https://localhost:8080/"
        },
        "id": "0O9h7A8bDYqb",
        "outputId": "9bb69ab9-c224-4c25-a959-1895333528f6"
      },
      "execution_count": null,
      "outputs": [
        {
          "output_type": "execute_result",
          "data": {
            "text/plain": [
              "True"
            ]
          },
          "metadata": {},
          "execution_count": 72
        }
      ]
    },
    {
      "cell_type": "code",
      "source": [
        "from keyword import iskeyword\n",
        "# bir stringin keyword olup olmadığını iskeyword ile test edebiliriz.\n",
        "print('hello'.isidentifier(), iskeyword('hello'))\n",
        "#(True, False)\n",
        "print('not'.isidentifier(), iskeyword('not'))\n",
        "#(True, True)"
      ],
      "metadata": {
        "colab": {
          "base_uri": "https://localhost:8080/"
        },
        "id": "nGs9MFgiDfsY",
        "outputId": "920863ec-1501-42a9-f8e8-8c47f6350db0"
      },
      "execution_count": null,
      "outputs": [
        {
          "output_type": "stream",
          "name": "stdout",
          "text": [
            "True False\n",
            "True True\n"
          ]
        }
      ]
    },
    {
      "cell_type": "code",
      "source": [
        "mesaj = \"+Python Dersi! kolay mı yoksa zor mu? [😧|😅]\"\n",
        "mesaj.strip(\"+[😧|😅]\")"
      ],
      "metadata": {
        "colab": {
          "base_uri": "https://localhost:8080/",
          "height": 35
        },
        "id": "8ndF18suEV4I",
        "outputId": "fcb375b8-6d20-4de5-b014-981574003567"
      },
      "execution_count": null,
      "outputs": [
        {
          "output_type": "execute_result",
          "data": {
            "text/plain": [
              "'Python Dersi! kolay mı yoksa zor mu? '"
            ],
            "application/vnd.google.colaboratory.intrinsic+json": {
              "type": "string"
            }
          },
          "metadata": {},
          "execution_count": 74
        }
      ]
    },
    {
      "cell_type": "code",
      "source": [
        "mesaj = \"+Python Dersi! kolay mı yoksa zor mu? [😧|😅]\"\n",
        "mesaj.replace(\"+\",\"\").replace(\"[😧|😅]\",\"\")"
      ],
      "metadata": {
        "colab": {
          "base_uri": "https://localhost:8080/",
          "height": 35
        },
        "id": "__NTHzicEhhY",
        "outputId": "b4c96af7-a3b4-4044-c16a-46f3c47fd786"
      },
      "execution_count": null,
      "outputs": [
        {
          "output_type": "execute_result",
          "data": {
            "text/plain": [
              "'Python Dersi! kolay mı yoksa zor mu? '"
            ],
            "application/vnd.google.colaboratory.intrinsic+json": {
              "type": "string"
            }
          },
          "metadata": {},
          "execution_count": 75
        }
      ]
    },
    {
      "cell_type": "markdown",
      "source": [
        "Task-Home: En az bir adet küçük karakter, bir adet büyük karakter, bir adet özel karakter ve bir adet rakam içeren bir parola oluşturucu programı kodlayınız."
      ],
      "metadata": {
        "id": "4M1DnxGHFccC"
      }
    },
    {
      "cell_type": "code",
      "source": [
        "bool(0.0)"
      ],
      "metadata": {
        "id": "rUmYakvTFde7",
        "colab": {
          "base_uri": "https://localhost:8080/"
        },
        "outputId": "1734f9a1-5084-4a29-b26c-ce994abebfe0"
      },
      "execution_count": null,
      "outputs": [
        {
          "output_type": "execute_result",
          "data": {
            "text/plain": [
              "False"
            ]
          },
          "metadata": {},
          "execution_count": 76
        }
      ]
    },
    {
      "cell_type": "code",
      "source": [
        "bool(0.1)"
      ],
      "metadata": {
        "colab": {
          "base_uri": "https://localhost:8080/"
        },
        "id": "4wFRJCnzKRg8",
        "outputId": "0b572959-a380-442e-f680-10cfec5a8898"
      },
      "execution_count": null,
      "outputs": [
        {
          "output_type": "execute_result",
          "data": {
            "text/plain": [
              "True"
            ]
          },
          "metadata": {},
          "execution_count": 77
        }
      ]
    },
    {
      "cell_type": "code",
      "source": [
        "text = \"milletim\"\n",
        "text.strip(\"mit\")"
      ],
      "metadata": {
        "colab": {
          "base_uri": "https://localhost:8080/",
          "height": 35
        },
        "id": "6ExF5a6sLSTS",
        "outputId": "b7b36835-f195-4fcc-ff48-c18b4af1cf63"
      },
      "execution_count": null,
      "outputs": [
        {
          "output_type": "execute_result",
          "data": {
            "text/plain": [
              "'lle'"
            ],
            "application/vnd.google.colaboratory.intrinsic+json": {
              "type": "string"
            }
          },
          "metadata": {},
          "execution_count": 78
        }
      ]
    },
    {
      "cell_type": "code",
      "source": [
        "# verilen sayının tek mi çift mi olduğunu bulan program\n",
        "num = 54\n",
        "print((num%2==0) and \"Çift\" or \"Tek\")"
      ],
      "metadata": {
        "colab": {
          "base_uri": "https://localhost:8080/"
        },
        "id": "gKfYL76ILyz8",
        "outputId": "cd4213e0-7474-4ba6-a356-2acf4ec3ff6f"
      },
      "execution_count": null,
      "outputs": [
        {
          "output_type": "stream",
          "name": "stdout",
          "text": [
            "Çift\n"
          ]
        }
      ]
    },
    {
      "cell_type": "code",
      "source": [
        "# Girilen sayı sıfır, negatif, pozitif mi?\n",
        "num = int(input(\"Sayı..: \"))\n",
        "if num>0:\n",
        "    print(num, \"pozitif\")\n",
        "\n",
        "if num<0:\n",
        "    print(num, \"negatif\")\n",
        "\n",
        "if num==0:\n",
        "    print(num, \"sıfır\")"
      ],
      "metadata": {
        "colab": {
          "base_uri": "https://localhost:8080/"
        },
        "id": "Kj1N3grcP1rF",
        "outputId": "f7437cd8-c545-44e8-8f35-be7867a6da2d"
      },
      "execution_count": null,
      "outputs": [
        {
          "output_type": "stream",
          "name": "stdout",
          "text": [
            "Sayı..: 0\n",
            "0 sıfır\n"
          ]
        }
      ]
    },
    {
      "cell_type": "code",
      "source": [
        "# Girilen sayı sıfır, negatif, pozitif mi?\n",
        "num = int(input(\"Sayı..: \"))\n",
        "if num>0:\n",
        "    print(num, \"pozitif\")\n",
        "\n",
        "if num<0:\n",
        "    print(num, \"negatif\")\n",
        "else:\n",
        "    print(num, \"sıfır\")"
      ],
      "metadata": {
        "colab": {
          "base_uri": "https://localhost:8080/"
        },
        "id": "hj73MNrkQtMZ",
        "outputId": "139ffc16-69cd-4b3e-c1c3-9931e74d1b5b"
      },
      "execution_count": null,
      "outputs": [
        {
          "output_type": "stream",
          "name": "stdout",
          "text": [
            "Sayı..: 0\n",
            "0 sıfır\n"
          ]
        }
      ]
    },
    {
      "cell_type": "code",
      "source": [
        "basari_notu = 56\n",
        "if basari_notu >=50:\n",
        "    print(\"geçti\")\n",
        "else:\n",
        "    print(\"kaldı\")"
      ],
      "metadata": {
        "colab": {
          "base_uri": "https://localhost:8080/"
        },
        "id": "LNFyNvIMQ2pW",
        "outputId": "4e5faeb9-aac8-43fb-d3a6-5149bdd94412"
      },
      "execution_count": null,
      "outputs": [
        {
          "output_type": "stream",
          "name": "stdout",
          "text": [
            "geçti\n"
          ]
        }
      ]
    },
    {
      "cell_type": "code",
      "source": [
        "basari_notu = 34\n",
        "print(\"geçti\") if basari_notu >=50 else print(\"kaldı\")  "
      ],
      "metadata": {
        "colab": {
          "base_uri": "https://localhost:8080/"
        },
        "id": "J_0-maH2RICU",
        "outputId": "f5252cc0-85ec-4e09-a686-a7dfe6ce9f16"
      },
      "execution_count": null,
      "outputs": [
        {
          "output_type": "stream",
          "name": "stdout",
          "text": [
            "kaldı\n"
          ]
        }
      ]
    },
    {
      "cell_type": "code",
      "source": [
        "basari_notu = 23\n",
        "print(basari_notu >=50 and \"geçti\" or \"kaldı\")  "
      ],
      "metadata": {
        "colab": {
          "base_uri": "https://localhost:8080/"
        },
        "id": "NVc8JdW9RRhB",
        "outputId": "a6254fde-6a8c-4c1d-b2d9-7cf8f673b279"
      },
      "execution_count": null,
      "outputs": [
        {
          "output_type": "stream",
          "name": "stdout",
          "text": [
            "kaldı\n"
          ]
        }
      ]
    },
    {
      "cell_type": "code",
      "source": [
        "dosya = \"dosyam.pys\"\n",
        "if dosya.endswith(\".py\") or dosya.endswith(\".ipynb\"):    # dosya.endswith(\".py\")==True:  #PEP-8 önerisi\n",
        "    print (\"Evet\")\n",
        "else:\n",
        "    print(\"Hayır\")"
      ],
      "metadata": {
        "colab": {
          "base_uri": "https://localhost:8080/"
        },
        "id": "2ip0F9qPS3dI",
        "outputId": "f4c0b9ec-14d6-4103-c7f0-1cfe326afd05"
      },
      "execution_count": null,
      "outputs": [
        {
          "output_type": "stream",
          "name": "stdout",
          "text": [
            "Hayır\n"
          ]
        }
      ]
    },
    {
      "cell_type": "code",
      "source": [
        "FILE ='dosyam.pys'\n",
        "print(\"python dosyasıdır\") if FILE.endswith(\".py\") else print(\"python dosyası değildir\")"
      ],
      "metadata": {
        "colab": {
          "base_uri": "https://localhost:8080/"
        },
        "id": "GQwjBK5ATJEy",
        "outputId": "0a63a968-142b-40da-a2c5-7e899b0ca7d8"
      },
      "execution_count": null,
      "outputs": [
        {
          "output_type": "stream",
          "name": "stdout",
          "text": [
            "python dosyası değildir\n"
          ]
        }
      ]
    },
    {
      "cell_type": "code",
      "source": [
        "FILE = input(\"dosyam.py\")\n",
        "print(FILE.endswith(\".py\") and \"Python dosyası\" or \"değil\")"
      ],
      "metadata": {
        "colab": {
          "base_uri": "https://localhost:8080/"
        },
        "id": "O16UPRMATR5c",
        "outputId": "9aac3756-b9a2-483f-92bd-f35c63358646"
      },
      "execution_count": null,
      "outputs": [
        {
          "output_type": "stream",
          "name": "stdout",
          "text": [
            "dosyam.pydosya.py\n",
            "Python dosyası\n"
          ]
        }
      ]
    },
    {
      "cell_type": "code",
      "source": [
        "\"\"\"\n",
        "0 - 6 arası: Ücretsiz\n",
        "7 – 12 arası: %50\n",
        "13 – 26 arası: %20\n",
        "27 - 59: %0 (indirim yok)\n",
        "60 – 64: %20\n",
        "65 ve üzeri: %50\n",
        "\"\"\""
      ],
      "metadata": {
        "id": "b0wEiECSXKMj"
      },
      "execution_count": null,
      "outputs": []
    },
    {
      "cell_type": "code",
      "source": [
        "#tcdd indirimli bilet fiyatı\n",
        "yas = int(input(\"Yaş giriniz:\"))\n",
        "if (yas<=6 and yas>=0):\n",
        "  print(\"Ücretsiz\")\n",
        "elif (yas>6 and yas<=12) or (yas>=65):\n",
        "  print (\"%50 indirim\")\n",
        "elif (yas>12 and yas<=26) or (yas>=60 and yas<=64):\n",
        "  print (\"%20 indirim\")\n",
        "else:\n",
        "  print (\"indirim yok\")"
      ],
      "metadata": {
        "colab": {
          "base_uri": "https://localhost:8080/"
        },
        "id": "Dk3JOtzfWjWI",
        "outputId": "5276b0cd-aaa7-4423-9ca1-01d382a58e61"
      },
      "execution_count": null,
      "outputs": [
        {
          "output_type": "stream",
          "name": "stdout",
          "text": [
            "Yaş giriniz:60\n",
            "%20 indirim\n"
          ]
        }
      ]
    },
    {
      "cell_type": "code",
      "source": [
        "#tcdd indirimli bilet fiyatı\n",
        "yas = int(input(\"Yaş giriniz:\"))\n",
        "if (0<=yas<=6):\n",
        "  print(\"Ücretsiz\")\n",
        "elif (6<yas<=12) or (yas>=65):\n",
        "  print (\"%50 indirim\")\n",
        "elif (12<yas<=26) or (60<=yas<=64):\n",
        "  print (\"%20 indirim\")\n",
        "else:\n",
        "  print (\"indirim yok\")"
      ],
      "metadata": {
        "colab": {
          "base_uri": "https://localhost:8080/"
        },
        "id": "nuWx0eWFXXD6",
        "outputId": "4e28cd18-d9ca-4dcc-b8aa-388d7636c5cc"
      },
      "execution_count": null,
      "outputs": [
        {
          "output_type": "stream",
          "name": "stdout",
          "text": [
            "Yaş giriniz:63\n",
            "%20 indirim\n"
          ]
        }
      ]
    },
    {
      "cell_type": "code",
      "source": [
        "# Döngüler: tekrarlı işlemler için\n",
        "k = 65  #döngü değişkeni\n",
        "while (k<=90):\n",
        "    print(chr(k), end=\" \")\n",
        "    k = k + 1  # k+=1"
      ],
      "metadata": {
        "colab": {
          "base_uri": "https://localhost:8080/"
        },
        "id": "GUAUj9dPZY2k",
        "outputId": "2af1d355-0268-4c63-ea1b-57885ee465bf"
      },
      "execution_count": null,
      "outputs": [
        {
          "output_type": "stream",
          "name": "stdout",
          "text": [
            "A B C D E F G H I J K L M N O P Q R S T U V W X Y Z "
          ]
        }
      ]
    },
    {
      "cell_type": "code",
      "source": [
        "#trafik sinyali modelleme\n",
        "while True:\n",
        "    sensor = input(\"Trafik ışığını gir/oku ['K', 'Y', 'S']\").lower()\n",
        "    if sensor=='k':\n",
        "        print(\"Bekle\")\n",
        "    elif sensor==\"s\":\n",
        "        print(\"Yavaşla\")\n",
        "    elif sensor==\"y\":\n",
        "        print(\"Geç\")\n",
        "        break       #döngüyü sonlandırır\n",
        "    else:\n",
        "        print(\"lütfen K veya Y veya S gir \") "
      ],
      "metadata": {
        "colab": {
          "base_uri": "https://localhost:8080/"
        },
        "id": "TvRCSnR1acjv",
        "outputId": "1da20f1b-77a0-4d53-c593-f88bfe20fe0b"
      },
      "execution_count": null,
      "outputs": [
        {
          "output_type": "stream",
          "name": "stdout",
          "text": [
            "Trafik ışığını gir/oku ['K', 'Y', 'S']k\n",
            "Bekle\n",
            "Trafik ışığını gir/oku ['K', 'Y', 'S']s\n",
            "Yavaşla\n",
            "Trafik ışığını gir/oku ['K', 'Y', 'S']y\n",
            "Geç\n"
          ]
        }
      ]
    },
    {
      "cell_type": "code",
      "source": [
        "#for: tekrar sayısının baştan belli olduğu durumlarda\n",
        "for i in \"python\":\n",
        "    print(i)"
      ],
      "metadata": {
        "colab": {
          "base_uri": "https://localhost:8080/"
        },
        "id": "oknqNYQ9b48F",
        "outputId": "6eeafb47-3acd-4d9b-c9aa-82b177b65096"
      },
      "execution_count": null,
      "outputs": [
        {
          "output_type": "stream",
          "name": "stdout",
          "text": [
            "p\n",
            "y\n",
            "t\n",
            "h\n",
            "o\n",
            "n\n"
          ]
        }
      ]
    },
    {
      "cell_type": "code",
      "source": [
        "for i in ['p','y','t','h','o','n']:\n",
        "    print(i)"
      ],
      "metadata": {
        "colab": {
          "base_uri": "https://localhost:8080/"
        },
        "id": "7LWiC57kcEl9",
        "outputId": "1a509e66-970d-471a-91a5-b023dae6967c"
      },
      "execution_count": null,
      "outputs": [
        {
          "output_type": "stream",
          "name": "stdout",
          "text": [
            "p\n",
            "y\n",
            "t\n",
            "h\n",
            "o\n",
            "n\n"
          ]
        }
      ]
    },
    {
      "cell_type": "code",
      "source": [
        "#text = \"Merhaba 2023\"\n",
        "liste1 = list(\"Merhaba 2023\")\n",
        "print(liste1)\n",
        "print(len(liste1))\n",
        "print(type(liste1))\n",
        "\n",
        "liste2 = [\"Merhaba 2023\"]\n",
        "print(liste2)\n",
        "print(len(liste2))\n",
        "print(type(liste2))"
      ],
      "metadata": {
        "colab": {
          "base_uri": "https://localhost:8080/"
        },
        "id": "Ci2-DFKKdDVV",
        "outputId": "5bb39c7c-18ed-447f-e2f5-db1dcb2e048f"
      },
      "execution_count": null,
      "outputs": [
        {
          "output_type": "stream",
          "name": "stdout",
          "text": [
            "['M', 'e', 'r', 'h', 'a', 'b', 'a', ' ', '2', '0', '2', '3']\n",
            "12\n",
            "<class 'list'>\n",
            "['Merhaba 2023']\n",
            "1\n",
            "<class 'list'>\n"
          ]
        }
      ]
    },
    {
      "cell_type": "code",
      "source": [
        "# sayı dizisi oluşturma: range()\n",
        "range(5)"
      ],
      "metadata": {
        "colab": {
          "base_uri": "https://localhost:8080/"
        },
        "id": "V1lxawLqdx8B",
        "outputId": "5509f537-5757-4fa6-fabf-e89695868057"
      },
      "execution_count": null,
      "outputs": [
        {
          "output_type": "execute_result",
          "data": {
            "text/plain": [
              "range(0, 5)"
            ]
          },
          "metadata": {},
          "execution_count": 9
        }
      ]
    },
    {
      "cell_type": "code",
      "source": [
        "# sayı dizisi oluşturma: range(start, stop-1, step)\n",
        "list(range(5))"
      ],
      "metadata": {
        "colab": {
          "base_uri": "https://localhost:8080/"
        },
        "id": "NP4SCDJdd4Q5",
        "outputId": "1ceb8071-feed-46c3-afb8-63660917503b"
      },
      "execution_count": null,
      "outputs": [
        {
          "output_type": "execute_result",
          "data": {
            "text/plain": [
              "[0, 1, 2, 3, 4]"
            ]
          },
          "metadata": {},
          "execution_count": 10
        }
      ]
    },
    {
      "cell_type": "code",
      "source": [
        "# sayı dizisi oluşturma: range(start, stop-1, step)\n",
        "list(range(1, 15, 2))"
      ],
      "metadata": {
        "colab": {
          "base_uri": "https://localhost:8080/"
        },
        "id": "Nn50PTfueBf2",
        "outputId": "0f941a06-3b11-4e84-bac3-301fb91c3fb7"
      },
      "execution_count": null,
      "outputs": [
        {
          "output_type": "execute_result",
          "data": {
            "text/plain": [
              "[1, 3, 5, 7, 9, 11, 13]"
            ]
          },
          "metadata": {},
          "execution_count": 13
        }
      ]
    },
    {
      "cell_type": "code",
      "source": [
        "ad = input(\"Ad..: \")\n",
        "for i in ad:\n",
        "    print(i)"
      ],
      "metadata": {
        "colab": {
          "base_uri": "https://localhost:8080/"
        },
        "id": "BP_SP-tmeVfJ",
        "outputId": "91be47ff-1917-4179-e431-792c81d0ca61"
      },
      "execution_count": null,
      "outputs": [
        {
          "output_type": "stream",
          "name": "stdout",
          "text": [
            "Ad..: ali\n",
            "a\n",
            "l\n",
            "i\n"
          ]
        }
      ]
    },
    {
      "cell_type": "code",
      "source": [
        "ad = input(\"Ad..: \")\n",
        "for i in range(5):\n",
        "    print(ad)"
      ],
      "metadata": {
        "colab": {
          "base_uri": "https://localhost:8080/"
        },
        "id": "3qAgyB2behrj",
        "outputId": "e1f311fa-c3a1-469e-b3f9-e1254844a849"
      },
      "execution_count": null,
      "outputs": [
        {
          "output_type": "stream",
          "name": "stdout",
          "text": [
            "Ad..: ali\n",
            "ali\n",
            "ali\n",
            "ali\n",
            "ali\n",
            "ali\n"
          ]
        }
      ]
    },
    {
      "cell_type": "code",
      "source": [
        "ad = input(\"Ad..: \")\n",
        "for i in [0,1,2,3,4]:\n",
        "    print(ad)"
      ],
      "metadata": {
        "colab": {
          "base_uri": "https://localhost:8080/"
        },
        "id": "tQzf4tb-eqc1",
        "outputId": "fb3b82a7-8aff-4f77-e029-f3ac42455f3f"
      },
      "execution_count": null,
      "outputs": [
        {
          "output_type": "stream",
          "name": "stdout",
          "text": [
            "Ad..: ali\n",
            "ali\n",
            "ali\n",
            "ali\n",
            "ali\n",
            "ali\n"
          ]
        }
      ]
    },
    {
      "cell_type": "code",
      "source": [
        "!pip install ColabTurtle"
      ],
      "metadata": {
        "colab": {
          "base_uri": "https://localhost:8080/"
        },
        "id": "L_9IA1CcfT14",
        "outputId": "a742898f-f5db-4f3b-8c23-7854195490a5"
      },
      "execution_count": null,
      "outputs": [
        {
          "output_type": "stream",
          "name": "stdout",
          "text": [
            "Looking in indexes: https://pypi.org/simple, https://us-python.pkg.dev/colab-wheels/public/simple/\n",
            "Collecting ColabTurtle\n",
            "  Downloading ColabTurtle-2.1.0.tar.gz (6.8 kB)\n",
            "  Preparing metadata (setup.py) ... \u001b[?25l\u001b[?25hdone\n",
            "Building wheels for collected packages: ColabTurtle\n",
            "  Building wheel for ColabTurtle (setup.py) ... \u001b[?25l\u001b[?25hdone\n",
            "  Created wheel for ColabTurtle: filename=ColabTurtle-2.1.0-py3-none-any.whl size=7642 sha256=5705e99ee365c351d6c288d2ad8012480f8d21adf491ab9d2ea0ec209f35ab3a\n",
            "  Stored in directory: /root/.cache/pip/wheels/5b/86/e8/54f5c8c853606e3a3060bb2e60363cbed632374a12e0f33ffc\n",
            "Successfully built ColabTurtle\n",
            "Installing collected packages: ColabTurtle\n",
            "Successfully installed ColabTurtle-2.1.0\n"
          ]
        }
      ]
    },
    {
      "cell_type": "code",
      "source": [
        "# turtle kare çizen program\n",
        "from ColabTurtle.Turtle import *\n",
        "initializeTurtle()\n",
        "forward(100)\n",
        "right(90)\n",
        "forward(100)\n",
        "right(90)\n",
        "forward(100)\n",
        "right(90)\n",
        "forward(100)\n",
        "right(90)\n"
      ],
      "metadata": {
        "colab": {
          "base_uri": "https://localhost:8080/",
          "height": 521
        },
        "id": "HZIfAuyZe9im",
        "outputId": "fd743458-2a9d-471c-b196-9636d0eafe8e"
      },
      "execution_count": null,
      "outputs": [
        {
          "output_type": "display_data",
          "data": {
            "text/plain": [
              "<IPython.core.display.HTML object>"
            ],
            "text/html": [
              "\n",
              "      <svg width=\"800\" height=\"500\">\n",
              "        <rect width=\"100%\" height=\"100%\" fill=\"black\"/>\n",
              "        <line x1=\"400\" y1=\"250\" x2=\"400.0\" y2=\"150.0\" stroke-linecap=\"round\" style=\"stroke:white;stroke-width:4\"/><line x1=\"400.0\" y1=\"150.0\" x2=\"500.0\" y2=\"150.0\" stroke-linecap=\"round\" style=\"stroke:white;stroke-width:4\"/><line x1=\"500.0\" y1=\"150.0\" x2=\"500.0\" y2=\"250.0\" stroke-linecap=\"round\" style=\"stroke:white;stroke-width:4\"/><line x1=\"500.0\" y1=\"250.0\" x2=\"400.0\" y2=\"250.0\" stroke-linecap=\"round\" style=\"stroke:white;stroke-width:4\"/>\n",
              "        <g visibility=visible transform=\"rotate(360,400.0,250.0) translate(382.0, 232.0)\">\n",
              "<path style=\" stroke:none;fill-rule:evenodd;fill:white;fill-opacity:1;\" d=\"M 18.214844 0.632812 C 16.109375 1.800781 15.011719 4.074219 15.074219 7.132812 L 15.085938 7.652344 L 14.785156 7.496094 C 13.476562 6.824219 11.957031 6.671875 10.40625 7.066406 C 8.46875 7.550781 6.515625 9.15625 4.394531 11.992188 C 3.0625 13.777344 2.679688 14.636719 3.042969 15.027344 L 3.15625 15.152344 L 3.519531 15.152344 C 4.238281 15.152344 4.828125 14.886719 8.1875 13.039062 C 9.386719 12.378906 10.371094 11.839844 10.378906 11.839844 C 10.386719 11.839844 10.355469 11.929688 10.304688 12.035156 C 9.832031 13.09375 9.257812 14.820312 8.96875 16.078125 C 7.914062 20.652344 8.617188 24.53125 11.070312 27.660156 C 11.351562 28.015625 11.363281 27.914062 10.972656 28.382812 C 8.925781 30.84375 7.945312 33.28125 8.238281 35.1875 C 8.289062 35.527344 8.28125 35.523438 8.917969 35.523438 C 10.941406 35.523438 13.074219 34.207031 15.136719 31.6875 C 15.359375 31.417969 15.328125 31.425781 15.5625 31.574219 C 16.292969 32.042969 18.023438 32.964844 18.175781 32.964844 C 18.335938 32.964844 19.941406 32.210938 20.828125 31.71875 C 20.996094 31.625 21.136719 31.554688 21.136719 31.558594 C 21.203125 31.664062 21.898438 32.414062 22.222656 32.730469 C 23.835938 34.300781 25.5625 35.132812 27.582031 35.300781 C 27.90625 35.328125 27.9375 35.308594 28.007812 34.984375 C 28.382812 33.242188 27.625 30.925781 25.863281 28.425781 L 25.542969 27.96875 L 25.699219 27.785156 C 28.945312 23.960938 29.132812 18.699219 26.257812 11.96875 L 26.207031 11.84375 L 27.945312 12.703125 C 31.53125 14.476562 32.316406 14.800781 33.03125 14.800781 C 33.976562 14.800781 33.78125 13.9375 32.472656 12.292969 C 28.519531 7.355469 25.394531 5.925781 21.921875 7.472656 L 21.558594 7.636719 L 21.578125 7.542969 C 21.699219 6.992188 21.761719 5.742188 21.699219 5.164062 C 21.496094 3.296875 20.664062 1.964844 19.003906 0.855469 C 18.480469 0.503906 18.457031 0.5 18.214844 0.632812\"/>\n",
              "</g>\n",
              "      </svg>\n",
              "    "
            ]
          },
          "metadata": {}
        }
      ]
    },
    {
      "cell_type": "code",
      "source": [
        "# turtle kare çizen program\n",
        "from ColabTurtle.Turtle import *\n",
        "initializeTurtle()\n",
        "for i in range(4):\n",
        "    forward(100)\n",
        "    right(90)"
      ],
      "metadata": {
        "colab": {
          "base_uri": "https://localhost:8080/",
          "height": 521
        },
        "id": "9wmnhocXfkzg",
        "outputId": "37f81e1c-c8ab-4a94-85e8-c1b65f835310"
      },
      "execution_count": null,
      "outputs": [
        {
          "output_type": "display_data",
          "data": {
            "text/plain": [
              "<IPython.core.display.HTML object>"
            ],
            "text/html": [
              "\n",
              "      <svg width=\"800\" height=\"500\">\n",
              "        <rect width=\"100%\" height=\"100%\" fill=\"black\"/>\n",
              "        <line x1=\"400\" y1=\"250\" x2=\"400.0\" y2=\"150.0\" stroke-linecap=\"round\" style=\"stroke:white;stroke-width:4\"/><line x1=\"400.0\" y1=\"150.0\" x2=\"500.0\" y2=\"150.0\" stroke-linecap=\"round\" style=\"stroke:white;stroke-width:4\"/><line x1=\"500.0\" y1=\"150.0\" x2=\"500.0\" y2=\"250.0\" stroke-linecap=\"round\" style=\"stroke:white;stroke-width:4\"/><line x1=\"500.0\" y1=\"250.0\" x2=\"400.0\" y2=\"250.0\" stroke-linecap=\"round\" style=\"stroke:white;stroke-width:4\"/>\n",
              "        <g visibility=visible transform=\"rotate(360,400.0,250.0) translate(382.0, 232.0)\">\n",
              "<path style=\" stroke:none;fill-rule:evenodd;fill:white;fill-opacity:1;\" d=\"M 18.214844 0.632812 C 16.109375 1.800781 15.011719 4.074219 15.074219 7.132812 L 15.085938 7.652344 L 14.785156 7.496094 C 13.476562 6.824219 11.957031 6.671875 10.40625 7.066406 C 8.46875 7.550781 6.515625 9.15625 4.394531 11.992188 C 3.0625 13.777344 2.679688 14.636719 3.042969 15.027344 L 3.15625 15.152344 L 3.519531 15.152344 C 4.238281 15.152344 4.828125 14.886719 8.1875 13.039062 C 9.386719 12.378906 10.371094 11.839844 10.378906 11.839844 C 10.386719 11.839844 10.355469 11.929688 10.304688 12.035156 C 9.832031 13.09375 9.257812 14.820312 8.96875 16.078125 C 7.914062 20.652344 8.617188 24.53125 11.070312 27.660156 C 11.351562 28.015625 11.363281 27.914062 10.972656 28.382812 C 8.925781 30.84375 7.945312 33.28125 8.238281 35.1875 C 8.289062 35.527344 8.28125 35.523438 8.917969 35.523438 C 10.941406 35.523438 13.074219 34.207031 15.136719 31.6875 C 15.359375 31.417969 15.328125 31.425781 15.5625 31.574219 C 16.292969 32.042969 18.023438 32.964844 18.175781 32.964844 C 18.335938 32.964844 19.941406 32.210938 20.828125 31.71875 C 20.996094 31.625 21.136719 31.554688 21.136719 31.558594 C 21.203125 31.664062 21.898438 32.414062 22.222656 32.730469 C 23.835938 34.300781 25.5625 35.132812 27.582031 35.300781 C 27.90625 35.328125 27.9375 35.308594 28.007812 34.984375 C 28.382812 33.242188 27.625 30.925781 25.863281 28.425781 L 25.542969 27.96875 L 25.699219 27.785156 C 28.945312 23.960938 29.132812 18.699219 26.257812 11.96875 L 26.207031 11.84375 L 27.945312 12.703125 C 31.53125 14.476562 32.316406 14.800781 33.03125 14.800781 C 33.976562 14.800781 33.78125 13.9375 32.472656 12.292969 C 28.519531 7.355469 25.394531 5.925781 21.921875 7.472656 L 21.558594 7.636719 L 21.578125 7.542969 C 21.699219 6.992188 21.761719 5.742188 21.699219 5.164062 C 21.496094 3.296875 20.664062 1.964844 19.003906 0.855469 C 18.480469 0.503906 18.457031 0.5 18.214844 0.632812\"/>\n",
              "</g>\n",
              "      </svg>\n",
              "    "
            ]
          },
          "metadata": {}
        }
      ]
    },
    {
      "cell_type": "code",
      "source": [
        "# bu while döngüsünü for ile nasıl gerçekleştirebiliriz? \n",
        "k = 65  #döngü değişkeni\n",
        "while (k<=90):\n",
        "    print(chr(k), end=\" \")\n",
        "    k = k + 1  # k+=1"
      ],
      "metadata": {
        "id": "KGvIb1WKgIRv"
      },
      "execution_count": null,
      "outputs": []
    },
    {
      "cell_type": "code",
      "source": [
        "# döngü değişkeni: k\n",
        "for k in range(65,91):\n",
        "    print(chr(k), end=\" \")"
      ],
      "metadata": {
        "colab": {
          "base_uri": "https://localhost:8080/"
        },
        "id": "Bb7HG42di8RA",
        "outputId": "6634bbd1-6a45-4d9b-9e52-d83786442e13"
      },
      "execution_count": 21,
      "outputs": [
        {
          "output_type": "stream",
          "name": "stdout",
          "text": [
            "A B C D E F G H I J K L M N O P Q R S T U V W X Y Z "
          ]
        }
      ]
    },
    {
      "cell_type": "code",
      "source": [
        "#0-20 arası çift sayıları yazdıralım\n",
        "for i in range(0,21,2):\n",
        "    print(i, end=\" \")"
      ],
      "metadata": {
        "colab": {
          "base_uri": "https://localhost:8080/"
        },
        "id": "sgKRMM7_jNR9",
        "outputId": "414df596-ab6c-4ddd-ab10-1d02e3584cc5"
      },
      "execution_count": 23,
      "outputs": [
        {
          "output_type": "stream",
          "name": "stdout",
          "text": [
            "0 2 4 6 8 10 12 14 16 18 20 "
          ]
        }
      ]
    },
    {
      "cell_type": "code",
      "source": [
        "# break kullanımı\n",
        "for i in range(0,21,2):\n",
        "    if i==12:\n",
        "        break\n",
        "    print(i, end=\" \")"
      ],
      "metadata": {
        "colab": {
          "base_uri": "https://localhost:8080/"
        },
        "id": "mkoDx0joj1_1",
        "outputId": "14ba2aa7-8314-464b-f45c-02a2ae164832"
      },
      "execution_count": 24,
      "outputs": [
        {
          "output_type": "stream",
          "name": "stdout",
          "text": [
            "0 2 4 6 8 10 "
          ]
        }
      ]
    },
    {
      "cell_type": "code",
      "source": [
        "# continue kullanımı\n",
        "for i in range(0,21,2):\n",
        "    if i==12:\n",
        "        continue  #gözardı et, döngüye devam et\n",
        "    print(i, end=\" \")"
      ],
      "metadata": {
        "colab": {
          "base_uri": "https://localhost:8080/"
        },
        "id": "O4BZlFwVkODF",
        "outputId": "5ff47586-fd9b-4f5d-da01-1edf6ab1ae31"
      },
      "execution_count": 25,
      "outputs": [
        {
          "output_type": "stream",
          "name": "stdout",
          "text": [
            "0 2 4 6 8 10 14 16 18 20 "
          ]
        }
      ]
    },
    {
      "cell_type": "code",
      "source": [
        "asansor_nums = list(range(1,19))\n",
        "print(asansor_nums)\n",
        "#13. tuşu iptal etmek için\n",
        "for tus in asansor_nums:\n",
        "    if tus==13:\n",
        "        continue\n",
        "    print(f\"{tus}.kattasınız\")"
      ],
      "metadata": {
        "colab": {
          "base_uri": "https://localhost:8080/"
        },
        "id": "mUmgZ38blNC7",
        "outputId": "860b5b71-19c6-42b8-f5c5-3f6d7e720ced"
      },
      "execution_count": 29,
      "outputs": [
        {
          "output_type": "stream",
          "name": "stdout",
          "text": [
            "[1, 2, 3, 4, 5, 6, 7, 8, 9, 10, 11, 12, 13, 14, 15, 16, 17, 18]\n",
            "1.kattasınız\n",
            "2.kattasınız\n",
            "3.kattasınız\n",
            "4.kattasınız\n",
            "5.kattasınız\n",
            "6.kattasınız\n",
            "7.kattasınız\n",
            "8.kattasınız\n",
            "9.kattasınız\n",
            "10.kattasınız\n",
            "11.kattasınız\n",
            "12.kattasınız\n",
            "14.kattasınız\n",
            "15.kattasınız\n",
            "16.kattasınız\n",
            "17.kattasınız\n",
            "18.kattasınız\n"
          ]
        }
      ]
    },
    {
      "cell_type": "code",
      "source": [
        "diller = [\"C\", \"C++\", \"Swift\", \"SQL\", \"Python\", \"Java\"]\n",
        "for i in diller:\n",
        "    if i==\"Python\":\n",
        "        continue\n",
        "    print(f\"{i} dilini öğreneceğim\")"
      ],
      "metadata": {
        "colab": {
          "base_uri": "https://localhost:8080/"
        },
        "id": "qB0ISLHjlsTJ",
        "outputId": "a53efef5-8f9c-4d8f-df74-d5d778ab2028"
      },
      "execution_count": 34,
      "outputs": [
        {
          "output_type": "stream",
          "name": "stdout",
          "text": [
            "C dilini öğreneceğim\n",
            "C++ dilini öğreneceğim\n",
            "Swift dilini öğreneceğim\n",
            "SQL dilini öğreneceğim\n",
            "Java dilini öğreneceğim\n"
          ]
        }
      ]
    },
    {
      "cell_type": "code",
      "source": [
        "# ':='walrus operatoru: parantez içi atama operatoru\n",
        "num1 = 5\n",
        "(num2 := 6)\n",
        "print(num2)"
      ],
      "metadata": {
        "colab": {
          "base_uri": "https://localhost:8080/"
        },
        "id": "PtNN13IwnagL",
        "outputId": "58ba480b-e81f-4d64-a65d-c29f2d19f980"
      },
      "execution_count": 35,
      "outputs": [
        {
          "output_type": "stream",
          "name": "stdout",
          "text": [
            "6\n"
          ]
        }
      ]
    },
    {
      "cell_type": "code",
      "source": [
        "sifre = input(\"Şifrenizi giriniz..: \")\n",
        "if sifre==\"python\":\n",
        "    print(\"Hoş geldiniz...\")"
      ],
      "metadata": {
        "colab": {
          "base_uri": "https://localhost:8080/"
        },
        "id": "wrrQVMTrn1jT",
        "outputId": "627e8070-ea95-4fea-e78b-3fa53ab3e1fd"
      },
      "execution_count": 38,
      "outputs": [
        {
          "output_type": "stream",
          "name": "stdout",
          "text": [
            "Şifrenizi giriniz..: python\n",
            "Hoş geldiniz...\n"
          ]
        }
      ]
    },
    {
      "cell_type": "code",
      "source": [
        "sifre = input(\"Şifrenizi giriniz..: \")\n",
        "while sifre!=\"python\":\n",
        "    sifre = input(\"Şifrenizi giriniz..: \")\n",
        "    pass\n",
        "\n",
        "print(\"Hoş geldiniz...\")"
      ],
      "metadata": {
        "colab": {
          "base_uri": "https://localhost:8080/"
        },
        "id": "YAPrS91voHrV",
        "outputId": "da8737ff-8cce-42b9-92d3-6af63427d864"
      },
      "execution_count": 40,
      "outputs": [
        {
          "output_type": "stream",
          "name": "stdout",
          "text": [
            "Şifrenizi giriniz..: ali\n",
            "Şifrenizi giriniz..: veli\n",
            "Şifrenizi giriniz..: dede\n",
            "Şifrenizi giriniz..: python\n",
            "Hoş geldiniz...\n"
          ]
        }
      ]
    },
    {
      "cell_type": "code",
      "source": [
        "while(sifre := input(\"Şifrenizi giriniz..: \")!=\"python\"):\n",
        "    pass\n",
        "\n",
        "print(\"Hoş geldiniz...\")"
      ],
      "metadata": {
        "colab": {
          "base_uri": "https://localhost:8080/"
        },
        "id": "_MYpR0Oqogqq",
        "outputId": "284dc6b8-75b3-4dbb-9af2-ff75319ef001"
      },
      "execution_count": 41,
      "outputs": [
        {
          "output_type": "stream",
          "name": "stdout",
          "text": [
            "Şifrenizi giriniz..: ali\n",
            "Şifrenizi giriniz..: alim\n",
            "Şifrenizi giriniz..: dede\n",
            "Şifrenizi giriniz..: python\n",
            "Hoş geldiniz...\n"
          ]
        }
      ]
    },
    {
      "cell_type": "code",
      "source": [
        "# 3.10 üzeri için geçerli.\n",
        "# iç içe if elif else yerine match case kullanılabilir.\n",
        "status = int(input(\"Web sayfasındaki hata kodu.: \"))\n",
        "match status:\n",
        "    case 400:\n",
        "        sonuc = \"Bad request\"\n",
        "    case 401 | 403 :\n",
        "        sonuc = \"Not allowed\"\n",
        "    case 404:\n",
        "        sonuc = \"Not found\"\n",
        "    case 408:\n",
        "        sonuc = \"Request Timeout\"\n",
        "    case 418:\n",
        "        sonuc = \"I'm a teapot\"\n",
        "    case _: #else yerine geçer\n",
        "        sonuc = \"Something's wrong with the Internet\"\n",
        "\n",
        "print(\"Hata Kodu Anlamı.: \", sonuc)"
      ],
      "metadata": {
        "colab": {
          "base_uri": "https://localhost:8080/"
        },
        "id": "VuFDmZ-UpRfd",
        "outputId": "d3eb232b-e18f-409a-f7d9-2abc5373a43c"
      },
      "execution_count": 44,
      "outputs": [
        {
          "output_type": "stream",
          "name": "stdout",
          "text": [
            "Web sayfasındaki hata kodu.: 418\n",
            "Hata Kodu Anlamı.:  I'm a teapot\n"
          ]
        }
      ]
    },
    {
      "cell_type": "code",
      "source": [
        "#basit bir chatbot uygulaması yapalım\n",
        "name = input(\"Adınız.: \")\n",
        "while True:\n",
        "    mesaj = input(f\"{name}.:\")\n",
        "    match mesaj.lower():\n",
        "        case \"merhaba\":\n",
        "            cevap = f\"Merhaba!, Nasıl yardımcı olabilirim\"\n",
        "        case \"nasılnız?\":\n",
        "            cevap = f\"İyiyim, teşekkür ederim, siz nasılsınız?\"\n",
        "        case \"bende iyiyim\" | \"saolun\" :\n",
        "            cevap = f\"Sorununuz nedir?\"\n",
        "        case \"Bugün hava nasıl\" | \"hava nasıl?\":\n",
        "            cevap = \"Hava güneşli ve sıcak!\"\n",
        "        case \"teşekkür ederim\":\n",
        "            cevap = \"rica ederim\"\n",
        "        case \"kapat\" | \"iyi günler\" | \"görüşmek üzere\":\n",
        "            cevap = \"bye\"\n",
        "        case _: #else yerine geçer\n",
        "            sonuc = \"Kusura bakmayın!, yardımcı olmamı istediğiniz başka bir konu varmı\"\n",
        "    if cevap==\"bye\":\n",
        "        break\n",
        "    print(cevap)"
      ],
      "metadata": {
        "colab": {
          "base_uri": "https://localhost:8080/"
        },
        "id": "i2-YOvGsrP1x",
        "outputId": "7e6f9f0d-1a43-4145-9da6-5ee48ac9566b"
      },
      "execution_count": 48,
      "outputs": [
        {
          "name": "stdout",
          "output_type": "stream",
          "text": [
            "Adınız.: ali\n",
            "ali.:merhaba\n",
            "Merhaba!, Nasıl yardımcı olabilirim\n",
            "ali.:iyi günler\n"
          ]
        }
      ]
    }
  ]
}