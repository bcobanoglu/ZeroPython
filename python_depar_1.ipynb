{
  "nbformat": 4,
  "nbformat_minor": 0,
  "metadata": {
    "colab": {
      "provenance": []
    },
    "kernelspec": {
      "name": "python3",
      "display_name": "Python 3"
    },
    "language_info": {
      "name": "python"
    }
  },
  "cells": [
    {
      "cell_type": "code",
      "execution_count": null,
      "metadata": {
        "colab": {
          "base_uri": "https://localhost:8080/"
        },
        "id": "Mv5Rlp7_gonr",
        "outputId": "01a7057f-9ba9-463f-fb22-0ea783d68fe4"
      },
      "outputs": [
        {
          "output_type": "stream",
          "name": "stdout",
          "text": [
            "Python 3.10.11\n"
          ]
        }
      ],
      "source": [
        "!python --version"
      ]
    },
    {
      "cell_type": "code",
      "source": [
        "!python -V"
      ],
      "metadata": {
        "colab": {
          "base_uri": "https://localhost:8080/"
        },
        "id": "UBgSa8IViluQ",
        "outputId": "0d3d58ad-710f-4ccb-e948-7a6e9ffc18aa"
      },
      "execution_count": null,
      "outputs": [
        {
          "output_type": "stream",
          "name": "stdout",
          "text": [
            "Python 3.10.11\n"
          ]
        }
      ]
    },
    {
      "cell_type": "code",
      "source": [
        "#windows için \n",
        "#py --version\n",
        "#mac - linux : python3 --version"
      ],
      "metadata": {
        "id": "AgBh0tG7ivTP"
      },
      "execution_count": null,
      "outputs": []
    },
    {
      "cell_type": "code",
      "source": [
        "print(\"merhaba\")"
      ],
      "metadata": {
        "colab": {
          "base_uri": "https://localhost:8080/"
        },
        "id": "bNObbuq7q4qT",
        "outputId": "54ab109f-2471-44d8-a6ff-29b3bab58f05"
      },
      "execution_count": null,
      "outputs": [
        {
          "output_type": "stream",
          "name": "stdout",
          "text": [
            "merhaba\n"
          ]
        }
      ]
    },
    {
      "cell_type": "markdown",
      "source": [
        "math modülünü kullanmak için import deyimi kullanılır"
      ],
      "metadata": {
        "id": "L_99XiAEtrIX"
      }
    },
    {
      "cell_type": "code",
      "source": [
        "import math  \n",
        "math.pow(3,2)"
      ],
      "metadata": {
        "colab": {
          "base_uri": "https://localhost:8080/"
        },
        "id": "GpFcN5R5tVbv",
        "outputId": "f4a0cd5c-01fe-4d7d-cb57-03f7e5151833"
      },
      "execution_count": null,
      "outputs": [
        {
          "output_type": "execute_result",
          "data": {
            "text/plain": [
              "9.0"
            ]
          },
          "metadata": {},
          "execution_count": 3
        }
      ]
    },
    {
      "cell_type": "code",
      "source": [
        "# math'in import edilen metotlarını listele\n",
        "print(dir(math))"
      ],
      "metadata": {
        "colab": {
          "base_uri": "https://localhost:8080/"
        },
        "id": "gBPOqXD2w0m5",
        "outputId": "0f65d8fe-f89b-43cb-b842-e4b08ec38a50"
      },
      "execution_count": null,
      "outputs": [
        {
          "output_type": "stream",
          "name": "stdout",
          "text": [
            "['__doc__', '__loader__', '__name__', '__package__', '__spec__', 'acos', 'acosh', 'asin', 'asinh', 'atan', 'atan2', 'atanh', 'ceil', 'comb', 'copysign', 'cos', 'cosh', 'degrees', 'dist', 'e', 'erf', 'erfc', 'exp', 'expm1', 'fabs', 'factorial', 'floor', 'fmod', 'frexp', 'fsum', 'gamma', 'gcd', 'hypot', 'inf', 'isclose', 'isfinite', 'isinf', 'isnan', 'isqrt', 'lcm', 'ldexp', 'lgamma', 'log', 'log10', 'log1p', 'log2', 'modf', 'nan', 'nextafter', 'perm', 'pi', 'pow', 'prod', 'radians', 'remainder', 'sin', 'sinh', 'sqrt', 'tan', 'tanh', 'tau', 'trunc', 'ulp']\n"
          ]
        }
      ]
    },
    {
      "cell_type": "code",
      "source": [
        "import math\n",
        "math.sqrt(9)"
      ],
      "metadata": {
        "colab": {
          "base_uri": "https://localhost:8080/"
        },
        "id": "c06TxBz7xv8c",
        "outputId": "e21b8dc4-623c-490f-d516-eeb19977a89e"
      },
      "execution_count": null,
      "outputs": [
        {
          "output_type": "execute_result",
          "data": {
            "text/plain": [
              "3.0"
            ]
          },
          "metadata": {},
          "execution_count": 7
        }
      ]
    },
    {
      "cell_type": "code",
      "source": [
        "# import modul_adi as takma_ad\n",
        "import math as m    # artık math yerine m kısaltmasını kullancağım\n",
        "m.sqrt(9)           # 9 un karekökünü verir"
      ],
      "metadata": {
        "colab": {
          "base_uri": "https://localhost:8080/"
        },
        "id": "crgxfGQNxRUZ",
        "outputId": "536bfb4c-8cf8-46d3-8034-21542df0a16d"
      },
      "execution_count": null,
      "outputs": [
        {
          "output_type": "execute_result",
          "data": {
            "text/plain": [
              "3.0"
            ]
          },
          "metadata": {},
          "execution_count": 6
        }
      ]
    },
    {
      "cell_type": "code",
      "source": [
        "# from modul_adi import fonksiyon_adi ad takma_ad \n",
        "from math import sqrt\n",
        "sqrt(9)"
      ],
      "metadata": {
        "colab": {
          "base_uri": "https://localhost:8080/"
        },
        "id": "Q2vZ59pIyGjk",
        "outputId": "9869a051-0f7b-4301-bd8e-3a0dacdd103f"
      },
      "execution_count": null,
      "outputs": [
        {
          "output_type": "execute_result",
          "data": {
            "text/plain": [
              "3.0"
            ]
          },
          "metadata": {},
          "execution_count": 8
        }
      ]
    },
    {
      "cell_type": "code",
      "source": [
        "from math import sqrt as kk\n",
        "kk(9)"
      ],
      "metadata": {
        "colab": {
          "base_uri": "https://localhost:8080/"
        },
        "id": "bjEZrt48yVu1",
        "outputId": "303d66cb-2f0a-42ae-c019-575654a3677d"
      },
      "execution_count": null,
      "outputs": [
        {
          "output_type": "execute_result",
          "data": {
            "text/plain": [
              "3.0"
            ]
          },
          "metadata": {},
          "execution_count": 9
        }
      ]
    },
    {
      "cell_type": "code",
      "source": [
        "help(kk)"
      ],
      "metadata": {
        "colab": {
          "base_uri": "https://localhost:8080/"
        },
        "id": "DVPUZIOz7eI_",
        "outputId": "4bdbf286-beda-4daf-acda-cc3c2b0bf4a7"
      },
      "execution_count": null,
      "outputs": [
        {
          "output_type": "stream",
          "name": "stdout",
          "text": [
            "Help on built-in function sqrt in module math:\n",
            "\n",
            "sqrt(x, /)\n",
            "    Return the square root of x.\n",
            "\n"
          ]
        }
      ]
    },
    {
      "cell_type": "code",
      "source": [
        "!pip install numpy"
      ],
      "metadata": {
        "colab": {
          "base_uri": "https://localhost:8080/"
        },
        "id": "5y2Vjt0J1NL7",
        "outputId": "fa018550-fb57-45e4-ff2a-1ef40fe963f6"
      },
      "execution_count": null,
      "outputs": [
        {
          "output_type": "stream",
          "name": "stdout",
          "text": [
            "Looking in indexes: https://pypi.org/simple, https://us-python.pkg.dev/colab-wheels/public/simple/\n",
            "Requirement already satisfied: numpy in /usr/local/lib/python3.10/dist-packages (1.22.4)\n"
          ]
        }
      ]
    },
    {
      "cell_type": "code",
      "source": [
        "# pip : olmayan paketleri, modülleri kurmak kullanacağımız bir paket yönetim sistemi\n",
        "!pip --version"
      ],
      "metadata": {
        "colab": {
          "base_uri": "https://localhost:8080/"
        },
        "id": "fMNZ7Zrz1nZB",
        "outputId": "53220bc9-ac46-4b9e-9fcf-0fc52d0e9902"
      },
      "execution_count": null,
      "outputs": [
        {
          "output_type": "stream",
          "name": "stdout",
          "text": [
            "pip 23.1.2 from /usr/local/lib/python3.10/dist-packages/pip (python 3.10)\n"
          ]
        }
      ]
    },
    {
      "cell_type": "code",
      "source": [
        "#kurulu bir paketi kaldırmak için \n",
        "!pip uninstall numpy"
      ],
      "metadata": {
        "colab": {
          "base_uri": "https://localhost:8080/"
        },
        "id": "DKjHzjmg17iZ",
        "outputId": "85950925-38ef-471a-d667-3965de96d843"
      },
      "execution_count": null,
      "outputs": [
        {
          "output_type": "stream",
          "name": "stdout",
          "text": [
            "Found existing installation: numpy 1.22.4\n",
            "Uninstalling numpy-1.22.4:\n",
            "  Would remove:\n",
            "    /usr/local/bin/f2py\n",
            "    /usr/local/bin/f2py3\n",
            "    /usr/local/bin/f2py3.10\n",
            "    /usr/local/lib/python3.10/dist-packages/numpy-1.22.4.dist-info/*\n",
            "    /usr/local/lib/python3.10/dist-packages/numpy.libs/libgfortran-040039e1.so.5.0.0\n",
            "    /usr/local/lib/python3.10/dist-packages/numpy.libs/libopenblas64_p-r0-2f7c42d4.3.18.so\n",
            "    /usr/local/lib/python3.10/dist-packages/numpy.libs/libquadmath-96973f99.so.0.0.0\n",
            "    /usr/local/lib/python3.10/dist-packages/numpy/*\n",
            "Proceed (Y/n)? y\n",
            "  Successfully uninstalled numpy-1.22.4\n"
          ]
        }
      ]
    },
    {
      "cell_type": "code",
      "source": [
        "!pip list   # kurulu paketlerin listesini verir"
      ],
      "metadata": {
        "id": "Tn56LhzE2Kks"
      },
      "execution_count": null,
      "outputs": []
    },
    {
      "cell_type": "code",
      "source": [
        "!pip freeze # kurulu paketlerin listesini sürüm numaraları ile birlikte verir"
      ],
      "metadata": {
        "id": "cdfGc3Uf2Ww5"
      },
      "execution_count": null,
      "outputs": []
    },
    {
      "cell_type": "code",
      "source": [
        "!pip show pandas  # bir paket/modul hakkında detaylı bilgi almak için kullanılır"
      ],
      "metadata": {
        "colab": {
          "base_uri": "https://localhost:8080/"
        },
        "id": "UF6OHbVb2i2-",
        "outputId": "ac388200-b957-4a84-ead3-cb253ebbaad8"
      },
      "execution_count": null,
      "outputs": [
        {
          "output_type": "stream",
          "name": "stdout",
          "text": [
            "Name: pandas\n",
            "Version: 1.5.3\n",
            "Summary: Powerful data structures for data analysis, time series, and statistics\n",
            "Home-page: https://pandas.pydata.org\n",
            "Author: The Pandas Development Team\n",
            "Author-email: pandas-dev@python.org\n",
            "License: BSD-3-Clause\n",
            "Location: /usr/local/lib/python3.10/dist-packages\n",
            "Requires: numpy, python-dateutil, pytz\n",
            "Required-by: altair, arviz, cmdstanpy, cufflinks, datascience, db-dtypes, dopamine-rl, fastai, google-colab, gspread-dataframe, holoviews, mizani, mlxtend, pandas-datareader, pandas-gbq, plotnine, prophet, pymc, seaborn, sklearn-pandas, statsmodels, vega-datasets, xarray, yfinance\n"
          ]
        }
      ]
    },
    {
      "cell_type": "code",
      "source": [
        "!pip install numpy"
      ],
      "metadata": {
        "id": "8j4sKEx_2zqi"
      },
      "execution_count": null,
      "outputs": []
    },
    {
      "cell_type": "code",
      "source": [
        "# print \"Hello World!\" # 2.x sürümlerinde\n",
        "print(\"Hello World!\")  # 3.x sürümlerinde"
      ],
      "metadata": {
        "colab": {
          "base_uri": "https://localhost:8080/"
        },
        "id": "qTCgWFWX3Eal",
        "outputId": "51eb679b-8803-4c09-c4b9-acc2dbe0db65"
      },
      "execution_count": null,
      "outputs": [
        {
          "output_type": "stream",
          "name": "stdout",
          "text": [
            "Hello World!\n"
          ]
        }
      ]
    },
    {
      "cell_type": "code",
      "source": [
        "print('Hello World!') "
      ],
      "metadata": {
        "colab": {
          "base_uri": "https://localhost:8080/"
        },
        "id": "LXqx8evl3h97",
        "outputId": "fd95967e-e49a-410f-a75b-48f4a96f0b4d"
      },
      "execution_count": null,
      "outputs": [
        {
          "output_type": "stream",
          "name": "stdout",
          "text": [
            "Hello World!\n"
          ]
        }
      ]
    },
    {
      "cell_type": "code",
      "source": [
        "print(\"\"\"Hello World!\"\"\") "
      ],
      "metadata": {
        "colab": {
          "base_uri": "https://localhost:8080/"
        },
        "id": "Giaw_YKa3kmm",
        "outputId": "2c7e042d-dfc0-413f-a28d-8f990e1ae61f"
      },
      "execution_count": null,
      "outputs": [
        {
          "output_type": "stream",
          "name": "stdout",
          "text": [
            "Hello World!\n"
          ]
        }
      ]
    },
    {
      "cell_type": "code",
      "source": [
        "print('''Hello World!''') "
      ],
      "metadata": {
        "colab": {
          "base_uri": "https://localhost:8080/"
        },
        "id": "C7bVV4mp3nrH",
        "outputId": "dc8c8e29-4c5c-44d4-f258-985cf31546e2"
      },
      "execution_count": null,
      "outputs": [
        {
          "output_type": "stream",
          "name": "stdout",
          "text": [
            "Hello World!\n"
          ]
        }
      ]
    },
    {
      "cell_type": "code",
      "source": [
        "print(\"Hello World!') # hata: hangi tırnak ile başladı isek o tırnakla kapatılmalı"
      ],
      "metadata": {
        "colab": {
          "base_uri": "https://localhost:8080/",
          "height": 131
        },
        "id": "V5L7vw5g3sbv",
        "outputId": "2f07f43a-bd0b-4d1a-df25-ed9a6da50259"
      },
      "execution_count": null,
      "outputs": [
        {
          "output_type": "error",
          "ename": "SyntaxError",
          "evalue": "ignored",
          "traceback": [
            "\u001b[0;36m  File \u001b[0;32m\"<ipython-input-22-9519d2a0edab>\"\u001b[0;36m, line \u001b[0;32m1\u001b[0m\n\u001b[0;31m    print(\"Hello World!') # hata: hangi tırnak ile başladı isek o tırnakla kapatılmalı\u001b[0m\n\u001b[0m          ^\u001b[0m\n\u001b[0;31mSyntaxError\u001b[0m\u001b[0;31m:\u001b[0m unterminated string literal (detected at line 1)\n"
          ]
        }
      ]
    },
    {
      "cell_type": "code",
      "source": [
        "print(\"Ali, \"gel\" dedi.\")  # hata: tırnak içerisinde aynı tip tırnak kullanılmaz"
      ],
      "metadata": {
        "colab": {
          "base_uri": "https://localhost:8080/",
          "height": 131
        },
        "id": "714YQTEC4LSW",
        "outputId": "7ef11641-88db-4c3d-acd4-b1c9cba8297e"
      },
      "execution_count": null,
      "outputs": [
        {
          "output_type": "error",
          "ename": "SyntaxError",
          "evalue": "ignored",
          "traceback": [
            "\u001b[0;36m  File \u001b[0;32m\"<ipython-input-23-8de906f1eb33>\"\u001b[0;36m, line \u001b[0;32m1\u001b[0m\n\u001b[0;31m    print(\"Ali, \"gel\" dedi.\")\u001b[0m\n\u001b[0m          ^\u001b[0m\n\u001b[0;31mSyntaxError\u001b[0m\u001b[0;31m:\u001b[0m invalid syntax. Perhaps you forgot a comma?\n"
          ]
        }
      ]
    },
    {
      "cell_type": "code",
      "source": [
        "print(\"Ali, 'gel' dedi.\")"
      ],
      "metadata": {
        "colab": {
          "base_uri": "https://localhost:8080/"
        },
        "id": "ZdBaIuVm4fqw",
        "outputId": "d6850cac-81af-4204-94c5-a22d80293964"
      },
      "execution_count": null,
      "outputs": [
        {
          "output_type": "stream",
          "name": "stdout",
          "text": [
            "Ali, 'gel' dedi.\n"
          ]
        }
      ]
    },
    {
      "cell_type": "code",
      "source": [
        "print('3.14159')\n",
        "print(3.14159)\n",
        "#çıktılar aynı fakat veri tipleri farklıdır"
      ],
      "metadata": {
        "colab": {
          "base_uri": "https://localhost:8080/"
        },
        "id": "Ebgvc-bS44ZS",
        "outputId": "58940b79-a49a-414b-9267-50f07aa74180"
      },
      "execution_count": null,
      "outputs": [
        {
          "output_type": "stream",
          "name": "stdout",
          "text": [
            "3.14159\n",
            "3.14159\n"
          ]
        }
      ]
    },
    {
      "cell_type": "code",
      "source": [
        "#type: verinin/değişkenin( bir python nesnesinin) tipini döndürür.\n",
        "print(type('3.14159'))\n",
        "print(type(3.14159))"
      ],
      "metadata": {
        "colab": {
          "base_uri": "https://localhost:8080/"
        },
        "id": "7E34AHcv5Lqq",
        "outputId": "558d609e-838e-4e6d-ea4e-1c528fd9c1ff"
      },
      "execution_count": null,
      "outputs": [
        {
          "output_type": "stream",
          "name": "stdout",
          "text": [
            "<class 'str'>\n",
            "<class 'float'>\n"
          ]
        }
      ]
    },
    {
      "cell_type": "code",
      "source": [
        "print(\"Satır-1\")\n",
        "print()    # boş satır bırakır\n",
        "print(\"Satır-3\")\n",
        "print()\n",
        "print(\"Satır-5\")"
      ],
      "metadata": {
        "colab": {
          "base_uri": "https://localhost:8080/"
        },
        "id": "_GCOwH1w6Gfl",
        "outputId": "24a3893e-17f3-4037-cf68-89bad3d8eea0"
      },
      "execution_count": null,
      "outputs": [
        {
          "output_type": "stream",
          "name": "stdout",
          "text": [
            "Satır-1\n",
            "\n",
            "Satır-3\n",
            "\n",
            "Satır-5\n"
          ]
        }
      ]
    },
    {
      "cell_type": "code",
      "source": [
        "help(print)"
      ],
      "metadata": {
        "colab": {
          "base_uri": "https://localhost:8080/"
        },
        "id": "wCsL6CLp6W9H",
        "outputId": "8df9806b-f85b-46f6-fbf7-5efa0c0a6de8"
      },
      "execution_count": null,
      "outputs": [
        {
          "output_type": "stream",
          "name": "stdout",
          "text": [
            "Help on built-in function print in module builtins:\n",
            "\n",
            "print(...)\n",
            "    print(value, ..., sep=' ', end='\\n', file=sys.stdout, flush=False)\n",
            "    \n",
            "    Prints the values to a stream, or to sys.stdout by default.\n",
            "    Optional keyword arguments:\n",
            "    file:  a file-like object (stream); defaults to the current sys.stdout.\n",
            "    sep:   string inserted between values, default a space.\n",
            "    end:   string appended after the last value, default a newline.\n",
            "    flush: whether to forcibly flush the stream.\n",
            "\n"
          ]
        }
      ]
    },
    {
      "cell_type": "code",
      "source": [
        "print(\"Hello\",\"World\")"
      ],
      "metadata": {
        "colab": {
          "base_uri": "https://localhost:8080/"
        },
        "id": "DTd96D0L66Ew",
        "outputId": "83d018b5-728c-4201-f1f6-6bfcdec4414c"
      },
      "execution_count": null,
      "outputs": [
        {
          "output_type": "stream",
          "name": "stdout",
          "text": [
            "Hello World\n"
          ]
        }
      ]
    },
    {
      "cell_type": "code",
      "source": [
        "print(\"Hello\",\"World\", sep=\",\")"
      ],
      "metadata": {
        "colab": {
          "base_uri": "https://localhost:8080/"
        },
        "id": "wugB1ApJ6_Z1",
        "outputId": "b57cfb44-c0f9-46db-e44e-9d5f8ac604e8"
      },
      "execution_count": null,
      "outputs": [
        {
          "output_type": "stream",
          "name": "stdout",
          "text": [
            "Hello,World\n"
          ]
        }
      ]
    },
    {
      "cell_type": "code",
      "source": [
        "help(math.sqrt)"
      ],
      "metadata": {
        "colab": {
          "base_uri": "https://localhost:8080/"
        },
        "id": "Ny407E_47MLr",
        "outputId": "903ff46e-3b9a-42dd-e16a-96b4c3a40b79"
      },
      "execution_count": null,
      "outputs": [
        {
          "output_type": "stream",
          "name": "stdout",
          "text": [
            "Help on built-in function sqrt in module math:\n",
            "\n",
            "sqrt(x, /)\n",
            "    Return the square root of x.\n",
            "\n"
          ]
        }
      ]
    },
    {
      "cell_type": "code",
      "source": [
        "print('p','y','t','h','o','n', sep=\"-\")"
      ],
      "metadata": {
        "colab": {
          "base_uri": "https://localhost:8080/"
        },
        "id": "l2i2-q8n72_D",
        "outputId": "c32938f1-f8d6-46d6-8c7d-9dff3dba4ad7"
      },
      "execution_count": null,
      "outputs": [
        {
          "output_type": "stream",
          "name": "stdout",
          "text": [
            "p-y-t-h-o-n\n"
          ]
        }
      ]
    },
    {
      "cell_type": "code",
      "source": [
        "print(\"Hello\",end=\" \")\n",
        "print(\"World\")"
      ],
      "metadata": {
        "colab": {
          "base_uri": "https://localhost:8080/"
        },
        "id": "Nr-byHqi8CSo",
        "outputId": "2cab3d33-004b-4936-8faa-1c6b1a781744"
      },
      "execution_count": null,
      "outputs": [
        {
          "output_type": "stream",
          "name": "stdout",
          "text": [
            "Hello World\n"
          ]
        }
      ]
    },
    {
      "cell_type": "code",
      "source": [
        "print(\"müdür\", \"müdür\", \"müdür\", end=\"?\")"
      ],
      "metadata": {
        "colab": {
          "base_uri": "https://localhost:8080/"
        },
        "id": "gDLdH-108kau",
        "outputId": "f198ef01-cdc9-4a55-fcee-638bd0a6500e"
      },
      "execution_count": null,
      "outputs": [
        {
          "output_type": "stream",
          "name": "stdout",
          "text": [
            "müdür müdür müdür?"
          ]
        }
      ]
    },
    {
      "cell_type": "code",
      "source": [
        "print(\"müdür \"*3, end=\"?\")"
      ],
      "metadata": {
        "colab": {
          "base_uri": "https://localhost:8080/"
        },
        "id": "0pMiIeOE8wrG",
        "outputId": "b289bc51-21f2-45aa-b7f1-8ae03bdf9882"
      },
      "execution_count": null,
      "outputs": [
        {
          "output_type": "stream",
          "name": "stdout",
          "text": [
            "müdür müdür müdür ?"
          ]
        }
      ]
    },
    {
      "cell_type": "code",
      "source": [
        "print(\"müdür \"*3, end=\"\\b?\") # backspace tuşu: \\b"
      ],
      "metadata": {
        "colab": {
          "base_uri": "https://localhost:8080/"
        },
        "id": "_0XkzUnq9EZz",
        "outputId": "92f48fbd-c0ee-40b6-a815-4982d29483d9"
      },
      "execution_count": null,
      "outputs": [
        {
          "output_type": "stream",
          "name": "stdout",
          "text": [
            "müdür müdür müdür \b?"
          ]
        }
      ]
    },
    {
      "cell_type": "markdown",
      "source": [
        "# Escape karakterleri"
      ],
      "metadata": {
        "id": "W1AAldP-9-Hf"
      }
    },
    {
      "cell_type": "code",
      "source": [
        "print(\"Merhaba\\nAli\\ttop\\tat.\")"
      ],
      "metadata": {
        "colab": {
          "base_uri": "https://localhost:8080/"
        },
        "id": "M9LxLYXM-BiO",
        "outputId": "21d3c93f-33d4-451e-a82b-358326c472e3"
      },
      "execution_count": null,
      "outputs": [
        {
          "output_type": "stream",
          "name": "stdout",
          "text": [
            "Merhaba\n",
            "Ali\ttop\tat.\n"
          ]
        }
      ]
    },
    {
      "cell_type": "code",
      "source": [
        "print(\"Mer\\bhaba\\nAli\\ttop\\tat.\")"
      ],
      "metadata": {
        "colab": {
          "base_uri": "https://localhost:8080/"
        },
        "id": "5FPfJQ8M-Ssj",
        "outputId": "39c0b3ce-1137-4338-d5fd-d4fd541859be"
      },
      "execution_count": null,
      "outputs": [
        {
          "output_type": "stream",
          "name": "stdout",
          "text": [
            "Mer\bhaba\n",
            "Ali\ttop\tat.\n"
          ]
        }
      ]
    },
    {
      "cell_type": "code",
      "source": [
        "print(\"Ali, \\\"gel\\\" dedi.\")"
      ],
      "metadata": {
        "colab": {
          "base_uri": "https://localhost:8080/"
        },
        "id": "LVeTeyf--l2u",
        "outputId": "68d58847-00b8-4f5c-f67b-4547ae1e15e1"
      },
      "execution_count": null,
      "outputs": [
        {
          "output_type": "stream",
          "name": "stdout",
          "text": [
            "Ali, \"gel\" dedi.\n"
          ]
        }
      ]
    },
    {
      "cell_type": "code",
      "source": [
        "text = \"Merhaba Ali,\n",
        "bugün okula gel.\""
      ],
      "metadata": {
        "colab": {
          "base_uri": "https://localhost:8080/",
          "height": 131
        },
        "id": "R58A0vom-teW",
        "outputId": "a42a77cb-c8a9-4ab2-baa8-0aed7d822587"
      },
      "execution_count": null,
      "outputs": [
        {
          "output_type": "error",
          "ename": "SyntaxError",
          "evalue": "ignored",
          "traceback": [
            "\u001b[0;36m  File \u001b[0;32m\"<ipython-input-52-20c64f00d37a>\"\u001b[0;36m, line \u001b[0;32m1\u001b[0m\n\u001b[0;31m    text = \"Merhaba Ali,\u001b[0m\n\u001b[0m           ^\u001b[0m\n\u001b[0;31mSyntaxError\u001b[0m\u001b[0;31m:\u001b[0m unterminated string literal (detected at line 1)\n"
          ]
        }
      ]
    },
    {
      "cell_type": "code",
      "source": [
        "text = \"Merhaba Ali,\\\n",
        "bugün okula gel.\""
      ],
      "metadata": {
        "id": "oHrE_dCZ-2A0"
      },
      "execution_count": null,
      "outputs": []
    },
    {
      "cell_type": "code",
      "source": [
        "print(\"\\N{dog}\")"
      ],
      "metadata": {
        "colab": {
          "base_uri": "https://localhost:8080/"
        },
        "id": "pkGu77ON_A18",
        "outputId": "59da77ce-e764-4369-93d6-bbf306d9f422"
      },
      "execution_count": null,
      "outputs": [
        {
          "output_type": "stream",
          "name": "stdout",
          "text": [
            "🐕\n"
          ]
        }
      ]
    },
    {
      "cell_type": "code",
      "source": [
        "print(\"\\N{cat}\")"
      ],
      "metadata": {
        "colab": {
          "base_uri": "https://localhost:8080/"
        },
        "id": "HdP4tf4I_Gg2",
        "outputId": "18ecde9b-0cc1-4b09-ac6a-5cc4f84cb4d0"
      },
      "execution_count": null,
      "outputs": [
        {
          "output_type": "stream",
          "name": "stdout",
          "text": [
            "🐈\n"
          ]
        }
      ]
    },
    {
      "cell_type": "code",
      "source": [
        "print(\"Ali gel\\t\\\"dedi\\\"\\tben olmaz dedim\")"
      ],
      "metadata": {
        "colab": {
          "base_uri": "https://localhost:8080/"
        },
        "id": "cDi-8XDWAJnB",
        "outputId": "c6b9529e-5ebc-455f-9d0f-8ead0ea552ea"
      },
      "execution_count": null,
      "outputs": [
        {
          "output_type": "stream",
          "name": "stdout",
          "text": [
            "Ali gel\t\"dedi\"\tben olmaz dedim\n"
          ]
        }
      ]
    },
    {
      "cell_type": "code",
      "source": [
        "print(\"  _\\n><_>\")"
      ],
      "metadata": {
        "colab": {
          "base_uri": "https://localhost:8080/"
        },
        "id": "W4uYFf-nDzu0",
        "outputId": "79ff7334-7592-4060-c78d-0cdd979cd0fc"
      },
      "execution_count": null,
      "outputs": [
        {
          "output_type": "stream",
          "name": "stdout",
          "text": [
            "  _\n",
            "><_>\n"
          ]
        }
      ]
    },
    {
      "cell_type": "code",
      "source": [
        "print(\" /\\_/\\\\\\n( o.o )\\n > ^ <\\t Max\")"
      ],
      "metadata": {
        "colab": {
          "base_uri": "https://localhost:8080/"
        },
        "id": "Fr0OBISaEeEC",
        "outputId": "64c5ca72-0cc0-49e6-b34a-809d9ff22071"
      },
      "execution_count": null,
      "outputs": [
        {
          "output_type": "stream",
          "name": "stdout",
          "text": [
            " /\\_/\\\n",
            "( o.o )\n",
            " > ^ <\t Max\n"
          ]
        }
      ]
    },
    {
      "cell_type": "code",
      "source": [
        "print(\"|\\---/|\\n| o_o |\\n \\_^_/\\t Behlül\")"
      ],
      "metadata": {
        "colab": {
          "base_uri": "https://localhost:8080/"
        },
        "id": "U-uTfdoIHgC4",
        "outputId": "3f559a10-b647-4038-dc67-b870bfc46824"
      },
      "execution_count": null,
      "outputs": [
        {
          "output_type": "stream",
          "name": "stdout",
          "text": [
            "|\\---/|\n",
            "| o_o |\n",
            " \\_^_/\t Behlül\n"
          ]
        }
      ]
    },
    {
      "cell_type": "code",
      "source": [
        "print(\"\\100\")  #ASCII kod tablosundaki octal sütünu karşılığını verir \\ooo"
      ],
      "metadata": {
        "colab": {
          "base_uri": "https://localhost:8080/"
        },
        "id": "vBbPOdHLFb-l",
        "outputId": "6f9b6642-5309-44fc-bc2c-8582e62141d1"
      },
      "execution_count": null,
      "outputs": [
        {
          "output_type": "stream",
          "name": "stdout",
          "text": [
            "@\n"
          ]
        }
      ]
    },
    {
      "cell_type": "code",
      "source": [
        "print(\"\\110\\145\\154\\154\\157\")"
      ],
      "metadata": {
        "colab": {
          "base_uri": "https://localhost:8080/"
        },
        "id": "VaaPNdyYGRs_",
        "outputId": "5bf53e25-d0d0-48be-af35-0f113e4570bb"
      },
      "execution_count": null,
      "outputs": [
        {
          "output_type": "stream",
          "name": "stdout",
          "text": [
            "Hello\n"
          ]
        }
      ]
    },
    {
      "cell_type": "code",
      "source": [
        "print(\"\\x40\")  #hex sütunu eşdeğeri"
      ],
      "metadata": {
        "colab": {
          "base_uri": "https://localhost:8080/"
        },
        "id": "uzJNTUl0FtFH",
        "outputId": "366cb2ac-c6d8-4312-eff9-1cf46650b0e7"
      },
      "execution_count": null,
      "outputs": [
        {
          "output_type": "stream",
          "name": "stdout",
          "text": [
            "@\n"
          ]
        }
      ]
    },
    {
      "cell_type": "code",
      "source": [
        "print(chr(64)) #ASCII eşdeğeri"
      ],
      "metadata": {
        "colab": {
          "base_uri": "https://localhost:8080/"
        },
        "id": "APHbWWl5F61b",
        "outputId": "78e18669-b752-4c66-ff1c-356dac6839bb"
      },
      "execution_count": null,
      "outputs": [
        {
          "output_type": "stream",
          "name": "stdout",
          "text": [
            "@\n"
          ]
        }
      ]
    },
    {
      "cell_type": "code",
      "source": [
        "print(ord(\"@\")) #tersi"
      ],
      "metadata": {
        "colab": {
          "base_uri": "https://localhost:8080/"
        },
        "id": "s8_tDzaLGBRD",
        "outputId": "c74c465a-a974-4880-cc9b-713252e69862"
      },
      "execution_count": null,
      "outputs": [
        {
          "output_type": "stream",
          "name": "stdout",
          "text": [
            "64\n"
          ]
        }
      ]
    },
    {
      "cell_type": "code",
      "source": [
        "print(0b10001)"
      ],
      "metadata": {
        "colab": {
          "base_uri": "https://localhost:8080/"
        },
        "id": "pm4FHsZTIaaP",
        "outputId": "7d3766ff-ad8d-4e95-c74a-27f6f87f5ce7"
      },
      "execution_count": null,
      "outputs": [
        {
          "output_type": "stream",
          "name": "stdout",
          "text": [
            "17\n"
          ]
        }
      ]
    },
    {
      "cell_type": "code",
      "source": [
        "print(bin(17))"
      ],
      "metadata": {
        "colab": {
          "base_uri": "https://localhost:8080/"
        },
        "id": "0dBGDkpJIsL5",
        "outputId": "7f9f9c25-ca1b-4a41-ae9e-279ab883ffc4"
      },
      "execution_count": null,
      "outputs": [
        {
          "output_type": "stream",
          "name": "stdout",
          "text": [
            "0b10001\n"
          ]
        }
      ]
    },
    {
      "cell_type": "code",
      "source": [
        "print(0x11)"
      ],
      "metadata": {
        "colab": {
          "base_uri": "https://localhost:8080/"
        },
        "id": "tNGEAY2tIiXV",
        "outputId": "ee90fc51-0cbc-4ec8-ce09-04b5500da441"
      },
      "execution_count": null,
      "outputs": [
        {
          "output_type": "stream",
          "name": "stdout",
          "text": [
            "17\n"
          ]
        }
      ]
    },
    {
      "cell_type": "code",
      "source": [
        "print(hex(17))"
      ],
      "metadata": {
        "colab": {
          "base_uri": "https://localhost:8080/"
        },
        "id": "XWN4d12wIxaR",
        "outputId": "4a70242d-7061-44e9-b984-07e7452a9f8f"
      },
      "execution_count": null,
      "outputs": [
        {
          "output_type": "stream",
          "name": "stdout",
          "text": [
            "0x11\n"
          ]
        }
      ]
    },
    {
      "cell_type": "code",
      "source": [
        "print(0o21)"
      ],
      "metadata": {
        "colab": {
          "base_uri": "https://localhost:8080/"
        },
        "id": "duuWsxS_Iol2",
        "outputId": "2e296be9-60d0-4418-8774-9200231d341e"
      },
      "execution_count": null,
      "outputs": [
        {
          "output_type": "stream",
          "name": "stdout",
          "text": [
            "17\n"
          ]
        }
      ]
    },
    {
      "cell_type": "code",
      "source": [
        "print(oct(17))"
      ],
      "metadata": {
        "colab": {
          "base_uri": "https://localhost:8080/"
        },
        "id": "vmb80IPvI065",
        "outputId": "8407cc80-4ecc-4362-b988-71f76996ae55"
      },
      "execution_count": null,
      "outputs": [
        {
          "output_type": "stream",
          "name": "stdout",
          "text": [
            "0o21\n"
          ]
        }
      ]
    },
    {
      "cell_type": "code",
      "source": [
        "print(\"bulendhoc@gmail.com\")"
      ],
      "metadata": {
        "colab": {
          "base_uri": "https://localhost:8080/"
        },
        "id": "FgITL3a2I76K",
        "outputId": "e8da9059-25b0-47b9-abf0-6df05df8ba32"
      },
      "execution_count": null,
      "outputs": [
        {
          "output_type": "stream",
          "name": "stdout",
          "text": [
            "bulendhoc@gmail.com\n"
          ]
        }
      ]
    },
    {
      "cell_type": "code",
      "source": [
        "print(\"bulendhoc\\x40gmail\\x2Ecom\")"
      ],
      "metadata": {
        "colab": {
          "base_uri": "https://localhost:8080/"
        },
        "id": "OnNDGOJIJFfI",
        "outputId": "8f5961fe-ae4e-49a4-d1e3-56b4645530fa"
      },
      "execution_count": null,
      "outputs": [
        {
          "output_type": "stream",
          "name": "stdout",
          "text": [
            "bulendhoc@gmail.com\n"
          ]
        }
      ]
    },
    {
      "cell_type": "code",
      "source": [
        "word = input(\"Word: \")\n",
        "sep = \"/\"\n",
        "tekrar = 3\n",
        "print((word+sep)*tekrar +\"\\b\", end=\"?\" ) "
      ],
      "metadata": {
        "colab": {
          "base_uri": "https://localhost:8080/"
        },
        "id": "TU1oNV1bZI3D",
        "outputId": "d76967a0-49c5-4096-e22d-550aca11e68c"
      },
      "execution_count": 92,
      "outputs": [
        {
          "output_type": "stream",
          "name": "stdout",
          "text": [
            "Word: Ali\n",
            "Ali/Ali/Ali/\b?"
          ]
        }
      ]
    },
    {
      "cell_type": "code",
      "source": [
        "#veri girişi : input\n",
        "ad = input(\"adiniz..: \") #default olarak str türde veri alır\n",
        "print(ad * 5)"
      ],
      "metadata": {
        "colab": {
          "base_uri": "https://localhost:8080/"
        },
        "id": "BhYslRuVXqQf",
        "outputId": "7ee0508b-a086-4659-b38b-7a1ec25416dd"
      },
      "execution_count": 91,
      "outputs": [
        {
          "output_type": "stream",
          "name": "stdout",
          "text": [
            "adiniz..: Bülent\n",
            "BülentBülentBülentBülentBülent\n"
          ]
        }
      ]
    },
    {
      "cell_type": "code",
      "source": [
        "ad = input(\"Adınız: \")\n",
        "sep = \"\\n\"\n",
        "print((ad + sep ) * 5 )"
      ],
      "metadata": {
        "colab": {
          "base_uri": "https://localhost:8080/"
        },
        "id": "XNj4qPgIZpFm",
        "outputId": "bbcf3552-7aa7-4691-c9d6-f3d7f34a69cd"
      },
      "execution_count": 93,
      "outputs": [
        {
          "output_type": "stream",
          "name": "stdout",
          "text": [
            "Adınız: Bülent\n",
            "Bülent\n",
            "Bülent\n",
            "Bülent\n",
            "Bülent\n",
            "Bülent\n",
            "\n"
          ]
        }
      ]
    },
    {
      "cell_type": "code",
      "source": [
        "ad = input(\"adiniz..: \") #default olarak str türde veri alır\n",
        "print((ad+\"\\n\") * 5)"
      ],
      "metadata": {
        "colab": {
          "base_uri": "https://localhost:8080/"
        },
        "id": "UJSylpBuZucf",
        "outputId": "3d7d63a8-b9da-4b82-f525-57f5305a851b"
      },
      "execution_count": 94,
      "outputs": [
        {
          "output_type": "stream",
          "name": "stdout",
          "text": [
            "adiniz..: Ali\n",
            "Ali\n",
            "Ali\n",
            "Ali\n",
            "Ali\n",
            "Ali\n",
            "\n"
          ]
        }
      ]
    },
    {
      "cell_type": "code",
      "source": [
        "print((input(\"adiniz..: \")+\"\\n\") * 5)"
      ],
      "metadata": {
        "colab": {
          "base_uri": "https://localhost:8080/"
        },
        "id": "3BERry0vZ9DZ",
        "outputId": "89a8aa8a-2de9-414e-d13a-72687b9c0b2d"
      },
      "execution_count": 95,
      "outputs": [
        {
          "output_type": "stream",
          "name": "stdout",
          "text": [
            "adiniz..: ali\n",
            "ali\n",
            "ali\n",
            "ali\n",
            "ali\n",
            "ali\n",
            "\n"
          ]
        }
      ]
    },
    {
      "cell_type": "code",
      "source": [
        "# Basit bir calculator yapalım\n",
        "num1 = input(\"sayi1: \")\n",
        "num2 = input(\"sayi2: \")\n",
        "print(\"Toplam..: \", num1+num2)  #string birleştirme"
      ],
      "metadata": {
        "colab": {
          "base_uri": "https://localhost:8080/"
        },
        "id": "9_P3vOY4aM8Z",
        "outputId": "4a25b173-f088-4652-cbd2-5abea4d1ddfe"
      },
      "execution_count": 96,
      "outputs": [
        {
          "output_type": "stream",
          "name": "stdout",
          "text": [
            "sayi1: 3\n",
            "sayi2: 5\n",
            "Toplam..:  35\n"
          ]
        }
      ]
    },
    {
      "cell_type": "code",
      "source": [
        "# Basit bir calculator yapalım\n",
        "num1 = int(input(\"sayi1: \")) # tamsayı\n",
        "num2 = int(input(\"sayi2: \")) # tamsayı\n",
        "print(\"Toplam..: \", num1+num2)  #toplama\n",
        "print(\"Çıkarma..: \", num1-num2) #çıkarma\n",
        "print(\"Çarpma..: \", num1*num2)  #çarpma\n",
        "print(\"Bölme..: \", num1/num2)   #bölme"
      ],
      "metadata": {
        "colab": {
          "base_uri": "https://localhost:8080/"
        },
        "id": "09ylXXmDagtp",
        "outputId": "06d3b805-b72d-455b-ab6a-bc13fb76f551"
      },
      "execution_count": 98,
      "outputs": [
        {
          "output_type": "stream",
          "name": "stdout",
          "text": [
            "sayi1: 3\n",
            "sayi2: 5\n",
            "Toplam..:  8\n",
            "Çıkarma..:  -2\n",
            "Çarpma..:  15\n",
            "Bölme..:  0.6\n"
          ]
        }
      ]
    },
    {
      "cell_type": "code",
      "source": [
        "#pep-8 önerisi:\n",
        "print (\"ali\")  #önermiyor\n",
        "print(\"veli\")"
      ],
      "metadata": {
        "colab": {
          "base_uri": "https://localhost:8080/"
        },
        "id": "V5J9zhyocunO",
        "outputId": "6874142b-259a-4227-8c88-a92f2c28b8be"
      },
      "execution_count": 99,
      "outputs": [
        {
          "output_type": "stream",
          "name": "stdout",
          "text": [
            "ali\n",
            "veli\n"
          ]
        }
      ]
    },
    {
      "cell_type": "code",
      "source": [
        "# Python Zen'i\n",
        "import this"
      ],
      "metadata": {
        "colab": {
          "base_uri": "https://localhost:8080/"
        },
        "id": "xKFkoVuMdMEd",
        "outputId": "2aa17510-f984-48c3-aef5-1f9bb21d2dcf"
      },
      "execution_count": 100,
      "outputs": [
        {
          "output_type": "stream",
          "name": "stdout",
          "text": [
            "The Zen of Python, by Tim Peters\n",
            "\n",
            "Beautiful is better than ugly.\n",
            "Explicit is better than implicit.\n",
            "Simple is better than complex.\n",
            "Complex is better than complicated.\n",
            "Flat is better than nested.\n",
            "Sparse is better than dense.\n",
            "Readability counts.\n",
            "Special cases aren't special enough to break the rules.\n",
            "Although practicality beats purity.\n",
            "Errors should never pass silently.\n",
            "Unless explicitly silenced.\n",
            "In the face of ambiguity, refuse the temptation to guess.\n",
            "There should be one-- and preferably only one --obvious way to do it.\n",
            "Although that way may not be obvious at first unless you're Dutch.\n",
            "Now is better than never.\n",
            "Although never is often better than *right* now.\n",
            "If the implementation is hard to explain, it's a bad idea.\n",
            "If the implementation is easy to explain, it may be a good idea.\n",
            "Namespaces are one honking great idea -- let's do more of those!\n"
          ]
        }
      ]
    },
    {
      "cell_type": "code",
      "source": [
        "print(\"ab\\'c\")"
      ],
      "metadata": {
        "colab": {
          "base_uri": "https://localhost:8080/"
        },
        "id": "9YfsGr1NgGiL",
        "outputId": "ae77e086-3be5-4e24-ad7c-0a760d1f3c6b"
      },
      "execution_count": 101,
      "outputs": [
        {
          "output_type": "stream",
          "name": "stdout",
          "text": [
            "ab'c\n"
          ]
        }
      ]
    },
    {
      "cell_type": "code",
      "source": [
        "print('d','e','p','a','r', sep=\"-\")"
      ],
      "metadata": {
        "colab": {
          "base_uri": "https://localhost:8080/"
        },
        "id": "LyZfGfyehpjM",
        "outputId": "27a4aecc-9b46-438e-8ea9-018d538a97f9"
      },
      "execution_count": 102,
      "outputs": [
        {
          "output_type": "stream",
          "name": "stdout",
          "text": [
            "d-e-p-a-r\n"
          ]
        }
      ]
    },
    {
      "cell_type": "code",
      "source": [
        "print('d','e','p','a','r', sep=\"-\",end=\"-\")"
      ],
      "metadata": {
        "colab": {
          "base_uri": "https://localhost:8080/"
        },
        "id": "MgqBSJcxhx3i",
        "outputId": "17dedcef-2588-4d37-be38-491ec10616b7"
      },
      "execution_count": 103,
      "outputs": [
        {
          "output_type": "stream",
          "name": "stdout",
          "text": [
            "d-e-p-a-r-"
          ]
        }
      ]
    },
    {
      "cell_type": "code",
      "source": [
        "print(\"Hello\", \"World_\")"
      ],
      "metadata": {
        "colab": {
          "base_uri": "https://localhost:8080/"
        },
        "id": "_6fIRf1BiXCN",
        "outputId": "b34819f1-d637-4959-be3d-a4078713643b"
      },
      "execution_count": 104,
      "outputs": [
        {
          "output_type": "stream",
          "name": "stdout",
          "text": [
            "Hello World_\n"
          ]
        }
      ]
    },
    {
      "cell_type": "code",
      "source": [
        "print(\"Hello, World_\")"
      ],
      "metadata": {
        "colab": {
          "base_uri": "https://localhost:8080/"
        },
        "id": "i7vrOqIgiapT",
        "outputId": "f79e5ccb-feba-429d-c3b0-3db6553f7293"
      },
      "execution_count": 105,
      "outputs": [
        {
          "output_type": "stream",
          "name": "stdout",
          "text": [
            "Hello, World_\n"
          ]
        }
      ]
    },
    {
      "cell_type": "code",
      "source": [
        "sonuc = 100\n",
        "print('sonuc')"
      ],
      "metadata": {
        "colab": {
          "base_uri": "https://localhost:8080/"
        },
        "id": "XhyLTObai8Ei",
        "outputId": "18378f54-47ad-4ee9-981f-27b6cb514e35"
      },
      "execution_count": 106,
      "outputs": [
        {
          "output_type": "stream",
          "name": "stdout",
          "text": [
            "sonuc\n"
          ]
        }
      ]
    },
    {
      "cell_type": "code",
      "source": [
        "text = \"This PEP contains the index of all Python Enhancement Proposals, known as PEPs.\\nPEP numbers are assigned by the PEP editors, and once assigned are never changed. \\\n",
        "\\nThe version control history of the PEP texts represent their historical record.\"\n",
        "print(text)"
      ],
      "metadata": {
        "colab": {
          "base_uri": "https://localhost:8080/"
        },
        "id": "-2hZdGedm-I4",
        "outputId": "3ffca485-f87d-48f9-b991-766e4482b8ee"
      },
      "execution_count": 115,
      "outputs": [
        {
          "output_type": "stream",
          "name": "stdout",
          "text": [
            "This PEP contains the index of all Python Enhancement Proposals, known as PEPs.\n",
            "PEP numbers are assigned by the PEP editors, and once assigned are never changed. \n",
            "The version control history of the PEP texts represent their historical record.\n"
          ]
        }
      ]
    },
    {
      "cell_type": "code",
      "source": [
        "# tek tırnak - üç tırnak farkı\n",
        "# birden fazla satırda 3 tırnak kullanımı tercih edilir.\n",
        "text = \"\"\"This PEP contains the index of all Python Enhancement Proposals, known as PEPs. \n",
        "PEP numbers are assigned by the PEP editors, and once assigned are never changed. \n",
        "The version control history of the PEP texts represent their historical record.\"\"\"\n",
        "print(text)"
      ],
      "metadata": {
        "colab": {
          "base_uri": "https://localhost:8080/"
        },
        "id": "164NkGeXlEmK",
        "outputId": "e906a746-a6d3-4ffa-d18b-a4a15e8336b0"
      },
      "execution_count": 107,
      "outputs": [
        {
          "output_type": "stream",
          "name": "stdout",
          "text": [
            "This PEP contains the index of all Python Enhancement Proposals, known as PEPs. \n",
            "PEP numbers are assigned by the PEP editors, and once assigned are never changed. \n",
            "The version control history of the PEP texts represent their historical record.\n"
          ]
        }
      ]
    },
    {
      "cell_type": "code",
      "source": [
        "# Veri tipleri:\n",
        "# str       : string (metin/sözel) tipinde veriler\n",
        "# int       : tamsayı (integer) tipinde veriler\n",
        "# float     : kesirli sayılar için kullanılan veri tipi\n",
        "# complex   : karmaşık sayılar için veri tipi\n",
        "# bool      : True/False değer üreten veri tipi"
      ],
      "metadata": {
        "id": "Uj_u_SqzljU5"
      },
      "execution_count": null,
      "outputs": []
    },
    {
      "cell_type": "code",
      "source": [
        "help(math.sqrt)"
      ],
      "metadata": {
        "colab": {
          "base_uri": "https://localhost:8080/"
        },
        "id": "xjSPZyTcmgY9",
        "outputId": "f7c75d0a-d8a0-493c-bf57-022c7cf649cd"
      },
      "execution_count": 110,
      "outputs": [
        {
          "output_type": "stream",
          "name": "stdout",
          "text": [
            "Help on built-in function sqrt in module math:\n",
            "\n",
            "sqrt(x, /)\n",
            "    Return the square root of x.\n",
            "\n"
          ]
        }
      ]
    },
    {
      "cell_type": "code",
      "source": [
        "\"\"\" docstring dökümanı olşturmada kullanılır.... \"\"\"\n",
        "import math\n",
        "math.sqrt.__doc__"
      ],
      "metadata": {
        "colab": {
          "base_uri": "https://localhost:8080/",
          "height": 35
        },
        "id": "ycGCunsnmLFd",
        "outputId": "239f69e5-3148-47e6-eab4-326f305f5f4e"
      },
      "execution_count": 109,
      "outputs": [
        {
          "output_type": "execute_result",
          "data": {
            "text/plain": [
              "'Return the square root of x.'"
            ],
            "application/vnd.google.colaboratory.intrinsic+json": {
              "type": "string"
            }
          },
          "metadata": {},
          "execution_count": 109
        }
      ]
    },
    {
      "cell_type": "code",
      "source": [
        "__doc__  # bir fonksiyon, modül, programın açıklayıcı metni almada __doc__ kullanılır."
      ],
      "metadata": {
        "colab": {
          "base_uri": "https://localhost:8080/",
          "height": 35
        },
        "id": "CliDJCnwmp8y",
        "outputId": "e1ebb2ed-fb83-4d7e-8a4e-1d39874b4251"
      },
      "execution_count": 111,
      "outputs": [
        {
          "output_type": "execute_result",
          "data": {
            "text/plain": [
              "' docstring dökümanı olşuturmada kullanılır.... '"
            ],
            "application/vnd.google.colaboratory.intrinsic+json": {
              "type": "string"
            }
          },
          "metadata": {},
          "execution_count": 111
        }
      ]
    },
    {
      "cell_type": "code",
      "source": [
        "# PEP-8 önerisi: Sabitler (program boyunca değeri değişmeyen ifadeler) büyük harfle yazılır\n",
        "FILES = 'python_depar_1.ipynb'\n",
        "print(FILES)"
      ],
      "metadata": {
        "colab": {
          "base_uri": "https://localhost:8080/"
        },
        "id": "rup6j9BcnlYM",
        "outputId": "70e9c942-878e-420b-ee5d-e8d2e234c1b5"
      },
      "execution_count": 116,
      "outputs": [
        {
          "output_type": "stream",
          "name": "stdout",
          "text": [
            "python_depar_1.ipynb\n"
          ]
        }
      ]
    },
    {
      "cell_type": "code",
      "source": [
        "# PEP-8 önerisi\n",
        "# Correct:\n",
        "import os\n",
        "import sys\n",
        "# Wrong:\n",
        "import sys, os"
      ],
      "metadata": {
        "id": "uS_bmKF7oPC8"
      },
      "execution_count": null,
      "outputs": []
    },
    {
      "cell_type": "code",
      "source": [
        "#PEP-8 önerisi: değişken isimleri küçük harf olmalı\n",
        "a, b, c = 2, 3, 4\n",
        "PI = 3.1415\n",
        "print(a, b, c, PI, sep=\"\\n\")"
      ],
      "metadata": {
        "colab": {
          "base_uri": "https://localhost:8080/"
        },
        "id": "VzUr5PoYoUV6",
        "outputId": "8e5747bb-4b60-4be0-eedb-648e682b95dd"
      },
      "execution_count": 118,
      "outputs": [
        {
          "output_type": "stream",
          "name": "stdout",
          "text": [
            "2\n",
            "3\n",
            "4\n",
            "3.1415\n"
          ]
        }
      ]
    },
    {
      "cell_type": "code",
      "source": [
        "my_age = 45\n",
        "your_age = 33\n",
        "my_age = your_age  # sağ taraf sol tarafa aktarılır\n",
        "print(my_age)"
      ],
      "metadata": {
        "colab": {
          "base_uri": "https://localhost:8080/"
        },
        "id": "z_fC9kMLow1a",
        "outputId": "bb04085e-b79b-4d60-db86-362d023bc67c"
      },
      "execution_count": 119,
      "outputs": [
        {
          "output_type": "stream",
          "name": "stdout",
          "text": [
            "33\n"
          ]
        }
      ]
    },
    {
      "cell_type": "code",
      "source": [
        "# İki değişikenin değerini nasıl değiştirebiliriz;\n",
        "a, b = 3, 5\n",
        "# a : 5, b: 3 olaack şekilde nasıl kodlayabiliriz\n",
        "a, b = b, a \n",
        "print(\"a:\", a)\n",
        "print(\"b:\", b)"
      ],
      "metadata": {
        "colab": {
          "base_uri": "https://localhost:8080/"
        },
        "id": "8a6vzQSFpATn",
        "outputId": "b1b19d89-dc4b-4520-879b-f8383c9fb345"
      },
      "execution_count": 121,
      "outputs": [
        {
          "output_type": "stream",
          "name": "stdout",
          "text": [
            "a: 5\n",
            "b: 3\n"
          ]
        }
      ]
    },
    {
      "cell_type": "code",
      "source": [
        "# İki değişikenin değerini nasıl değiştirebiliriz;\n",
        "a, b = 3, 5\n",
        "#klasik dillerde 3. değişken kullanmalısınız\n",
        "c = a # a c ye aktarıldı\n",
        "a = b \n",
        "b = c \n",
        "print(\"a:\", a)\n",
        "print(\"b:\", b)"
      ],
      "metadata": {
        "colab": {
          "base_uri": "https://localhost:8080/"
        },
        "id": "1bqG3gzfpmr9",
        "outputId": "7a3c6350-07af-4a57-e2c2-6069f1d7d12c"
      },
      "execution_count": 122,
      "outputs": [
        {
          "output_type": "stream",
          "name": "stdout",
          "text": [
            "a: 5\n",
            "b: 3\n"
          ]
        }
      ]
    },
    {
      "cell_type": "code",
      "source": [
        "# PEP-8 önerisi: bir değişken ismi birden fazla kelimeden oluşuyorsa arada _ kullanılmalı\n",
        "ad_soyad = input(\"Adınızı giriniz.: \")\n",
        "print(ad_soyad)"
      ],
      "metadata": {
        "id": "VX43rM7Dp2jV"
      },
      "execution_count": null,
      "outputs": []
    },
    {
      "cell_type": "code",
      "source": [
        "import keyword\n",
        "# O dile ait komutlar değişken ismi olarak kullanılamaz\n",
        "# Python diline ait komutlar(keyword) nasıl öğreniriz.\n",
        "import keyword\n",
        "print(keyword.kwlist)"
      ],
      "metadata": {
        "colab": {
          "base_uri": "https://localhost:8080/"
        },
        "id": "hiypwHUnq4dJ",
        "outputId": "0949b1b0-112b-4474-c51a-fb0473e69fd6"
      },
      "execution_count": 123,
      "outputs": [
        {
          "output_type": "stream",
          "name": "stdout",
          "text": [
            "['False', 'None', 'True', 'and', 'as', 'assert', 'async', 'await', 'break', 'class', 'continue', 'def', 'del', 'elif', 'else', 'except', 'finally', 'for', 'from', 'global', 'if', 'import', 'in', 'is', 'lambda', 'nonlocal', 'not', 'or', 'pass', 'raise', 'return', 'try', 'while', 'with', 'yield']\n"
          ]
        }
      ]
    }
  ]
}