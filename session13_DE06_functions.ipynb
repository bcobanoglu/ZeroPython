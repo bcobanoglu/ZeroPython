{
  "nbformat": 4,
  "nbformat_minor": 0,
  "metadata": {
    "colab": {
      "provenance": []
    },
    "kernelspec": {
      "name": "python3",
      "display_name": "Python 3"
    },
    "language_info": {
      "name": "python"
    }
  },
  "cells": [
    {
      "cell_type": "markdown",
      "source": [
        "# Fonksiyonlar\n",
        "\n",
        "\n",
        "*   Built-in fonksiyonlar\n",
        "*   Kullanıcı tanımlı fonksiyonlar\n",
        "\n"
      ],
      "metadata": {
        "id": "h_5rUgqdREX0"
      }
    },
    {
      "cell_type": "code",
      "execution_count": 1,
      "metadata": {
        "colab": {
          "base_uri": "https://localhost:8080/"
        },
        "id": "ZF-zdMlVgbqt",
        "outputId": "4bebe635-993e-4001-d0eb-40efd68580f1"
      },
      "outputs": [
        {
          "output_type": "execute_result",
          "data": {
            "text/plain": [
              "[1, 2, 3, 4, 5, 6, 7, 8, 9]"
            ]
          },
          "metadata": {},
          "execution_count": 1
        }
      ],
      "source": [
        "list(range(1,10))"
      ]
    },
    {
      "cell_type": "code",
      "source": [
        "[i for i in range(1,10)]"
      ],
      "metadata": {
        "colab": {
          "base_uri": "https://localhost:8080/"
        },
        "id": "gjn1frU-h71S",
        "outputId": "8d833b06-fdab-4116-cf4f-4a18ecae4429"
      },
      "execution_count": 2,
      "outputs": [
        {
          "output_type": "execute_result",
          "data": {
            "text/plain": [
              "[1, 2, 3, 4, 5, 6, 7, 8, 9]"
            ]
          },
          "metadata": {},
          "execution_count": 2
        }
      ]
    },
    {
      "cell_type": "code",
      "source": [
        "[i for i, j in enumerate(\"abcdefghi\",1)]"
      ],
      "metadata": {
        "colab": {
          "base_uri": "https://localhost:8080/"
        },
        "id": "jfUlCM1qh_fC",
        "outputId": "f2021f19-5dce-469c-9ca1-8aca31285fb1"
      },
      "execution_count": 3,
      "outputs": [
        {
          "output_type": "execute_result",
          "data": {
            "text/plain": [
              "[1, 2, 3, 4, 5, 6, 7, 8, 9]"
            ]
          },
          "metadata": {},
          "execution_count": 3
        }
      ]
    },
    {
      "cell_type": "code",
      "source": [
        "[j for i, j in enumerate(\"abcdefghi\",1)]"
      ],
      "metadata": {
        "colab": {
          "base_uri": "https://localhost:8080/"
        },
        "id": "G6oX6qJsiFXZ",
        "outputId": "4bbddadb-8498-46f2-98a9-eca69809d488"
      },
      "execution_count": 4,
      "outputs": [
        {
          "output_type": "execute_result",
          "data": {
            "text/plain": [
              "['a', 'b', 'c', 'd', 'e', 'f', 'g', 'h', 'i']"
            ]
          },
          "metadata": {},
          "execution_count": 4
        }
      ]
    },
    {
      "cell_type": "code",
      "source": [
        "help(print)"
      ],
      "metadata": {
        "colab": {
          "base_uri": "https://localhost:8080/"
        },
        "id": "FerRKQJGnL5-",
        "outputId": "ba4f0817-d36e-496e-e49c-60de9b6f362c"
      },
      "execution_count": 5,
      "outputs": [
        {
          "output_type": "stream",
          "name": "stdout",
          "text": [
            "Help on built-in function print in module builtins:\n",
            "\n",
            "print(...)\n",
            "    print(value, ..., sep=' ', end='\\n', file=sys.stdout, flush=False)\n",
            "    \n",
            "    Prints the values to a stream, or to sys.stdout by default.\n",
            "    Optional keyword arguments:\n",
            "    file:  a file-like object (stream); defaults to the current sys.stdout.\n",
            "    sep:   string inserted between values, default a space.\n",
            "    end:   string appended after the last value, default a newline.\n",
            "    flush: whether to forcibly flush the stream.\n",
            "\n"
          ]
        }
      ]
    },
    {
      "cell_type": "code",
      "source": [
        "import builtins\n",
        "dir(builtins)"
      ],
      "metadata": {
        "id": "UhN_qGLWoJoS"
      },
      "execution_count": null,
      "outputs": []
    },
    {
      "cell_type": "code",
      "source": [
        "!python3 --version"
      ],
      "metadata": {
        "colab": {
          "base_uri": "https://localhost:8080/"
        },
        "id": "wQnBgNpppc2j",
        "outputId": "d91db0c8-e4ac-41fc-d024-19cc3d2adf81"
      },
      "execution_count": 10,
      "outputs": [
        {
          "output_type": "stream",
          "name": "stdout",
          "text": [
            "Python 3.10.11\n"
          ]
        }
      ]
    },
    {
      "cell_type": "code",
      "source": [
        "built_func = []\n",
        "for i in dir(builtins):\n",
        "    if i.islower() and not i.startswith('_'):\n",
        "        built_func.append(i)\n",
        "\n",
        "print(built_func)\n",
        "print(\"Sayısı.:\", len(built_func))\n"
      ],
      "metadata": {
        "colab": {
          "base_uri": "https://localhost:8080/"
        },
        "id": "DyrLzMT_ob1W",
        "outputId": "90846742-a86e-41fc-cec2-d93f7765b76b"
      },
      "execution_count": 9,
      "outputs": [
        {
          "output_type": "stream",
          "name": "stdout",
          "text": [
            "['abs', 'aiter', 'all', 'anext', 'any', 'ascii', 'bin', 'bool', 'breakpoint', 'bytearray', 'bytes', 'callable', 'chr', 'classmethod', 'compile', 'complex', 'copyright', 'credits', 'delattr', 'dict', 'dir', 'display', 'divmod', 'enumerate', 'eval', 'exec', 'execfile', 'filter', 'float', 'format', 'frozenset', 'get_ipython', 'getattr', 'globals', 'hasattr', 'hash', 'help', 'hex', 'id', 'input', 'int', 'isinstance', 'issubclass', 'iter', 'len', 'license', 'list', 'locals', 'map', 'max', 'memoryview', 'min', 'next', 'object', 'oct', 'open', 'ord', 'pow', 'print', 'property', 'range', 'repr', 'reversed', 'round', 'runfile', 'set', 'setattr', 'slice', 'sorted', 'staticmethod', 'str', 'sum', 'super', 'tuple', 'type', 'vars', 'zip']\n",
            "Sayısı.: 77\n"
          ]
        }
      ]
    },
    {
      "cell_type": "code",
      "source": [
        "names = [\"Ali\", \"Veli\", \"Tom\", \"False\"]  # hepsi True ise True\n",
        "mood = [\"Happy\", \"Sad\", None]   # herhangi biri False ise False\n",
        "empty = {}                      # tamamen boşsa True\n",
        "print(all(names), all(mood), all(empty), sep=\"\\n\")"
      ],
      "metadata": {
        "colab": {
          "base_uri": "https://localhost:8080/"
        },
        "id": "JYLwv3xAvDW7",
        "outputId": "f9a0b7a0-4bd6-426d-a2ba-d36b61b11c9e"
      },
      "execution_count": 11,
      "outputs": [
        {
          "output_type": "stream",
          "name": "stdout",
          "text": [
            "True\n",
            "False\n",
            "True\n"
          ]
        }
      ]
    },
    {
      "cell_type": "code",
      "source": [
        "names = [\"Ali\", \"Veli\", \"Tom\", \"False\"]  # herhangi biri True ise True\n",
        "mood = [\"Happy\", \"Sad\", None]            # herhangi biri True ise True        \n",
        "empty = {}                               # tamamen boşsa False\n",
        "print(any(names), any(mood), any(empty), sep=\"\\n\")"
      ],
      "metadata": {
        "colab": {
          "base_uri": "https://localhost:8080/"
        },
        "id": "x6ccMVj7vSSW",
        "outputId": "a0f044db-b078-441a-ad73-9cb6f95c44f9"
      },
      "execution_count": 12,
      "outputs": [
        {
          "output_type": "stream",
          "name": "stdout",
          "text": [
            "True\n",
            "True\n",
            "False\n"
          ]
        }
      ]
    },
    {
      "cell_type": "code",
      "source": [
        "listA = [\"Susan\", \"Tom\", 0, False,\"0.0\"]\n",
        "filter_listA = filter(None, listA)  # fonksiyon: None ise listeden Falsy değerleri kaldırır\n",
        "print(\"Filtreledim..:\")\n",
        "for i in filter_listA:\n",
        "    print(i)"
      ],
      "metadata": {
        "colab": {
          "base_uri": "https://localhost:8080/"
        },
        "id": "ceimcORhvj7E",
        "outputId": "205de4c0-8a64-4c8e-da84-d5209a2eba63"
      },
      "execution_count": 14,
      "outputs": [
        {
          "output_type": "stream",
          "name": "stdout",
          "text": [
            "Filtreledim..:\n",
            "Susan\n",
            "Tom\n",
            "0.0\n"
          ]
        }
      ]
    },
    {
      "cell_type": "code",
      "source": [
        "listA = [\"Susan\", \"Tom\", 0, False,\"0.0\"]\n",
        "filter_listA = filter(None, listA) \n",
        "filter_listA "
      ],
      "metadata": {
        "colab": {
          "base_uri": "https://localhost:8080/"
        },
        "id": "6nKn93h4w1C7",
        "outputId": "67e28550-75c9-4b39-9a2f-ae0d92b45a40"
      },
      "execution_count": 17,
      "outputs": [
        {
          "output_type": "execute_result",
          "data": {
            "text/plain": [
              "<filter at 0x7fa8ed52e0b0>"
            ]
          },
          "metadata": {},
          "execution_count": 17
        }
      ]
    },
    {
      "cell_type": "code",
      "source": [
        "listA = [\"Susan\", \"Tom\", 0, False,\"0.0\"]\n",
        "filter_listA = filter(None, listA) \n",
        "list(filter_listA) "
      ],
      "metadata": {
        "colab": {
          "base_uri": "https://localhost:8080/"
        },
        "id": "i4rOoED3w5zR",
        "outputId": "d0e5433e-4081-46b6-ee00-501c32ed2fa3"
      },
      "execution_count": 18,
      "outputs": [
        {
          "output_type": "execute_result",
          "data": {
            "text/plain": [
              "['Susan', 'Tom', '0.0']"
            ]
          },
          "metadata": {},
          "execution_count": 18
        }
      ]
    },
    {
      "cell_type": "code",
      "source": [
        "groce = [\"bread\", \"water\", \"olive\"]\n",
        "enum_groce = enumerate(groce)\n",
        "print(list(enum_groce))"
      ],
      "metadata": {
        "colab": {
          "base_uri": "https://localhost:8080/"
        },
        "id": "Pes83UKIwY8p",
        "outputId": "85a83a09-19fb-47de-d08c-d52bebc758f1"
      },
      "execution_count": 16,
      "outputs": [
        {
          "output_type": "stream",
          "name": "stdout",
          "text": [
            "[(0, 'bread'), (1, 'water'), (2, 'olive')]\n"
          ]
        }
      ]
    },
    {
      "cell_type": "code",
      "source": [
        "enum_groce = enumerate(groce, 10)\n",
        "print(list(enum_groce))"
      ],
      "metadata": {
        "colab": {
          "base_uri": "https://localhost:8080/"
        },
        "id": "vYiQauD1yhxr",
        "outputId": "2881c40c-3ee2-4892-fe60-a512f0327ba7"
      },
      "execution_count": 26,
      "outputs": [
        {
          "output_type": "stream",
          "name": "stdout",
          "text": [
            "[(10, 'bread'), (11, 'water'), (12, 'olive')]\n"
          ]
        }
      ]
    },
    {
      "cell_type": "code",
      "source": [
        "# Haftanın günlerini numaralandıran programı enumerate() ile kodlayınız...\n",
        "days = [\"Monday\", \"Tuesday\", \"Wednesday\",\"Thursday\",\"Friday\", \"Saturday\", \"Sunday\"]\n",
        "day_nums = enumerate(days, 1)\n",
        "# print(list(day_nums))\n",
        "for k,v in day_nums:\n",
        "    print(f\"{k}.day..: {v}\")"
      ],
      "metadata": {
        "colab": {
          "base_uri": "https://localhost:8080/"
        },
        "id": "gOsAIRznw_CG",
        "outputId": "f8dcac58-5927-4b2b-8644-bec0d65f39e4"
      },
      "execution_count": 27,
      "outputs": [
        {
          "output_type": "stream",
          "name": "stdout",
          "text": [
            "1.day..: Monday\n",
            "2.day..: Tuesday\n",
            "3.day..: Wednesday\n",
            "4.day..: Thursday\n",
            "5.day..: Friday\n",
            "6.day..: Saturday\n",
            "7.day..: Sunday\n"
          ]
        }
      ]
    },
    {
      "cell_type": "code",
      "source": [
        "#@author: Emre\n",
        "kursiyer = [\"Emre\", \"Ali Said\", \"Numan\", \"Sabahattin\"]\n",
        "kursiyer_nums = enumerate(kursiyer,6110)\n",
        "for k,v in kursiyer_nums:\n",
        "    print(f\"{v}'nin numrasi..: {k}\")"
      ],
      "metadata": {
        "colab": {
          "base_uri": "https://localhost:8080/"
        },
        "id": "dmG1n6n3zeqL",
        "outputId": "8c673b53-9150-4f32-f0f3-2a16bf16cf51"
      },
      "execution_count": 28,
      "outputs": [
        {
          "output_type": "stream",
          "name": "stdout",
          "text": [
            "Emre'nin numrasi..: 6110\n",
            "Ali Said'nin numrasi..: 6111\n",
            "Numan'nin numrasi..: 6112\n",
            "Sabahattin'nin numrasi..: 6113\n"
          ]
        }
      ]
    },
    {
      "cell_type": "code",
      "source": [
        "#@author: sabahattin\n",
        "students = ['Ali Said', 'Emre', 'Numan', 'Sabahattin']\n",
        "student_num = enumerate(students,6110)\n",
        "for k,v in student_num:\n",
        "    print(f'{v} : DA{k}')"
      ],
      "metadata": {
        "colab": {
          "base_uri": "https://localhost:8080/"
        },
        "id": "ugDM43SXzltH",
        "outputId": "081e2e3b-eafd-406b-9d41-0639e0db3b87"
      },
      "execution_count": 29,
      "outputs": [
        {
          "output_type": "stream",
          "name": "stdout",
          "text": [
            "Ali Said : DA6110\n",
            "Emre : DA6111\n",
            "Numan : DA6112\n",
            "Sabahattin : DA6113\n"
          ]
        }
      ]
    },
    {
      "cell_type": "code",
      "source": [
        "#@author: numan\n",
        "kursiyer = [\"Emre\",\"Numan\",\"Sabahattin\",\"Ali Said\"]\n",
        "num1 = enumerate(kursiyer, 6110)\n",
        "print(list(num1))\n",
        "for k , v in num1:\n",
        "  print(f\"{k} {v}\")"
      ],
      "metadata": {
        "colab": {
          "base_uri": "https://localhost:8080/"
        },
        "id": "ABLNMnYszzRB",
        "outputId": "fc7e3d97-0bc8-4262-ad2d-ed8471bb1f00"
      },
      "execution_count": 30,
      "outputs": [
        {
          "output_type": "stream",
          "name": "stdout",
          "text": [
            "[(6110, 'Emre'), (6111, 'Numan'), (6112, 'Sabahattin'), (6113, 'Ali Said')]\n"
          ]
        }
      ]
    },
    {
      "cell_type": "code",
      "source": [
        "#@author: ali said\n",
        "kursiyer = [\"Emre\", \"Ali Said\", \"Numan\", \"Sabahattin\"]\n",
        "nums_kursiyer = enumerate(kursiyer,6110)\n",
        "for i,j in nums_kursiyer:\n",
        "    print(f\"{i} numaralı kursiyer {j}\")"
      ],
      "metadata": {
        "colab": {
          "base_uri": "https://localhost:8080/"
        },
        "id": "aC_DO0cpz700",
        "outputId": "778de489-04e4-4bf4-9a73-f5135614f226"
      },
      "execution_count": 31,
      "outputs": [
        {
          "output_type": "stream",
          "name": "stdout",
          "text": [
            "6110 numaralı kursiyer Emre\n",
            "6111 numaralı kursiyer Ali Said\n",
            "6112 numaralı kursiyer Numan\n",
            "6113 numaralı kursiyer Sabahattin\n"
          ]
        }
      ]
    },
    {
      "cell_type": "code",
      "source": [
        "nums = [-222, 0, 56, 44, 34, 23]\n",
        "print(\"En büyük eleman.: \", max(nums))\n",
        "print(\"En küçük eleman.: \", min(nums))"
      ],
      "metadata": {
        "colab": {
          "base_uri": "https://localhost:8080/"
        },
        "id": "UxG9yuKj0rnK",
        "outputId": "7cf8343e-11fd-4db5-8699-abdcbdfd6269"
      },
      "execution_count": 33,
      "outputs": [
        {
          "output_type": "stream",
          "name": "stdout",
          "text": [
            "En büyük eleman.:  56\n",
            "En küçük eleman.:  -222\n"
          ]
        }
      ]
    },
    {
      "cell_type": "code",
      "source": [
        "nums = [-222, 0, 56, 44, 34, 23]\n",
        "nums.sort()  #in-place: bir değişkene atanamaz\n",
        "print(\"En büyük 2.eleman.: \", nums[-2])\n",
        "print(\"En küçük 2.eleman.: \", nums[1])"
      ],
      "metadata": {
        "colab": {
          "base_uri": "https://localhost:8080/"
        },
        "id": "VnosFctd1E9M",
        "outputId": "18665f26-de5a-4d55-c449-227236c84c92"
      },
      "execution_count": 35,
      "outputs": [
        {
          "output_type": "stream",
          "name": "stdout",
          "text": [
            "En büyük 2.eleman.:  44\n",
            "En küçük 2.eleman.:  0\n"
          ]
        }
      ]
    },
    {
      "cell_type": "code",
      "source": [
        "a = nums.sort() \n",
        "print(a)"
      ],
      "metadata": {
        "colab": {
          "base_uri": "https://localhost:8080/"
        },
        "id": "RfGzQq5C2BDM",
        "outputId": "c479035c-f3f1-494c-9f14-c93e78d1e158"
      },
      "execution_count": 37,
      "outputs": [
        {
          "output_type": "stream",
          "name": "stdout",
          "text": [
            "None\n"
          ]
        }
      ]
    },
    {
      "cell_type": "code",
      "source": [
        "nums = [-222, 0, 56, 44, 34, 23]\n",
        "nums_sirali = sorted(nums)  \n",
        "print(\"En büyük 2.eleman.: \", nums_sirali[-2])\n",
        "print(\"En küçük 2.eleman.: \", nums_sirali[1])"
      ],
      "metadata": {
        "colab": {
          "base_uri": "https://localhost:8080/"
        },
        "id": "piqRjjQJ1z-u",
        "outputId": "13a013f7-3c70-483b-cb04-9b0922a8d77d"
      },
      "execution_count": 36,
      "outputs": [
        {
          "output_type": "stream",
          "name": "stdout",
          "text": [
            "En büyük 2.eleman.:  44\n",
            "En küçük 2.eleman.:  0\n"
          ]
        }
      ]
    },
    {
      "cell_type": "code",
      "source": [
        "sum([.1, .1, .1, .1, .1, .1, .1, .1, .1, .1])\n",
        "#0.9999999999999999"
      ],
      "metadata": {
        "colab": {
          "base_uri": "https://localhost:8080/"
        },
        "id": "9itGBr-z2ySQ",
        "outputId": "136a9a64-a7e7-4fc1-ef19-6caab7c66ed1"
      },
      "execution_count": 38,
      "outputs": [
        {
          "output_type": "execute_result",
          "data": {
            "text/plain": [
              "0.9999999999999999"
            ]
          },
          "metadata": {},
          "execution_count": 38
        }
      ]
    },
    {
      "cell_type": "code",
      "source": [
        "import math\n",
        "math.fsum([.1, .1, .1, .1, .1, .1, .1, .1, .1, .1])"
      ],
      "metadata": {
        "colab": {
          "base_uri": "https://localhost:8080/"
        },
        "id": "cm87aqLU21tW",
        "outputId": "9b7b6306-7264-41e5-ba8c-2569a4e65fb8"
      },
      "execution_count": 39,
      "outputs": [
        {
          "output_type": "execute_result",
          "data": {
            "text/plain": [
              "1.0"
            ]
          },
          "metadata": {},
          "execution_count": 39
        }
      ]
    },
    {
      "cell_type": "code",
      "source": [
        "sum([.1, .1, .1, .1, .1, .1, .1, .1, .1, .1], 10)\n",
        "#10.9999999999999999"
      ],
      "metadata": {
        "colab": {
          "base_uri": "https://localhost:8080/"
        },
        "id": "upaVfC7O2_bi",
        "outputId": "ec845839-41df-4a39-80b3-eb3dbb6ae882"
      },
      "execution_count": 40,
      "outputs": [
        {
          "output_type": "execute_result",
          "data": {
            "text/plain": [
              "10.999999999999996"
            ]
          },
          "metadata": {},
          "execution_count": 40
        }
      ]
    },
    {
      "cell_type": "code",
      "source": [
        "0.1 + 0.1 + 0.1 == 0.3"
      ],
      "metadata": {
        "colab": {
          "base_uri": "https://localhost:8080/"
        },
        "id": "AlEYb41q38Nk",
        "outputId": "4e79e368-a2de-47a1-a252-dc60641a4487"
      },
      "execution_count": 42,
      "outputs": [
        {
          "output_type": "execute_result",
          "data": {
            "text/plain": [
              "False"
            ]
          },
          "metadata": {},
          "execution_count": 42
        }
      ]
    },
    {
      "cell_type": "code",
      "source": [
        "1/10"
      ],
      "metadata": {
        "colab": {
          "base_uri": "https://localhost:8080/"
        },
        "id": "ZmNDMRte4PK-",
        "outputId": "c32ebfe4-0223-42f2-dc3f-643d5762c321"
      },
      "execution_count": 47,
      "outputs": [
        {
          "output_type": "execute_result",
          "data": {
            "text/plain": [
              "0.1"
            ]
          },
          "metadata": {},
          "execution_count": 47
        }
      ]
    },
    {
      "cell_type": "code",
      "source": [
        "3/10"
      ],
      "metadata": {
        "colab": {
          "base_uri": "https://localhost:8080/"
        },
        "id": "QcJL9-Df4MOt",
        "outputId": "4210ef3f-cba7-4cc3-9161-afe1410e0271"
      },
      "execution_count": 46,
      "outputs": [
        {
          "output_type": "execute_result",
          "data": {
            "text/plain": [
              "0.3"
            ]
          },
          "metadata": {},
          "execution_count": 46
        }
      ]
    },
    {
      "cell_type": "code",
      "source": [
        "(1/10 + 1/10 + 1/10) == 3/10"
      ],
      "metadata": {
        "colab": {
          "base_uri": "https://localhost:8080/"
        },
        "id": "3VYw9NR_4AvW",
        "outputId": "fcbaf712-f142-4522-f16a-517cd81743e7"
      },
      "execution_count": 45,
      "outputs": [
        {
          "output_type": "execute_result",
          "data": {
            "text/plain": [
              "False"
            ]
          },
          "metadata": {},
          "execution_count": 45
        }
      ]
    },
    {
      "cell_type": "code",
      "source": [
        "round(2.5)"
      ],
      "metadata": {
        "colab": {
          "base_uri": "https://localhost:8080/"
        },
        "id": "pW94MrNu4grG",
        "outputId": "aa46dbf1-e823-4775-df4f-b8c9434a8c78"
      },
      "execution_count": 48,
      "outputs": [
        {
          "output_type": "execute_result",
          "data": {
            "text/plain": [
              "2"
            ]
          },
          "metadata": {},
          "execution_count": 48
        }
      ]
    },
    {
      "cell_type": "code",
      "source": [
        "round(2.51)"
      ],
      "metadata": {
        "colab": {
          "base_uri": "https://localhost:8080/"
        },
        "id": "s_0I2JU84sfM",
        "outputId": "0415930e-09f9-4e02-999e-7258fec7cf8b"
      },
      "execution_count": 51,
      "outputs": [
        {
          "output_type": "execute_result",
          "data": {
            "text/plain": [
              "3"
            ]
          },
          "metadata": {},
          "execution_count": 51
        }
      ]
    },
    {
      "cell_type": "code",
      "source": [
        "round(2.6)"
      ],
      "metadata": {
        "colab": {
          "base_uri": "https://localhost:8080/"
        },
        "id": "tnM4wMBd4kiA",
        "outputId": "f7ed6745-cce4-4d3f-d463-4ae4f72ab966"
      },
      "execution_count": 49,
      "outputs": [
        {
          "output_type": "execute_result",
          "data": {
            "text/plain": [
              "3"
            ]
          },
          "metadata": {},
          "execution_count": 49
        }
      ]
    },
    {
      "cell_type": "code",
      "source": [
        "round(2.49)"
      ],
      "metadata": {
        "colab": {
          "base_uri": "https://localhost:8080/"
        },
        "id": "a-8lIoCl4nAQ",
        "outputId": "aa8801bd-df58-4ecb-e9e5-863917309dee"
      },
      "execution_count": 50,
      "outputs": [
        {
          "output_type": "execute_result",
          "data": {
            "text/plain": [
              "2"
            ]
          },
          "metadata": {},
          "execution_count": 50
        }
      ]
    },
    {
      "cell_type": "code",
      "source": [
        "round(2.675, 2)"
      ],
      "metadata": {
        "colab": {
          "base_uri": "https://localhost:8080/"
        },
        "id": "-2PhNxd3_KD1",
        "outputId": "e4011047-e03b-4306-c1c2-47a17d97ed95"
      },
      "execution_count": 59,
      "outputs": [
        {
          "output_type": "execute_result",
          "data": {
            "text/plain": [
              "2.67"
            ]
          },
          "metadata": {},
          "execution_count": 59
        }
      ]
    },
    {
      "cell_type": "code",
      "source": [
        "import numpy as np\n",
        "np.round(2.675, 2)  # tavsiye edilir."
      ],
      "metadata": {
        "colab": {
          "base_uri": "https://localhost:8080/"
        },
        "id": "f0iJwxW3_ONL",
        "outputId": "03188f7b-4427-4473-dfd4-e3e0ca340f73"
      },
      "execution_count": 60,
      "outputs": [
        {
          "output_type": "execute_result",
          "data": {
            "text/plain": [
              "2.68"
            ]
          },
          "metadata": {},
          "execution_count": 60
        }
      ]
    },
    {
      "cell_type": "code",
      "source": [
        "import decimal\n",
        "num = decimal.Decimal('2.675')\n",
        "print(round(num, 2))"
      ],
      "metadata": {
        "colab": {
          "base_uri": "https://localhost:8080/"
        },
        "id": "R2gFuizI_fuz",
        "outputId": "2689bcc6-f7eb-499e-91f6-e0e26ca2663e"
      },
      "execution_count": 61,
      "outputs": [
        {
          "output_type": "stream",
          "name": "stdout",
          "text": [
            "2.68\n"
          ]
        }
      ]
    },
    {
      "cell_type": "code",
      "source": [
        "math.ceil(2.5)"
      ],
      "metadata": {
        "colab": {
          "base_uri": "https://localhost:8080/"
        },
        "id": "7rKvBC9640ET",
        "outputId": "8f262b68-8ff2-44db-e92d-18b4b3793045"
      },
      "execution_count": 52,
      "outputs": [
        {
          "output_type": "execute_result",
          "data": {
            "text/plain": [
              "3"
            ]
          },
          "metadata": {},
          "execution_count": 52
        }
      ]
    },
    {
      "cell_type": "code",
      "source": [
        "math.floor(2.5)"
      ],
      "metadata": {
        "colab": {
          "base_uri": "https://localhost:8080/"
        },
        "id": "U_zy6nAG48Su",
        "outputId": "a3f408e6-ade3-4e3b-fd21-0fd76b0755b5"
      },
      "execution_count": 53,
      "outputs": [
        {
          "output_type": "execute_result",
          "data": {
            "text/plain": [
              "2"
            ]
          },
          "metadata": {},
          "execution_count": 53
        }
      ]
    },
    {
      "cell_type": "code",
      "source": [
        "# argümansız/parametresiz geri değer döndürmeyen fonk.\n",
        "def kase():\n",
        "    print(\"Clarusway Akademi\")\n",
        "\n",
        "# fonksiyon 1 kez tanımlanır, çokkez çağrılır....\n",
        "kase()\n",
        "kase()\n",
        "kase()"
      ],
      "metadata": {
        "colab": {
          "base_uri": "https://localhost:8080/"
        },
        "id": "tRNNFE6g8P2A",
        "outputId": "473f7a7e-3dae-4348-d945-b731baf9bb22"
      },
      "execution_count": 54,
      "outputs": [
        {
          "output_type": "stream",
          "name": "stdout",
          "text": [
            "Clarusway Akademi\n",
            "Clarusway Akademi\n",
            "Clarusway Akademi\n"
          ]
        }
      ]
    },
    {
      "cell_type": "code",
      "source": [
        "# argümanlı/parametreli geri değer döndürmeyen fonk.\n",
        "def my_add(a,b):\n",
        "    print(a + b)\n",
        "\n",
        "# fonksiyon 1 kez tanımlanır, çokkez çağrılır....\n",
        "my_add(2,3)\n",
        "my_add(-2,5)\n",
        "my_add(\"ali\",\"veli\")\n",
        "#my_add(3.4, \"5.4\")"
      ],
      "metadata": {
        "colab": {
          "base_uri": "https://localhost:8080/"
        },
        "id": "yd_yTgJ_85dn",
        "outputId": "0ea2fe6a-d9c9-45b6-aa13-957765823735"
      },
      "execution_count": 58,
      "outputs": [
        {
          "output_type": "stream",
          "name": "stdout",
          "text": [
            "5\n",
            "3\n",
            "aliveli\n"
          ]
        }
      ]
    },
    {
      "cell_type": "code",
      "source": [
        "#@author:sabahattin\n",
        "#a = float(input('Birinci sayiyi giriniz'))\n",
        "#b = float(input('Ikinci sayiyi giriniz'))\n",
        "#c = input('islemi giriniz')\n",
        "def calculator(a,b,c):\n",
        "    if c == '+':\n",
        "        print(a+b)\n",
        "    elif c == '-':\n",
        "        print(a-b)\n",
        "    elif c == '*':\n",
        "        print(a*b)\n",
        "    elif c == '/':\n",
        "        print(a/b)\n",
        "    else:\n",
        "        print(\"Bilinmeyen işlem!!!\")\n",
        "#çağıralım\n",
        "calculator(3,5,'+')\n",
        "calculator(3,5,'*')"
      ],
      "metadata": {
        "colab": {
          "base_uri": "https://localhost:8080/"
        },
        "id": "VhfkCepnATCg",
        "outputId": "347e7dc6-a777-4529-9af3-80df3c45d43a"
      },
      "execution_count": 65,
      "outputs": [
        {
          "output_type": "stream",
          "name": "stdout",
          "text": [
            "8\n",
            "15\n"
          ]
        }
      ]
    },
    {
      "cell_type": "code",
      "source": [
        "def calculator(a,b,op):\n",
        "    match op:\n",
        "        case \"+\":\n",
        "            print(a+b)\n",
        "        case \"*\":\n",
        "            print(a*b)\n",
        "        case \"-\":\n",
        "            print(a-b)\n",
        "        case \"/\":\n",
        "            print(a/b)\n",
        "        case _:  # else\n",
        "            print(\"Bilinmeyen işlem!!!\")\n",
        "\n",
        "#çağırma\n",
        "a = 5\n",
        "b = 6\n",
        "calculator(a,b,\"+\")\n",
        "calculator(a,b,\"*\")\n",
        "calculator(a,b,\"/\")\n",
        "calculator(a,b,\"-\")\n",
        "calculator(a,b,\"%\")"
      ],
      "metadata": {
        "colab": {
          "base_uri": "https://localhost:8080/"
        },
        "id": "CwdSheSHBB5e",
        "outputId": "b8985120-4075-43f8-af08-1e70c3893d3e"
      },
      "execution_count": 68,
      "outputs": [
        {
          "output_type": "stream",
          "name": "stdout",
          "text": [
            "11\n",
            "30\n",
            "0.8333333333333334\n",
            "-1\n",
            "Bilinmeyen işlem!!!\n"
          ]
        }
      ]
    },
    {
      "cell_type": "code",
      "source": [
        "def multiply(a,b):\n",
        "    print(a*b)\n",
        "\n",
        "# çağıralım\n",
        "multiply(3,4)"
      ],
      "metadata": {
        "colab": {
          "base_uri": "https://localhost:8080/"
        },
        "id": "1ksQtCVACvp-",
        "outputId": "5c4711eb-e7c9-4dc0-dda1-cb8c6b96a6c3"
      },
      "execution_count": 69,
      "outputs": [
        {
          "output_type": "stream",
          "name": "stdout",
          "text": [
            "12\n"
          ]
        }
      ]
    },
    {
      "cell_type": "code",
      "source": [
        "def multiply(a,b):\n",
        "    print(a*b)  #fonksiyon tipi: NoneType\n",
        "\n",
        "# çağıralım\n",
        "print(multiply(3,4))\n",
        "print(type(multiply(3,4)))"
      ],
      "metadata": {
        "colab": {
          "base_uri": "https://localhost:8080/"
        },
        "id": "a6w3kQDbC4dG",
        "outputId": "8ad2b8b5-aaa1-47e6-8b91-f2280fbc7c37"
      },
      "execution_count": 73,
      "outputs": [
        {
          "output_type": "stream",
          "name": "stdout",
          "text": [
            "12\n",
            "None\n",
            "12\n",
            "<class 'NoneType'>\n"
          ]
        }
      ]
    },
    {
      "cell_type": "code",
      "source": [
        "print(print())"
      ],
      "metadata": {
        "colab": {
          "base_uri": "https://localhost:8080/"
        },
        "id": "XucktAZxC-81",
        "outputId": "43b6129f-ca02-43db-e392-46314805b914"
      },
      "execution_count": 71,
      "outputs": [
        {
          "output_type": "stream",
          "name": "stdout",
          "text": [
            "\n",
            "None\n"
          ]
        }
      ]
    },
    {
      "cell_type": "code",
      "source": [
        "def multiply(a,b):\n",
        "    return (a*b)\n",
        "\n",
        "# çağıralım\n",
        "print(multiply(3,4))\n",
        "print(type(multiply(3,4)))"
      ],
      "metadata": {
        "colab": {
          "base_uri": "https://localhost:8080/"
        },
        "id": "V-iGGkmLDQS9",
        "outputId": "39de329f-4591-4327-e1fe-efa6ddd74459"
      },
      "execution_count": 76,
      "outputs": [
        {
          "output_type": "stream",
          "name": "stdout",
          "text": [
            "12\n",
            "<class 'int'>\n"
          ]
        }
      ]
    },
    {
      "cell_type": "code",
      "source": [
        "name = print(\"ali\")\n",
        "print(name)\n",
        "print(type(name))"
      ],
      "metadata": {
        "colab": {
          "base_uri": "https://localhost:8080/"
        },
        "id": "mpNLue2mD6mI",
        "outputId": "abb49276-42a8-4d3e-8574-a8fd740fb90d"
      },
      "execution_count": 80,
      "outputs": [
        {
          "output_type": "stream",
          "name": "stdout",
          "text": [
            "ali\n",
            "None\n",
            "<class 'NoneType'>\n"
          ]
        }
      ]
    },
    {
      "cell_type": "code",
      "source": [
        "nums = [1,2,3].sort()\n",
        "print(nums)"
      ],
      "metadata": {
        "colab": {
          "base_uri": "https://localhost:8080/"
        },
        "id": "lMlmuRE1ES7r",
        "outputId": "a0225acf-29c1-41e3-9af8-aca9a1e466ed"
      },
      "execution_count": 81,
      "outputs": [
        {
          "output_type": "stream",
          "name": "stdout",
          "text": [
            "None\n"
          ]
        }
      ]
    },
    {
      "cell_type": "code",
      "source": [
        "def calculator(a,b,c):\n",
        "    if c == '+':\n",
        "        return a+b\n",
        "    elif c == '-':\n",
        "        return a-b\n",
        "    elif c == '*':\n",
        "        return a*b\n",
        "    elif c == '/':\n",
        "        return a/b\n",
        "    else:\n",
        "        return \"Bilinmeyen işlem!!!\", c\n",
        "#çağıralım\n",
        "print(calculator(3,5,'+'))\n",
        "print(calculator(3,5,'*'))\n",
        "print(calculator(3,5,'-'))\n",
        "bolme = calculator(3,5,'op')\n",
        "print(bolme)"
      ],
      "metadata": {
        "colab": {
          "base_uri": "https://localhost:8080/"
        },
        "id": "BFA1TtkMHiPo",
        "outputId": "d30bfead-3daf-4c04-a784-cebdda8c1622"
      },
      "execution_count": 89,
      "outputs": [
        {
          "output_type": "stream",
          "name": "stdout",
          "text": [
            "8\n",
            "15\n",
            "-2\n",
            "('Bilinmeyen işlem!!!', 'op')\n"
          ]
        }
      ]
    },
    {
      "cell_type": "code",
      "source": [
        "def calculator(a,b,op):\n",
        "    match op:\n",
        "        case \"+\":\n",
        "            return (a+b)\n",
        "        case \"*\":\n",
        "            return (a*b)\n",
        "        case \"-\":\n",
        "            return (a-b)\n",
        "        case \"/\":\n",
        "            return (a/b)\n",
        "        case _:  # else\n",
        "            return f\"Bilinmeyen işlem!!! {op}\"\n",
        "\n",
        "#çağırma\n",
        "a = 5\n",
        "b = 6\n",
        "print(calculator(a,b,\"+\"))\n",
        "print(calculator(a,b,\"*\"))\n",
        "print(calculator(a,b,\"/\"))\n",
        "print(calculator(a,b,\"-\"))\n",
        "print(calculator(a,b,\"%\"))"
      ],
      "metadata": {
        "colab": {
          "base_uri": "https://localhost:8080/"
        },
        "id": "LuGjKp0GIEqI",
        "outputId": "b428edb9-fb59-40f3-d600-a69945b130ca"
      },
      "execution_count": 90,
      "outputs": [
        {
          "output_type": "stream",
          "name": "stdout",
          "text": [
            "11\n",
            "30\n",
            "0.8333333333333334\n",
            "-1\n",
            "Bilinmeyen işlem!!! %\n"
          ]
        }
      ]
    },
    {
      "cell_type": "code",
      "source": [
        "abs(3.3)"
      ],
      "metadata": {
        "colab": {
          "base_uri": "https://localhost:8080/"
        },
        "id": "Z6Q8LnnaJCiW",
        "outputId": "d7fc68a0-f22a-47ac-cf7a-960199751d6d"
      },
      "execution_count": 91,
      "outputs": [
        {
          "output_type": "execute_result",
          "data": {
            "text/plain": [
              "3.3"
            ]
          },
          "metadata": {},
          "execution_count": 91
        }
      ]
    },
    {
      "cell_type": "code",
      "source": [
        "abs(-4)"
      ],
      "metadata": {
        "colab": {
          "base_uri": "https://localhost:8080/"
        },
        "id": "OepBHQxgJFFZ",
        "outputId": "1beaf29f-067c-407d-fa8b-4d43986f17d8"
      },
      "execution_count": 92,
      "outputs": [
        {
          "output_type": "execute_result",
          "data": {
            "text/plain": [
              "4"
            ]
          },
          "metadata": {},
          "execution_count": 92
        }
      ]
    },
    {
      "cell_type": "code",
      "source": [
        "#@author:sabahattin\n",
        "def my_abs(a):\n",
        "    \"\"\"\n",
        "    my_abs: bir sayının mutlak değerini alır\n",
        "    \"\"\"\n",
        "    return a if a>=0 else -a\n",
        "#çağıralım\n",
        "my_abs(-6)"
      ],
      "metadata": {
        "colab": {
          "base_uri": "https://localhost:8080/"
        },
        "id": "zecNXAZDJhLV",
        "outputId": "18512cda-f2bf-4c47-913f-bc96f1b3e7cd"
      },
      "execution_count": 94,
      "outputs": [
        {
          "output_type": "execute_result",
          "data": {
            "text/plain": [
              "6"
            ]
          },
          "metadata": {},
          "execution_count": 94
        }
      ]
    },
    {
      "cell_type": "code",
      "source": [
        "print(my_abs.__doc__)"
      ],
      "metadata": {
        "colab": {
          "base_uri": "https://localhost:8080/"
        },
        "id": "0-nOChB3KXdZ",
        "outputId": "b80e1ba5-7491-4ed0-cfe9-25759017dbe3"
      },
      "execution_count": 96,
      "outputs": [
        {
          "output_type": "stream",
          "name": "stdout",
          "text": [
            "\n",
            "    my_abs: bir sayının mutlak değerini alır\n",
            "    \n"
          ]
        }
      ]
    },
    {
      "cell_type": "code",
      "source": [
        "#@author:sabahattin\n",
        "def my_abs(a):\n",
        "    \"\"\"\n",
        "    my_abs: bir sayının mutlak değerini alır\n",
        "    \"\"\"\n",
        "    sonuc = a if a>=0 else -a\n",
        "    return sonuc\n",
        "#çağıralım\n",
        "my_abs(-6)"
      ],
      "metadata": {
        "colab": {
          "base_uri": "https://localhost:8080/"
        },
        "id": "GwOG-BqHKo8d",
        "outputId": "cdbd245c-851f-481f-9071-ec8f7bf00a43"
      },
      "execution_count": 97,
      "outputs": [
        {
          "output_type": "execute_result",
          "data": {
            "text/plain": [
              "6"
            ]
          },
          "metadata": {},
          "execution_count": 97
        }
      ]
    },
    {
      "cell_type": "code",
      "source": [
        "def absolute_value(num):\n",
        "    \"\"\"\n",
        "    Bu fonksiyon abs() nin işlevini görür\n",
        "    \"\"\"\n",
        "    if num<0:\n",
        "        return -num\n",
        "    else:\n",
        "        return num\n",
        "\n",
        "#çağıralım\n",
        "num = float(input(\"bir say giriniz..:  \"))\n",
        "print(absolute_value(num))\n",
        "print(absolute_value.__doc__)"
      ],
      "metadata": {
        "colab": {
          "base_uri": "https://localhost:8080/"
        },
        "id": "-aqgq1ouKweX",
        "outputId": "1797bc37-d1fd-433d-a05f-8db9a1e7ac5c"
      },
      "execution_count": 98,
      "outputs": [
        {
          "output_type": "stream",
          "name": "stdout",
          "text": [
            "bir say giriniz..:  -7\n",
            "7.0\n",
            "\n",
            "    Bu fonksiyon abs() nin işlevini görür\n",
            "    \n"
          ]
        }
      ]
    },
    {
      "cell_type": "code",
      "source": [
        "abs(-9.9)"
      ],
      "metadata": {
        "colab": {
          "base_uri": "https://localhost:8080/"
        },
        "id": "zzRLTL1eLSTT",
        "outputId": "95351db6-ad17-49e8-fe89-2954a8e3f0e2"
      },
      "execution_count": 99,
      "outputs": [
        {
          "output_type": "execute_result",
          "data": {
            "text/plain": [
              "9.9"
            ]
          },
          "metadata": {},
          "execution_count": 99
        }
      ]
    },
    {
      "cell_type": "code",
      "source": [
        "bin(3)\n",
        "#'0b11'"
      ],
      "metadata": {
        "colab": {
          "base_uri": "https://localhost:8080/",
          "height": 35
        },
        "id": "KKTSKDnoL31O",
        "outputId": "3c00e818-eabc-439e-f09a-f4de00976850"
      },
      "execution_count": 100,
      "outputs": [
        {
          "output_type": "execute_result",
          "data": {
            "text/plain": [
              "'0b11'"
            ],
            "application/vnd.google.colaboratory.intrinsic+json": {
              "type": "string"
            }
          },
          "metadata": {},
          "execution_count": 100
        }
      ]
    },
    {
      "cell_type": "code",
      "source": [
        "f\"{3:0b}\""
      ],
      "metadata": {
        "colab": {
          "base_uri": "https://localhost:8080/",
          "height": 35
        },
        "id": "jARQyD8sL6DR",
        "outputId": "e7f22ed1-adca-4a00-dcc0-669ffb4a13e4"
      },
      "execution_count": 101,
      "outputs": [
        {
          "output_type": "execute_result",
          "data": {
            "text/plain": [
              "'11'"
            ],
            "application/vnd.google.colaboratory.intrinsic+json": {
              "type": "string"
            }
          },
          "metadata": {},
          "execution_count": 101
        }
      ]
    },
    {
      "cell_type": "code",
      "source": [
        "f\"{3:#b}\""
      ],
      "metadata": {
        "colab": {
          "base_uri": "https://localhost:8080/",
          "height": 35
        },
        "id": "dQYsZEEoMACS",
        "outputId": "b78f75e2-4272-4a0a-d87f-d63ce665ba57"
      },
      "execution_count": 102,
      "outputs": [
        {
          "output_type": "execute_result",
          "data": {
            "text/plain": [
              "'0b11'"
            ],
            "application/vnd.google.colaboratory.intrinsic+json": {
              "type": "string"
            }
          },
          "metadata": {},
          "execution_count": 102
        }
      ]
    },
    {
      "cell_type": "code",
      "source": [
        "bool(3)"
      ],
      "metadata": {
        "colab": {
          "base_uri": "https://localhost:8080/"
        },
        "id": "qNJ0CvU-MYhe",
        "outputId": "6194d60e-6d97-4809-9c4f-d7b0a3140c99"
      },
      "execution_count": 103,
      "outputs": [
        {
          "output_type": "execute_result",
          "data": {
            "text/plain": [
              "True"
            ]
          },
          "metadata": {},
          "execution_count": 103
        }
      ]
    },
    {
      "cell_type": "code",
      "source": [
        "bool(\"\")"
      ],
      "metadata": {
        "colab": {
          "base_uri": "https://localhost:8080/"
        },
        "id": "HpMGkeQEMa1F",
        "outputId": "52d94218-71a8-49d4-cdb3-07067f1c05ac"
      },
      "execution_count": 104,
      "outputs": [
        {
          "output_type": "execute_result",
          "data": {
            "text/plain": [
              "False"
            ]
          },
          "metadata": {},
          "execution_count": 104
        }
      ]
    },
    {
      "cell_type": "code",
      "source": [
        "bool(False)"
      ],
      "metadata": {
        "colab": {
          "base_uri": "https://localhost:8080/"
        },
        "id": "2W1W5vLpNRH-",
        "outputId": "b654bab7-9e75-4e2f-84b0-f8bf213511a3"
      },
      "execution_count": 107,
      "outputs": [
        {
          "output_type": "execute_result",
          "data": {
            "text/plain": [
              "False"
            ]
          },
          "metadata": {},
          "execution_count": 107
        }
      ]
    },
    {
      "cell_type": "code",
      "source": [
        "bool(None)"
      ],
      "metadata": {
        "colab": {
          "base_uri": "https://localhost:8080/"
        },
        "id": "DTKw10eyNhVS",
        "outputId": "f90fdfc4-5c48-4de9-f950-8cd9e23fd031"
      },
      "execution_count": 112,
      "outputs": [
        {
          "output_type": "execute_result",
          "data": {
            "text/plain": [
              "False"
            ]
          },
          "metadata": {},
          "execution_count": 112
        }
      ]
    },
    {
      "cell_type": "code",
      "source": [
        "def my_bool(arg):\n",
        "    \"\"\"\n",
        "    Bu da bizim bool() fonksiyonumuz...\n",
        "    \"\"\"\n",
        "    if arg in [0, 0.0, 0j, \"\", (), [], {}, set(), None]:\n",
        "        return False\n",
        "    else:\n",
        "        return True \n",
        "#çağıralım\n",
        "print(my_bool(3))\n",
        "print(my_bool(\"\"))\n",
        "print(my_bool(False))\n",
        "print(my_bool(True))\n",
        "print(my_bool(None))"
      ],
      "metadata": {
        "colab": {
          "base_uri": "https://localhost:8080/"
        },
        "id": "hA25ni1NMe-t",
        "outputId": "6a12dbe2-3b6e-48c7-fb87-be775dd89a33"
      },
      "execution_count": 111,
      "outputs": [
        {
          "output_type": "stream",
          "name": "stdout",
          "text": [
            "True\n",
            "False\n",
            "False\n",
            "True\n",
            "False\n"
          ]
        }
      ]
    },
    {
      "cell_type": "code",
      "source": [
        "chr(65)"
      ],
      "metadata": {
        "colab": {
          "base_uri": "https://localhost:8080/",
          "height": 35
        },
        "id": "OR8F0hVJNwFV",
        "outputId": "258212e1-8378-4a18-a902-5cd3dec5d558"
      },
      "execution_count": 113,
      "outputs": [
        {
          "output_type": "execute_result",
          "data": {
            "text/plain": [
              "'A'"
            ],
            "application/vnd.google.colaboratory.intrinsic+json": {
              "type": "string"
            }
          },
          "metadata": {},
          "execution_count": 113
        }
      ]
    },
    {
      "cell_type": "code",
      "source": [
        "chr(90)"
      ],
      "metadata": {
        "colab": {
          "base_uri": "https://localhost:8080/",
          "height": 35
        },
        "id": "WSzzp6a5Ny8V",
        "outputId": "667d799d-9bc4-420a-859a-7818408c0b54"
      },
      "execution_count": 114,
      "outputs": [
        {
          "output_type": "execute_result",
          "data": {
            "text/plain": [
              "'Z'"
            ],
            "application/vnd.google.colaboratory.intrinsic+json": {
              "type": "string"
            }
          },
          "metadata": {},
          "execution_count": 114
        }
      ]
    },
    {
      "cell_type": "code",
      "source": [
        "ord('Z')"
      ],
      "metadata": {
        "colab": {
          "base_uri": "https://localhost:8080/"
        },
        "id": "3GbqNZ4LN1OG",
        "outputId": "3e946939-f9dc-4b63-94bf-4eb7e3a768b9"
      },
      "execution_count": 115,
      "outputs": [
        {
          "output_type": "execute_result",
          "data": {
            "text/plain": [
              "90"
            ]
          },
          "metadata": {},
          "execution_count": 115
        }
      ]
    },
    {
      "cell_type": "code",
      "source": [
        "for c in range(65,91):\n",
        "    print(chr(c), end=\" \")"
      ],
      "metadata": {
        "colab": {
          "base_uri": "https://localhost:8080/"
        },
        "id": "HLce_T6-N5rP",
        "outputId": "4b8d07ed-098f-4ca7-ca85-90f02489efb1"
      },
      "execution_count": 117,
      "outputs": [
        {
          "output_type": "stream",
          "name": "stdout",
          "text": [
            "A B C D E F G H I J K L M N O P Q R S T U V W X Y Z "
          ]
        }
      ]
    },
    {
      "cell_type": "code",
      "source": [
        "complex(3,5)"
      ],
      "metadata": {
        "colab": {
          "base_uri": "https://localhost:8080/"
        },
        "id": "hIX6JGTMOMbB",
        "outputId": "4e6a8ea2-8649-4ee7-9726-99e07fb1d3cb"
      },
      "execution_count": 118,
      "outputs": [
        {
          "output_type": "execute_result",
          "data": {
            "text/plain": [
              "(3+5j)"
            ]
          },
          "metadata": {},
          "execution_count": 118
        }
      ]
    },
    {
      "cell_type": "code",
      "source": [
        "divmod(9, 2)  # tam bölme ve kalan"
      ],
      "metadata": {
        "colab": {
          "base_uri": "https://localhost:8080/"
        },
        "id": "DSo0J6VtOWpC",
        "outputId": "1cd98d7c-dbfb-4a44-a58f-7c407a37de30"
      },
      "execution_count": 119,
      "outputs": [
        {
          "output_type": "execute_result",
          "data": {
            "text/plain": [
              "(4, 1)"
            ]
          },
          "metadata": {},
          "execution_count": 119
        }
      ]
    },
    {
      "cell_type": "code",
      "source": [
        "x = 1\n",
        "eval('x+1')  # string formatta verilen python komutunu çalıştırır"
      ],
      "metadata": {
        "colab": {
          "base_uri": "https://localhost:8080/"
        },
        "id": "YMyVcoULOgvu",
        "outputId": "153342a8-c01e-435b-ef4a-85b798741211"
      },
      "execution_count": 120,
      "outputs": [
        {
          "output_type": "execute_result",
          "data": {
            "text/plain": [
              "2"
            ]
          },
          "metadata": {},
          "execution_count": 120
        }
      ]
    },
    {
      "cell_type": "code",
      "source": [
        "sum(eval(input()))"
      ],
      "metadata": {
        "colab": {
          "base_uri": "https://localhost:8080/"
        },
        "id": "EGCLuyr_OoTT",
        "outputId": "2fe16851-802f-46ec-f92d-deb16d51951e"
      },
      "execution_count": 121,
      "outputs": [
        {
          "name": "stdout",
          "output_type": "stream",
          "text": [
            "1,2,3,4,5\n"
          ]
        },
        {
          "output_type": "execute_result",
          "data": {
            "text/plain": [
              "15"
            ]
          },
          "metadata": {},
          "execution_count": 121
        }
      ]
    },
    {
      "cell_type": "code",
      "source": [
        "format(255, \"0x\")"
      ],
      "metadata": {
        "colab": {
          "base_uri": "https://localhost:8080/",
          "height": 35
        },
        "id": "y_r_BvM0O5RE",
        "outputId": "02052b5d-2d06-4b7b-cd21-b190925b13d9"
      },
      "execution_count": 122,
      "outputs": [
        {
          "output_type": "execute_result",
          "data": {
            "text/plain": [
              "'ff'"
            ],
            "application/vnd.google.colaboratory.intrinsic+json": {
              "type": "string"
            }
          },
          "metadata": {},
          "execution_count": 122
        }
      ]
    },
    {
      "cell_type": "code",
      "source": [
        "\"{:0x}\".format(255)"
      ],
      "metadata": {
        "colab": {
          "base_uri": "https://localhost:8080/",
          "height": 35
        },
        "id": "qzfOdwZXO-pl",
        "outputId": "c633a295-ebd2-4ab5-e880-e5e460c70c60"
      },
      "execution_count": 123,
      "outputs": [
        {
          "output_type": "execute_result",
          "data": {
            "text/plain": [
              "'ff'"
            ],
            "application/vnd.google.colaboratory.intrinsic+json": {
              "type": "string"
            }
          },
          "metadata": {},
          "execution_count": 123
        }
      ]
    },
    {
      "cell_type": "code",
      "source": [
        "hex(255)\n",
        "#'0xff'"
      ],
      "metadata": {
        "colab": {
          "base_uri": "https://localhost:8080/",
          "height": 35
        },
        "id": "M9ug0IHDPP-7",
        "outputId": "49b43959-5712-4541-edc5-6bafe46567df"
      },
      "execution_count": 124,
      "outputs": [
        {
          "output_type": "execute_result",
          "data": {
            "text/plain": [
              "'0xff'"
            ],
            "application/vnd.google.colaboratory.intrinsic+json": {
              "type": "string"
            }
          },
          "metadata": {},
          "execution_count": 124
        }
      ]
    },
    {
      "cell_type": "code",
      "source": [
        "a = 5\n",
        "b = 5\n",
        "print(a == b)  # içerikleri aynı mı?\n",
        "print(a is b)  # bellek adresleri aynı mı?\n",
        "print(id(a)==id(b))  # id(a) : a nın bellek aderini verir"
      ],
      "metadata": {
        "colab": {
          "base_uri": "https://localhost:8080/"
        },
        "id": "mnVtZvzBPY37",
        "outputId": "069e29ae-2b76-42aa-a416-5fc53f0fdb1d"
      },
      "execution_count": 129,
      "outputs": [
        {
          "output_type": "stream",
          "name": "stdout",
          "text": [
            "True\n",
            "True\n",
            "True\n"
          ]
        }
      ]
    },
    {
      "cell_type": "code",
      "source": [
        "id(a)"
      ],
      "metadata": {
        "colab": {
          "base_uri": "https://localhost:8080/"
        },
        "id": "Lle_6d_pQA86",
        "outputId": "bdc2a5be-2d53-4241-a9d2-e5113ac27da1"
      },
      "execution_count": 130,
      "outputs": [
        {
          "output_type": "execute_result",
          "data": {
            "text/plain": [
              "140364761973104"
            ]
          },
          "metadata": {},
          "execution_count": 130
        }
      ]
    },
    {
      "cell_type": "code",
      "source": [
        "id(b)"
      ],
      "metadata": {
        "colab": {
          "base_uri": "https://localhost:8080/"
        },
        "id": "MwpMkNnUQD8a",
        "outputId": "9830e605-f3d6-482a-8b3a-68ba097b326d"
      },
      "execution_count": 131,
      "outputs": [
        {
          "output_type": "execute_result",
          "data": {
            "text/plain": [
              "140364761973104"
            ]
          },
          "metadata": {},
          "execution_count": 131
        }
      ]
    },
    {
      "cell_type": "code",
      "source": [
        "a1 = 58999999\n",
        "b1 = 58999999\n",
        "print(a1 == b1)\n",
        "print(a1 is b1)\n",
        "print(id(a1)==id(b1))"
      ],
      "metadata": {
        "colab": {
          "base_uri": "https://localhost:8080/"
        },
        "id": "b6nZzlilPnj1",
        "outputId": "e315392c-2632-4f8c-f8c8-00ef2aa3d20b"
      },
      "execution_count": 132,
      "outputs": [
        {
          "output_type": "stream",
          "name": "stdout",
          "text": [
            "True\n",
            "False\n",
            "False\n"
          ]
        }
      ]
    },
    {
      "cell_type": "code",
      "source": [
        "id(a1)"
      ],
      "metadata": {
        "colab": {
          "base_uri": "https://localhost:8080/"
        },
        "id": "0VzP8b90QNVC",
        "outputId": "09d541ac-c3c4-4c3f-c51b-2ff112bb00ed"
      },
      "execution_count": 133,
      "outputs": [
        {
          "output_type": "execute_result",
          "data": {
            "text/plain": [
              "140363510323920"
            ]
          },
          "metadata": {},
          "execution_count": 133
        }
      ]
    },
    {
      "cell_type": "code",
      "source": [
        "id(b1)"
      ],
      "metadata": {
        "colab": {
          "base_uri": "https://localhost:8080/"
        },
        "id": "kXcW26KuQPpv",
        "outputId": "f9280a45-8b60-45b2-db41-99e9731ad643"
      },
      "execution_count": 135,
      "outputs": [
        {
          "output_type": "execute_result",
          "data": {
            "text/plain": [
              "140363510322672"
            ]
          },
          "metadata": {},
          "execution_count": 135
        }
      ]
    }
  ]
}